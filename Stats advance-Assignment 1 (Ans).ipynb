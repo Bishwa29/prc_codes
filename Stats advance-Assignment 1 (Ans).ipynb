{
 "cells": [
  {
   "cell_type": "code",
   "execution_count": 1,
   "id": "a9933076-386a-4f10-8b0d-5959180fe667",
   "metadata": {},
   "outputs": [],
   "source": [
    "##Statistics Advance-1 Assignment"
   ]
  },
  {
   "cell_type": "code",
   "execution_count": null,
   "id": "71a9516e-5a77-4176-b23c-5cc92a70dd8c",
   "metadata": {},
   "outputs": [],
   "source": [
    "##Q1. What is the Probability density function?\n",
    "\n",
    "##A1. A probability density function (PDF) is a mathematical function that describes the likelihood of a continuous random variable taking on a particular value. \n",
    "## Unlike the probability mass function (PMF), which is used for discrete random variables, the PDF is used for continuous random variables."
   ]
  },
  {
   "cell_type": "code",
   "execution_count": null,
   "id": "d64acdd8-e5d2-440b-b0ea-47a853478230",
   "metadata": {},
   "outputs": [],
   "source": [
    "##Q2. What are the types of Probability distribution?\n",
    "\n",
    "##A2. Some of the most common types include:\n",
    "\n",
    "##Uniform Distribution: In this distribution, all outcomes are equally likely. It is characterized by a constant PDF over a finite interval.\n",
    "\n",
    "##Normal Distribution (Gaussian Distribution): This is perhaps the most well-known distribution, often appearing as a bell-shaped curve. It is characterized by its mean and standard deviation, and many natural phenomena tend to follow this distribution due to the central limit theorem.\n",
    "\n",
    "##Binomial Distribution: This distribution describes the number of successes in a fixed number of independent Bernoulli trials (experiments with two possible outcomes) with the same probability of success.\n",
    "\n",
    "##Poisson Distribution: It describes the number of events occurring in a fixed interval of time or space, given a constant average rate of occurrence. It's often used to model rare events."
   ]
  },
  {
   "cell_type": "code",
   "execution_count": 2,
   "id": "a476c9af-e88a-474b-be95-479dec9cfaa8",
   "metadata": {},
   "outputs": [
    {
     "name": "stdout",
     "output_type": "stream",
     "text": [
      "PDF at x = 1 : 0.24197072451914337\n"
     ]
    }
   ],
   "source": [
    "##Q3. Write a Python function to calculate the probability density function of a normal distribution with given mean and standard deviation at a given point.\n",
    "\n",
    "##A3. \n",
    "\n",
    "import math\n",
    "\n",
    "def normal_pdf(x, mean, std_dev):\n",
    "    \"\"\"\n",
    "    Calculate the probability density function (PDF) of a normal distribution at a given point.\n",
    "\n",
    "    Args:\n",
    "    x (float): The point at which to evaluate the PDF.\n",
    "    mean (float): The mean of the normal distribution.\n",
    "    std_dev (float): The standard deviation of the normal distribution.\n",
    "\n",
    "    Returns:\n",
    "    float: The PDF value at the given point.\n",
    "    \"\"\"\n",
    "    exponent = -((x - mean) ** 2) / (2 * (std_dev ** 2))\n",
    "    pdf = (1 / (std_dev * math.sqrt(2 * math.pi))) * math.exp(exponent)\n",
    "    return pdf\n",
    "\n",
    "# Example usage:\n",
    "mean = 0  # Mean of the normal distribution\n",
    "std_dev = 1  # Standard deviation of the normal distribution\n",
    "x = 1  # Point at which to evaluate the PDF\n",
    "pdf_value = normal_pdf(x, mean, std_dev)\n",
    "print(\"PDF at x =\", x, \":\", pdf_value)\n"
   ]
  },
  {
   "cell_type": "code",
   "execution_count": null,
   "id": "a505f674-52e1-4b78-8896-2a86a6b916d4",
   "metadata": {},
   "outputs": [],
   "source": [
    "##Q4. What are the properties of Binomial distribution? Give two examples of events where binomial distribution can be applied.\n",
    "\n",
    "##A4. This distribution describes the number of successes in a fixed number of independent Bernoulli trials (experiments with two possible outcomes) with the same probability of success.\n",
    "\n",
    "##Two examples are:\n",
    "\n",
    "##Distribution of a sample of fair coin tosses (H could be success and T could be failure)\n",
    "\n",
    "##Distribution of the results of students in a school (pass could be success and fail could be failure)"
   ]
  },
  {
   "cell_type": "code",
   "execution_count": 3,
   "id": "80b4476a-d49f-4f12-ba7e-94c654349532",
   "metadata": {},
   "outputs": [
    {
     "data": {
      "image/png": "[encoded data removed]",
      "text/plain": [
       "<Figure size 640x480 with 1 Axes>"
      ]
     },
     "metadata": {},
     "output_type": "display_data"
    }
   ],
   "source": [
    "##Q5. Generate a random sample of size 1000 from a binomial distribution with probability of success 0.4 and plot a histogram of the results using matplotlib.\n",
    "\n",
    "##A5. \n",
    "\n",
    "import numpy as np\n",
    "import matplotlib.pyplot as plt\n",
    "\n",
    "# Parameters for the binomial distribution\n",
    "n = 10   # number of trials\n",
    "p = 0.4  # probability of success\n",
    "\n",
    "# Generate a random sample of size 1000 from the binomial distribution\n",
    "sample = np.random.binomial(n, p, 1000)\n",
    "\n",
    "# Plot a histogram of the sample\n",
    "plt.hist(sample, bins=np.arange(0, n+2)-0.5, edgecolor='black', alpha=0.7)\n",
    "plt.xlabel('Number of Successes')\n",
    "plt.ylabel('Frequency')\n",
    "plt.title('Histogram of Binomial Distribution (n=10, p=0.4)')\n",
    "plt.grid(True)\n",
    "plt.show()"
   ]
  },
  {
   "cell_type": "code",
   "execution_count": 5,
   "id": "c300c598-e11d-4dc0-ace4-9c2bd08d72e0",
   "metadata": {},
   "outputs": [
    {
     "name": "stdout",
     "output_type": "stream",
     "text": [
      "CDF at k = 1 : 0.19914827347145578\n"
     ]
    }
   ],
   "source": [
    "##Q6. Write a Python function to calculate the cumulative distribution function of a Poisson distribution with given mean at a given point.\n",
    "\n",
    "##A6. \n",
    "import math\n",
    "\n",
    "def poisson_cdf(k, mean):\n",
    "    \"\"\"\n",
    "    Calculate the cumulative distribution function (CDF) of a Poisson distribution at a given point.\n",
    "\n",
    "    Args:\n",
    "    k (int): The point at which to evaluate the CDF.\n",
    "    mean (float): The mean of the Poisson distribution.\n",
    "\n",
    "    Returns:\n",
    "    float: The CDF value at the given point.\n",
    "    \"\"\"\n",
    "    cdf = 0\n",
    "    for i in range(k + 1):\n",
    "        cdf += math.exp(-mean) * (mean ** i) / math.factorial(i)\n",
    "    return cdf\n",
    "\n",
    "# Example usage:\n",
    "mean = 3  # Mean of the Poisson distribution\n",
    "k = 1     # Point at which to evaluate the CDF\n",
    "cdf_value = poisson_cdf(k, mean)\n",
    "print(\"CDF at k =\", k, \":\", cdf_value)"
   ]
  },
  {
   "cell_type": "code",
   "execution_count": null,
   "id": "70cfeb50-3aca-46f2-9bd8-7d036aa6a1be",
   "metadata": {},
   "outputs": [],
   "source": [
    "##Q7. How Binomial distribution different from Poisson distribution?\n",
    "\n",
    "##A7. The Binomial and Poisson distributions are both used to model the number of successes in a series of independent trials or events. However, they have different characteristics and are used in different scenarios.\n",
    "\n",
    "##1. **Number of Trials**:\n",
    "##   - In a Binomial distribution, the number of trials (denoted by \\( n \\)) is fixed and known in advance.\n",
    "##   - In a Poisson distribution, the number of trials is not fixed; it represents the number of events occurring in a fixed interval of time or space.\n",
    "\n",
    "##2. **Nature of Events**:\n",
    "##   - In a Binomial distribution, each trial can have only two possible outcomes (success or failure).\n",
    "##   - In a Poisson distribution, the events are usually rare and occur randomly with a constant average rate over time or space.\n",
    "\n",
    "##3. **Parameters**:\n",
    "##   - In a Binomial distribution, the parameters are the number of trials (\\( n \\)) and the probability of success (\\( p \\)).\n",
    "##   - In a Poisson distribution, the parameter is the average rate of occurrence (\\( \\lambda \\)).\n",
    "\n",
    "##4. **Outcome**:\n",
    "##   - The Binomial distribution deals with discrete outcomes: the number of successes in \\( n \\) trials.\n",
    "##   - The Poisson distribution also deals with discrete outcomes: the number of events occurring in a fixed interval.\n",
    "\n",
    "##5. **Shape**:\n",
    "##   - The shape of the Binomial distribution depends on both \\( n \\) and \\( p \\). As \\( n \\) increases and/or \\( p \\) moves away from 0.5, the distribution becomes more symmetric and bell-shaped.\n",
    "##   - The shape of the Poisson distribution depends on \\( \\lambda \\). As \\( \\lambda \\) increases, the distribution becomes more symmetric and bell-shaped.\n",
    "\n",
    "##6. **Limiting Behavior**:\n",
    "##   - As \\( n \\) becomes very large and \\( p \\) becomes very small in the Binomial distribution, it approaches a Poisson distribution with mean \\( \\lambda = np \\).\n",
    "##   - The Poisson distribution is often used as an approximation to the Binomial distribution when \\( n \\) is large and \\( p \\) is small.\n",
    "\n",
    "##In summary, while both distributions model the number of successes in a series of trials, they differ in terms of the nature of the trials, the parameters used, and the scenarios in which they are applicable."
   ]
  },
  {
   "cell_type": "code",
   "execution_count": 6,
   "id": "7efc5dec-4a15-49cf-b4c3-6330a4d2f6a6",
   "metadata": {},
   "outputs": [
    {
     "name": "stdout",
     "output_type": "stream",
     "text": [
      "Sample mean: 5.065\n",
      "Sample variance: 4.742775000000001\n"
     ]
    }
   ],
   "source": [
    "##Q8. Generate a random sample of size 1000 from a Poisson distribution with mean 5 and calculate the sample mean and variance.\n",
    "\n",
    "##A8.\n",
    "import numpy as np\n",
    "\n",
    "# Parameters for the Poisson distribution\n",
    "mean = 5  # mean of the Poisson distribution\n",
    "sample_size = 1000\n",
    "\n",
    "# Generate a random sample of size 1000 from the Poisson distribution\n",
    "sample = np.random.poisson(mean, sample_size)\n",
    "\n",
    "# Calculate the sample mean and variance\n",
    "sample_mean = np.mean(sample)\n",
    "sample_variance = np.var(sample)\n",
    "\n",
    "print(\"Sample mean:\", sample_mean)\n",
    "print(\"Sample variance:\", sample_variance)"
   ]
  },
  {
   "cell_type": "code",
   "execution_count": null,
   "id": "2e6b41bb-d007-47c0-8346-36d9824df248",
   "metadata": {},
   "outputs": [],
   "source": [
    "##Q9. How mean and variance are related in Binomial distribution and Poisson distribution?\n",
    "\n",
    "##A9. \n",
    "##In both the Binomial and Poisson distributions, the mean (μ) and variance (𝜎2) are related, but the specific relationships differ due to the nature of the distributions.\n",
    "\n",
    "##Binomial Distribution:\n",
    "\n",
    "##Mean (μ): For a Binomial distribution with parameters n (number of trials) and p (probability of success), the mean is given by \n",
    "##μ=np.\n",
    "##Variance (𝜎2): The variance of a Binomial distribution is given by \n",
    "##𝜎2=𝑛𝑝(1−𝑝)\n",
    "\n",
    "##Poisson Distribution:\n",
    "\n",
    "##Mean (μ): For a Poisson distribution, the mean (μ) is equal to the average rate of occurrence (λ).\n",
    "##Variance (𝜎2): The variance of a Poisson distribution is also equal to λ. In the Poisson distribution, both the mean and the variance are equal to the average rate of occurrence (λ). This characteristic makes the Poisson distribution unique among probability distributions."
   ]
  },
  {
   "cell_type": "code",
   "execution_count": null,
   "id": "5547e50c-0ae6-4f03-8e60-6ee79eff964b",
   "metadata": {},
   "outputs": [],
   "source": [
    "##Q10. In normal distribution with respect to mean position, where does the least frequent data appear?\n",
    "\n",
    "##A10. The least frequent data lies at the ends of the distribution (beyond +/-3 SD away from the mean)."
   ]
  }
 ],
 "metadata": {
  "kernelspec": {
   "display_name": "Python 3 (ipykernel)",
   "language": "python",
   "name": "python3"
  },
  "language_info": {
   "codemirror_mode": {
    "name": "ipython",
    "version": 3
   },
   "file_extension": ".py",
   "mimetype": "text/x-python",
   "name": "python",
   "nbconvert_exporter": "python",
   "pygments_lexer": "ipython3",
   "version": "3.10.8"
  }
 },
 "nbformat": 4,
 "nbformat_minor": 5
}
