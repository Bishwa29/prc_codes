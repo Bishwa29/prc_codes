{
 "cells": [
  {
   "cell_type": "code",
   "execution_count": 1,
   "id": "dc026ea6-491d-4009-80c6-e3dbd6d047c6",
   "metadata": {},
   "outputs": [],
   "source": [
    "##Statistics Assignment"
   ]
  },
  {
   "cell_type": "code",
   "execution_count": null,
   "id": "50aa48f9-06ef-48c0-8289-c434e666e862",
   "metadata": {},
   "outputs": [],
   "source": [
    "##Q1. What is Statistics?\n",
    "\n",
    "##A1. Statistics is the study of collection, analysis, interpretation, presentation and organization of data. "
   ]
  },
  {
   "cell_type": "code",
   "execution_count": null,
   "id": "95dc1502-65ce-49ae-89d5-aa9c2dcff797",
   "metadata": {},
   "outputs": [],
   "source": [
    "##Q2. Define the different types of statistics and give an example of when each type might be used.\n",
    "\n",
    "##A2. Different types are:\n",
    "\n",
    "##Descriptive statistics: Involves methods for summarizing and describing the features of a dataset.\n",
    "##E.g-there are 5 students in a class and their marks in maths are 50,60,70,80 and 90, then the average marks is 70.\n",
    "\n",
    "##Inferential statistics: Involves methods for making predictions or inferences about a population based on a sample of data.\n",
    "##For example: testing whether the mean exam score of students who received a certain intervention is significantly different from the mean exam score of students who did not receive the intervention."
   ]
  },
  {
   "cell_type": "code",
   "execution_count": null,
   "id": "b3131775-2571-4c60-a154-e1055b8f63d8",
   "metadata": {},
   "outputs": [],
   "source": [
    "##Q3. What are the different types of data and how do they differ from each other? Provide an example of each type of data.\n",
    "\n",
    "##A3. Two broad types of data are:\n",
    "##Qualitative or categorical data\n",
    "##Quantitative or numerical data\n",
    "\n",
    "##In qualitative data, we have the below types:\n",
    "##Nominal data: Data which doesnt have any order or interval and is understood in terms of simple categories.\n",
    "#E.g-Gender (male, female),direction (left, right), etc.,\n",
    "\n",
    "##Ordinal data: Categorical data in which an order exists but interval can not be determined.\n",
    "##E.g-degree of education (bachelors, masters, Ph.D)\n",
    "\n",
    "##Interval data: Categorical data which has order,interval but can not be converted to ratio.\n",
    "##E.g- temperatures (10F, 20F, 30F)\n",
    "\n",
    "##Ratio data: Categorical Data which has order, interval and can be converted to a ratio.\n",
    "##E.g-rating of a movie (1,2,3,4,5 stars)\n",
    "\n",
    "##In quantitative, we have two types:\n",
    "##Discrete data: Data which exists in whole or discete values.\n",
    "##E.g-Count of students in a class \n",
    "\n",
    "##Continuous data: Data which can contain decimals or goes into granularity of measurements.\n",
    "##E.g-measures of height\n",
    "    "
   ]
  },
  {
   "cell_type": "code",
   "execution_count": null,
   "id": "ea4c31ea-155f-4054-940c-490cd0102605",
   "metadata": {},
   "outputs": [],
   "source": [
    "##Q4. Categorise the following datasets with respect to quantitative and qualitative data types:\n",
    "##(i) Grading in exam: A+, A, B+, B, C+, C, D, E\n",
    "##Ans: Qualitative\n",
    "\n",
    "##(ii) Colour of mangoes: yellow, green, orange, red\n",
    "##Ans: Qualitative\n",
    "\n",
    "##(iii) Height data of a class: [178.9, 179, 179.5, 176, 177.2, 178.3, 175.8,...]\n",
    "##Ans: Quantitative \n",
    "\n",
    "##(iv) Number of mangoes exported by a farm: [500, 600, 478, 672, ...]\n",
    "##Ans: Quantitative"
   ]
  },
  {
   "cell_type": "code",
   "execution_count": null,
   "id": "3b4b90d6-bb5c-40e0-83d9-45132fff5bae",
   "metadata": {},
   "outputs": [],
   "source": [
    "##Q5. Explain the concept of levels of measurement and give an example of a variable for each level.\n",
    "\n",
    "##Levels of measurement are:\n",
    "##Nominal level of measurement: Measurement which doesnt have any order or interval and is understood in terms of simple categories.\n",
    "#E.g-Gender (male, female),direction (left, right), etc.,\n",
    "\n",
    "##Ordinal level of measurement: Measurement in which an order exists but interval can not be determined.\n",
    "##E.g-degree of education (bachelors, masters, Ph.D)\n",
    "\n",
    "##Interval level of measurement: Measurement which has order,interval but can not be converted to ratio.\n",
    "##E.g- temperatures (10F, 20F, 30F)\n",
    "\n",
    "##Ratio level of measurement: Measurement which has order, interval and can be converted to a ratio.\n",
    "##E.g-rating of a movie (1,2,3,4,5 stars)"
   ]
  },
  {
   "cell_type": "code",
   "execution_count": null,
   "id": "783d93b3-f319-4c0a-b3de-fe9b1e9ee221",
   "metadata": {},
   "outputs": [],
   "source": [
    "##Q6. Why is it important to understand the level of measurement when analyzing data? Provide an example to illustrate your answer.\n",
    "\n",
    "##A6. Understanding the level of measurement helps in making the right interpretations of the data and choose the right analysis to describe the insights.\n",
    "\n",
    "##For instance: qualitative data such as gender can be best explained using proportions.\n",
    "##There are 60% males and 40% females in the class.\n",
    "##The analysis would be proportion type of explain this data.\n",
    "\n",
    "##For quantitative data such as weight of 5 students (50 kg, 60kg, 80kg, 100kg, 100kg), an analysis such as mean would be useful to explain the data.\n",
    "##We can say that the average weight of the class is 78kg"
   ]
  },
  {
   "cell_type": "code",
   "execution_count": null,
   "id": "f6bb4246-ec3f-4b64-9c7e-09efab82a574",
   "metadata": {},
   "outputs": [],
   "source": [
    "##Q7. How nominal data type is different from ordinal data type.\n",
    "\n",
    "##A7. Nominal data doesnt have any order whereas ordinal data has a particular order.\n",
    "##For example: Nominal data such as gender (male, female) can not be ordered whereas ordinal data such as description of height (tall, short) can be ordered "
   ]
  },
  {
   "cell_type": "code",
   "execution_count": null,
   "id": "1ece3f05-29c6-4bbc-81dc-73e07edb5f16",
   "metadata": {},
   "outputs": [],
   "source": [
    "##Q8. Which type of plot can be used to display data in terms of range?\n",
    "\n",
    "##A8. A line plot or box plot can be useful."
   ]
  },
  {
   "cell_type": "code",
   "execution_count": null,
   "id": "4f8b23eb-1c28-4855-8288-24ff30215e75",
   "metadata": {},
   "outputs": [],
   "source": [
    "##Q9. Describe the difference between descriptive and inferential statistics. Give an example of each type of statistics and explain how they are used. \n",
    "\n",
    "##A9. \n",
    "##Descriptive statistics: Involves methods for summarizing and describing the features of a dataset.\n",
    "##E.g-there are 5 students in a class and their marks in maths are 50,60,70,80 and 90, then the average marks is 70.\n",
    "\n",
    "##Inferential statistics: Involves methods for making predictions or inferences about a population based on a sample of data.\n",
    "##For example: testing whether the mean exam score of students who received a certain intervention is significantly different from the mean exam score of students who did not receive the intervention.\n",
    "\n",
    "##The Key difference between the two statistics is that descriptive is mainly used to describe the sample data whereas inferential statistics is used to derive an understanding of the population from the sample statistics."
   ]
  },
  {
   "cell_type": "code",
   "execution_count": null,
   "id": "34b693f1-cbd9-4630-a1a2-ef369b3812fe",
   "metadata": {},
   "outputs": [],
   "source": [
    "##Q10. What are some common measures of central tendency and variability used in statistics? Explain how each measure can be used to describe a dataset.\n",
    "\n",
    "##A10. Some common measures of central tendency and variability are:\n",
    "\n",
    "##Mean: It describes the center point of the data.\n",
    "\n",
    "##Median: It describes the middle point of the data when creating an ascending order of the data.\n",
    "\n",
    "##Mode: It describes the most commonly occuring point in the data set.\n",
    "\n",
    "##For variability, we have:\n",
    "\n",
    "##Variance: Desribes the distance of each point from the center point of the data set and explains the spread of the dataset.\n",
    "\n",
    "##Standard deviation: Square root of variance"
   ]
  }
 ],
 "metadata": {
  "kernelspec": {
   "display_name": "Python 3 (ipykernel)",
   "language": "python",
   "name": "python3"
  },
  "language_info": {
   "codemirror_mode": {
    "name": "ipython",
    "version": 3
   },
   "file_extension": ".py",
   "mimetype": "text/x-python",
   "name": "python",
   "nbconvert_exporter": "python",
   "pygments_lexer": "ipython3",
   "version": "3.10.8"
  }
 },
 "nbformat": 4,
 "nbformat_minor": 5
}
