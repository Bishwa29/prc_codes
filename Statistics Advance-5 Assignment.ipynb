{
 "cells": [
  {
   "cell_type": "code",
   "execution_count": 1,
   "id": "bd90c43a-d9c6-47e5-8805-5e8110940c92",
   "metadata": {},
   "outputs": [],
   "source": [
    "##Statistics Advance-5 Assignment"
   ]
  },
  {
   "cell_type": "code",
   "execution_count": 2,
   "id": "c4fdf295-d90e-4be2-abfc-018b85302dbe",
   "metadata": {},
   "outputs": [
    {
     "name": "stdout",
     "output_type": "stream",
     "text": [
      "95% Confidence Interval: (49.02001800772997, 50.97998199227003)\n"
     ]
    }
   ],
   "source": [
    "##Q1. Calculate the 95% confidence interval for a sample of data with a mean of 50 and a standard deviation of 5 using Python. Interpret the results.\n",
    "\n",
    "##A1. Below is the code:\n",
    "\n",
    "import scipy.stats as stats\n",
    "\n",
    "mean = 50\n",
    "std_dev = 5\n",
    "sample_size = 100  # Change this to your actual sample size\n",
    "\n",
    "# Calculate standard error\n",
    "std_error = std_dev / (sample_size ** 0.5)\n",
    "\n",
    "# Calculate margin of error\n",
    "margin_of_error = stats.norm.ppf(0.975) * std_error\n",
    "\n",
    "# Calculate confidence interval\n",
    "confidence_interval = (mean - margin_of_error, mean + margin_of_error)\n",
    "\n",
    "print(\"95% Confidence Interval:\", confidence_interval)\n"
   ]
  },
  {
   "cell_type": "code",
   "execution_count": 8,
   "id": "16e8c748-3377-4188-806f-04d61b2e344a",
   "metadata": {},
   "outputs": [
    {
     "name": "stdout",
     "output_type": "stream",
     "text": [
      "Chi-square Statistic: 0.0\n",
      "p-value: 1.0\n",
      "Fail to reject the null hypothesis. The distribution of M&M colors matches the expected distribution.\n"
     ]
    }
   ],
   "source": [
    "##Q2. Conduct a chi-square goodness of fit test to determine if the distribution of colors of M&Ms in a bag matches the expected distribution of 20% blue, 20% orange, 20% green, 10% yellow, 10% red, and 20% brown. Use Python to perform the test with a significance level of 0.05.\n",
    "\n",
    "##A2. Below is the code:\n",
    "\n",
    "from scipy.stats import chisquare\n",
    "\n",
    "# Observed frequencies of each color\n",
    "observed = [20, 20, 20, 20, 10, 10]  # Example values, replace with actual counts\n",
    "\n",
    "# Expected frequencies based on the expected distribution\n",
    "expected = [0.2 * sum(observed)] * 4 + [0.1 * sum(observed)]*2\n",
    "\n",
    "# Perform the chi-square test\n",
    "chi2_stat, p_val = chisquare(observed, f_exp=expected)\n",
    "\n",
    "# Print the results\n",
    "print(\"Chi-square Statistic:\", chi2_stat)\n",
    "print(\"p-value:\", p_val)\n",
    "\n",
    "# Check significance level\n",
    "alpha = 0.05\n",
    "if p_val < alpha:\n",
    "    print(\"Reject the null hypothesis. The distribution of M&M colors is significantly different from the expected distribution.\")\n",
    "else:\n",
    "    print(\"Fail to reject the null hypothesis. The distribution of M&M colors matches the expected distribution.\")\n"
   ]
  },
  {
   "cell_type": "code",
   "execution_count": 10,
   "id": "337dc8e7-a215-4262-bb92-cb89c1e3aee9",
   "metadata": {},
   "outputs": [
    {
     "name": "stdout",
     "output_type": "stream",
     "text": [
      "Chi-square Statistic: 5.833333333333334\n",
      "p-value: 0.05411376622282158\n",
      "Degrees of Freedom: 2\n",
      "Expected Frequencies:\n",
      "[[15. 15. 15.]\n",
      " [20. 20. 20.]]\n",
      "Fail to reject the null hypothesis. There is no significant association between the two factors.\n"
     ]
    }
   ],
   "source": [
    "##Q3. Use Python to calculate the chi-square statistic and p-value for a contingency table with the following data:\n",
    "\n",
    "##    Group A Group B\n",
    "\n",
    "## Outcome1 20 15\n",
    "## Outcome2 10 25\n",
    "## Outcome3 15 20\n",
    "\n",
    "##A3. \n",
    "\n",
    "from scipy.stats import chi2_contingency\n",
    "\n",
    "# Create a contingency table (2x3)\n",
    "observed = [\n",
    "    [20, 10, 15],  # Factor 1 Level 1\n",
    "    [15, 25, 20],  # Factor 1 Level 2\n",
    "]\n",
    "\n",
    "# Perform the chi-square test\n",
    "chi2_stat, p_val, dof, expected = chi2_contingency(observed)\n",
    "\n",
    "# Print the results\n",
    "print(\"Chi-square Statistic:\", chi2_stat)\n",
    "print(\"p-value:\", p_val)\n",
    "print(\"Degrees of Freedom:\", dof)\n",
    "print(\"Expected Frequencies:\")\n",
    "print(expected)\n",
    "\n",
    "# Check significance level\n",
    "alpha = 0.05\n",
    "if p_val < alpha:\n",
    "    print(\"Reject the null hypothesis. There is a significant association between the two factors.\")\n",
    "else:\n",
    "    print(\"Fail to reject the null hypothesis. There is no significant association between the two factors.\")"
   ]
  },
  {
   "cell_type": "code",
   "execution_count": 1,
   "id": "373d53ce-b39b-48ec-aa7b-d2038d860fff",
   "metadata": {},
   "outputs": [
    {
     "name": "stdout",
     "output_type": "stream",
     "text": [
      "95% Confidence Interval for the proportion of smokers: (0.09151638887130706, 0.14848361112869293)\n"
     ]
    }
   ],
   "source": [
    "##Q4. A study of the prevalence of smoking in a population of 500 individuals found that 60 individuals smoked. Use Python to calculate the 95% confidence interval for the true proportion of individuals in the population who smoke.\n",
    "\n",
    "##A4. \n",
    "\n",
    "import statsmodels.stats.proportion as prop\n",
    "\n",
    "# Sample size\n",
    "n = 500\n",
    "\n",
    "# Number of individuals who smoke\n",
    "x = 60\n",
    "\n",
    "# Calculate the proportion\n",
    "p_hat = x / n\n",
    "\n",
    "# Calculate the confidence interval\n",
    "conf_interval = prop.proportion_confint(x, n, alpha=0.05, method='normal')\n",
    "\n",
    "print(\"95% Confidence Interval for the proportion of smokers:\", conf_interval)\n"
   ]
  },
  {
   "cell_type": "code",
   "execution_count": 2,
   "id": "797db08a-7162-4780-8fe4-2584979e007b",
   "metadata": {},
   "outputs": [
    {
     "name": "stdout",
     "output_type": "stream",
     "text": [
      "90% Confidence Interval: (73.02617564765823, 76.97382435234177)\n"
     ]
    }
   ],
   "source": [
    "##Q5. Calculate the 90% confidence interval for a sample of data with a mean of 75 and a standard deviation of 12 using Python. Interpret the results.\n",
    "\n",
    "##A5. \n",
    "import scipy.stats as stats\n",
    "\n",
    "# Sample mean\n",
    "mean = 75\n",
    "\n",
    "# Standard deviation\n",
    "std_dev = 12\n",
    "\n",
    "# Sample size (assuming it's large enough for the normal distribution approximation)\n",
    "sample_size = 100\n",
    "\n",
    "# Confidence level\n",
    "confidence_level = 0.90\n",
    "\n",
    "# Calculate the standard error\n",
    "std_error = std_dev / (sample_size ** 0.5)\n",
    "\n",
    "# Calculate the margin of error\n",
    "margin_of_error = stats.norm.ppf((1 + confidence_level) / 2) * std_error\n",
    "\n",
    "# Calculate the confidence interval\n",
    "lower_bound = mean - margin_of_error\n",
    "upper_bound = mean + margin_of_error\n",
    "\n",
    "print(\"90% Confidence Interval:\", (lower_bound, upper_bound))"
   ]
  },
  {
   "cell_type": "code",
   "execution_count": 3,
   "id": "0231ee17-546b-4fa3-b01c-1e866ec40553",
   "metadata": {},
   "outputs": [
    {
     "data": {
      "image/png": "[encoded data removed]",
      "text/plain": [
       "<Figure size 640x480 with 1 Axes>"
      ]
     },
     "metadata": {},
     "output_type": "display_data"
    }
   ],
   "source": [
    "##Q6. Use Python to plot the chi-square distribution with 10 degrees of freedom. Label the axes and shade the area corresponding to a chi-square statistic of 15.\n",
    "\n",
    "##A6. \n",
    "import numpy as np\n",
    "import matplotlib.pyplot as plt\n",
    "import scipy.stats as stats\n",
    "\n",
    "# Define the degrees of freedom\n",
    "df = 10\n",
    "\n",
    "# Generate x values for the plot\n",
    "x = np.linspace(0, 30, 1000)\n",
    "\n",
    "# Calculate the chi-square probability density function (PDF) for the given degrees of freedom\n",
    "pdf = stats.chi2.pdf(x, df)\n",
    "\n",
    "# Plot the chi-square distribution\n",
    "plt.plot(x, pdf, label='Chi-square distribution with df=10')\n",
    "\n",
    "# Shade the area corresponding to a chi-square statistic of 15\n",
    "x_fill = np.linspace(0, 15, 1000)\n",
    "plt.fill_between(x_fill, stats.chi2.pdf(x_fill, df), color='skyblue', alpha=0.5, label='Chi-square statistic of 15')\n",
    "\n",
    "# Add labels and title\n",
    "plt.xlabel('Chi-square value')\n",
    "plt.ylabel('Probability Density Function')\n",
    "plt.title('Chi-square Distribution')\n",
    "\n",
    "# Add legend\n",
    "plt.legend()\n",
    "\n",
    "# Show plot\n",
    "plt.grid(True)\n",
    "plt.show()"
   ]
  },
  {
   "cell_type": "code",
   "execution_count": 4,
   "id": "d58a8737-1b2c-41c8-9888-fa3d730e6090",
   "metadata": {},
   "outputs": [
    {
     "name": "stdout",
     "output_type": "stream",
     "text": [
      "99% Confidence Interval for the proportion of smokers: (0.4793051576779699, 0.5606948423220302)\n"
     ]
    }
   ],
   "source": [
    "##Q7. A random sample of 1000 people was asked if they preferred Coke or Pepsi. Of the sample, 520 preferred Coke. Calculate a 99% confidence interval for the true proportion of people in the population who prefer Coke.\n",
    "\n",
    "##A7. \n",
    "\n",
    "import statsmodels.stats.proportion as prop\n",
    "\n",
    "# Sample size\n",
    "n = 1000\n",
    "\n",
    "# Number of individuals who preferred coke\n",
    "x = 520\n",
    "\n",
    "# Calculate the proportion\n",
    "p_hat = x / n\n",
    "\n",
    "# Calculate the confidence interval\n",
    "conf_interval = prop.proportion_confint(x, n, alpha=0.01, method='normal')\n",
    "\n",
    "print(\"99% Confidence Interval for the proportion of smokers:\", conf_interval)"
   ]
  },
  {
   "cell_type": "code",
   "execution_count": 8,
   "id": "687617c8-1b6f-4cbe-afad-fc4b9ba67227",
   "metadata": {},
   "outputs": [
    {
     "name": "stdout",
     "output_type": "stream",
     "text": [
      "Fail to reject the null hypothesis. The coin is fair.\n"
     ]
    }
   ],
   "source": [
    "##Q8. A researcher hypothesizes that a coin is biased towards tails. They flip the coin 100 times and observe 45 tails. Conduct a chi-square goodness of fit test to determine if the observed frequencies match the expected frequencies of a fair coin. Use a significance level of 0.05.\n",
    "\n",
    "##A8. To conduct a chi-square goodness of fit test to determine if the observed frequencies match the expected frequencies of a fair coin, you first need to specify the null hypothesis and the alternative hypothesis.\n",
    "\n",
    "##Null hypothesis (H0): The coin is fair (i.e., the observed frequencies match the expected frequencies).\n",
    "\n",
    "##Alternative hypothesis (H1): The coin is biased towards tails (i.e., the observed frequencies do not match the expected frequencies).\n",
    "\n",
    "##Next, you calculate the expected frequencies assuming the coin is fair. For a fair coin, the expected frequency of heads and tails is 50 each out of 100 flips.\n",
    "\n",
    "##Then, you compute the chi-square statistic using the formula:\n",
    "\n",
    "##X^2=summation of ((observed frequency-expected frequency)^2)/exoected frequency\n",
    "\n",
    "##Finally, you compare the computed chi-square statistic with the critical value from the chi-square distribution with k−1 degrees of freedom, where k is the number of categories (2 in this case: heads and tails). If the computed chi-square statistic exceeds the critical value, you reject the null hypothesis.\n",
    "\n",
    "##Python code below:\n",
    "\n",
    "from scipy.stats import chi2\n",
    "\n",
    "# Observed frequencies\n",
    "observed_freq = np.array([45, 55])  # 45 tails, 55 heads\n",
    "\n",
    "# Expected frequencies assuming a fair coin\n",
    "expected_freq = np.array([50, 50])  # 50 tails, 50 heads\n",
    "\n",
    "# Compute the chi-square statistic\n",
    "chi2_stat = np.sum((observed_freq - expected_freq) ** 2 / expected_freq)\n",
    "\n",
    "# Degrees of freedom\n",
    "degrees_of_freedom = len(observed_freq) - 1\n",
    "\n",
    "# Calculate the p-value\n",
    "p_value = 1 - chi2.cdf(chi2_stat, degrees_of_freedom)\n",
    "\n",
    "# Significance level\n",
    "alpha = 0.05\n",
    "\n",
    "# Compare p-value with significance level\n",
    "if p_value < alpha:\n",
    "    print(\"Reject the null hypothesis. The coin is biased towards tails.\")\n",
    "else:\n",
    "    print(\"Fail to reject the null hypothesis. The coin is fair.\")"
   ]
  },
  {
   "cell_type": "code",
   "execution_count": 11,
   "id": "a83d3352-ae2c-4ba7-9891-e886ad3c1407",
   "metadata": {},
   "outputs": [
    {
     "name": "stdout",
     "output_type": "stream",
     "text": [
      "Reject the null hypothesis. There is a significant association between smoking status and lung cancer diagnosis.\n",
      "12.057347670250895\n",
      "[[ 45. 155.]\n",
      " [ 45. 155.]]\n",
      "0.0005158863863703744\n"
     ]
    }
   ],
   "source": [
    "##Q9. A study was conducted to determine if there is an association between smoking status (smoker or non-smoker) and lung cancer diagnosis (yes or no). The results are shown in the contingency table below. Conduct a chi-square test for independence to determine if there is a significant association between smoking status and lung cancer diagnosis.\n",
    "\n",
    "##A9. \n",
    "\n",
    "from scipy.stats import chi2_contingency\n",
    "\n",
    "# Contingency table (smoking status vs. lung cancer diagnosis)\n",
    "#             | Lung Cancer (Yes) | Lung Cancer (No)\n",
    "# ------------|-------------------|-----------------\n",
    "# Smoker      |        60         |        140\n",
    "# Non-smoker  |        30         |        170\n",
    "\n",
    "contingency_table = [[60, 140], [30, 170]]\n",
    "\n",
    "# Perform the chi-square test for independence\n",
    "chi2_stat, p_value, dof, expected = chi2_contingency(contingency_table)\n",
    "\n",
    "# Significance level\n",
    "alpha = 0.05\n",
    "\n",
    "# Compare p-value with significance level\n",
    "if p_value < alpha:\n",
    "    print(\"Reject the null hypothesis. There is a significant association between smoking status and lung cancer diagnosis.\")\n",
    "else:\n",
    "    print(\"Fail to reject the null hypothesis. There is no significant association between smoking status and lung cancer diagnosis.\")\n",
    "\n",
    "print(chi2_stat)\n",
    "print(expected)\n",
    "print(p_value)"
   ]
  },
  {
   "cell_type": "code",
   "execution_count": 15,
   "id": "8f9cebb7-545e-4ce4-b0c3-ba40340a5b40",
   "metadata": {},
   "outputs": [
    {
     "name": "stdout",
     "output_type": "stream",
     "text": [
      "Reject the null hypothesis. There is a significant association between chocolate preference and country of origin.\n",
      "13.393665158371041\n",
      "[[212.5 162.5 125. ]\n",
      " [212.5 162.5 125. ]]\n",
      "0.0012348168997745918\n"
     ]
    }
   ],
   "source": [
    "##Q10. A study was conducted to determine if the proportion of people who prefer milk chocolate, dark chocolate, or white chocolate is different in the U.S. versus the U.K. A random sample of 500 people from the U.S. and a random sample of 500 people from the U.K. were surveyed. The results are shown in the contingency table below. Conduct a chi-square test for independence to determine if there is a significant association between chocolate preference and country of origin. Use a significance level of 0.01.\n",
    "\n",
    "##A10.\n",
    "\n",
    "from scipy.stats import chi2_contingency\n",
    "\n",
    "# Contingency table (chocolate preference vs. country of origin)\n",
    "#             | Milk chocolate    | Dark chocolate  | White chocolate\n",
    "# ------------|-------------------|-----------------|------------------\n",
    "# US (n=500)  |        200        |        150      |      150\n",
    "# UK (n=500)  |        225        |        175      |      100\n",
    "\n",
    "contingency_table = [[200, 150, 150], [225, 175, 100]]\n",
    "\n",
    "# Perform the chi-square test for independence\n",
    "chi2_stat, p_value, dof, expected = chi2_contingency(contingency_table)\n",
    "\n",
    "# Significance level\n",
    "alpha = 0.01\n",
    "\n",
    "# Compare p-value with significance level\n",
    "if p_value < alpha:\n",
    "    print(\"Reject the null hypothesis. There is a significant association between chocolate preference and country of origin.\")\n",
    "else:\n",
    "    print(\"Fail to reject the null hypothesis. There is no significant association between chocolate preference and country of origin.\")\n",
    "\n",
    "print(chi2_stat)\n",
    "print(expected)\n",
    "print(p_value)"
   ]
  },
  {
   "cell_type": "code",
   "execution_count": null,
   "id": "f655b1a9-d597-4b01-ac53-83daf07fa4cf",
   "metadata": {},
   "outputs": [],
   "source": [
    "##Q11. A random sample of 30 people was selected from a population with an unknown mean and standard deviation. The sample mean was found to be 72 and the sample standard deviation was found to be 10. Conduct a hypothesis test to determine if the population mean is significantly different from 70. Use a significance level of 0.05.\n",
    "\n",
    "##A5. To conduct a hypothesis test to determine if the population mean is significantly different from 70, you can perform a one-sample t-test. Here's how you can do it:\n",
    "\n",
    "##Formulate hypotheses:\n",
    "\n",
    "##Null hypothesis (H0): The population mean is equal to 70 (μ = 70).\n",
    "##Alternative hypothesis (H1): The population mean is not equal to 70 (μ ≠ 70).\n",
    "\n",
    "##Choose significance level: Let's use a significance level of 0.05.\n",
    "\n",
    "##Calculate the test statistic\n",
    "\n",
    "##Determine the critical value: We'll find the critical value from the t-distribution with n−1 degrees of freedom.\n",
    "\n",
    "##Compare the test statistic with the critical value and make a decision: If the absolute value of the test statistic exceeds the critical value, we reject the null hypothesis.\n",
    "\n",
    "import numpy as np\n",
    "from scipy.stats import t\n",
    "\n",
    "# Sample mean\n",
    "sample_mean = 72\n",
    "\n",
    "# Population mean under the null hypothesis\n",
    "population_mean = 70\n",
    "\n",
    "# Sample standard deviation\n",
    "sample_std_dev = 10\n",
    "\n",
    "# Sample size\n",
    "sample_size = 30\n",
    "\n",
    "# Calculate the test statistic\n",
    "t_statistic = (sample_mean - population_mean) / (sample_std_dev / np.sqrt(sample_size))\n",
    "\n",
    "# Degrees of freedom\n",
    "degrees_of_freedom = sample_size - 1\n",
    "\n",
    "# Calculate the critical value (two-tailed test)\n",
    "alpha = 0.05\n",
    "critical_value = t.ppf(1 - alpha / 2, degrees_of_freedom)\n",
    "\n",
    "# Compare the test statistic with the critical value\n",
    "if np.abs(t_statistic) > critical_value:\n",
    "    print(\"Reject the null hypothesis. The population mean is significantly different from 70.\")\n",
    "else:\n",
    "    print(\"Fail to reject the null hypothesis. There is insufficient evidence to conclude that the population mean is significantly different from 70.\")"
   ]
  },
  {
   "cell_type": "code",
   "execution_count": null,
   "id": "d5a6a116-7eae-47e4-a870-c8e99c402b78",
   "metadata": {},
   "outputs": [],
   "source": []
  },
  {
   "cell_type": "code",
   "execution_count": null,
   "id": "f8ddfa38-4b9d-4c92-a401-23b6c1821e11",
   "metadata": {},
   "outputs": [],
   "source": []
  },
  {
   "cell_type": "code",
   "execution_count": null,
   "id": "67a51dc3-dc92-4468-af19-a09de5b02480",
   "metadata": {},
   "outputs": [],
   "source": []
  },
  {
   "cell_type": "code",
   "execution_count": null,
   "id": "7d0ef692-fd65-44df-a7db-70545b7712d7",
   "metadata": {},
   "outputs": [],
   "source": []
  },
  {
   "cell_type": "code",
   "execution_count": null,
   "id": "45fd89d3-752f-4789-9cb4-ac9201ab4da7",
   "metadata": {},
   "outputs": [],
   "source": []
  }
 ],
 "metadata": {
  "kernelspec": {
   "display_name": "Python 3 (ipykernel)",
   "language": "python",
   "name": "python3"
  },
  "language_info": {
   "codemirror_mode": {
    "name": "ipython",
    "version": 3
   },
   "file_extension": ".py",
   "mimetype": "text/x-python",
   "name": "python",
   "nbconvert_exporter": "python",
   "pygments_lexer": "ipython3",
   "version": "3.10.8"
  }
 },
 "nbformat": 4,
 "nbformat_minor": 5
}
