{
 "cells": [
  {
   "cell_type": "code",
   "execution_count": null,
   "id": "0b1bc15a-a0f5-4cf0-9e1c-89e2b1a9d26e",
   "metadata": {},
   "outputs": [],
   "source": [
    "##Pandas Assignment"
   ]
  },
  {
   "cell_type": "code",
   "execution_count": null,
   "id": "70ab8fb5-17aa-4fe9-b470-ee5df50c396e",
   "metadata": {},
   "outputs": [],
   "source": [
    "##Ques 1: Create a Pandas Series that contains the following data: 4, 8, 15, 16, 23, and 42. Then, print the series."
   ]
  },
  {
   "cell_type": "code",
   "execution_count": 6,
   "id": "138bb588-f308-4a40-bc0d-0c05331ec3fd",
   "metadata": {},
   "outputs": [],
   "source": [
    "import pandas as pd"
   ]
  },
  {
   "cell_type": "code",
   "execution_count": 7,
   "id": "d39d33dc-d248-4302-9350-bebacb7c3013",
   "metadata": {},
   "outputs": [],
   "source": [
    "data=[4,8,15,16,23,42]"
   ]
  },
  {
   "cell_type": "code",
   "execution_count": 48,
   "id": "5a9a8435-c352-4625-acb6-1db0ec655bef",
   "metadata": {},
   "outputs": [],
   "source": [
    "sr=pd.Series(data)"
   ]
  },
  {
   "cell_type": "code",
   "execution_count": 8,
   "id": "2718e9ea-dbb9-4395-bf1d-589ea9574d77",
   "metadata": {},
   "outputs": [],
   "source": [
    "df=pd.DataFrame(data,columns=['input'])"
   ]
  },
  {
   "cell_type": "code",
   "execution_count": 14,
   "id": "10a4aa92-bb35-4511-b00c-1b5b8b9dd109",
   "metadata": {},
   "outputs": [
    {
     "data": {
      "text/html": [
       "<div>\n",
       "<style scoped>\n",
       "    .dataframe tbody tr th:only-of-type {\n",
       "        vertical-align: middle;\n",
       "    }\n",
       "\n",
       "    .dataframe tbody tr th {\n",
       "        vertical-align: top;\n",
       "    }\n",
       "\n",
       "    .dataframe thead th {\n",
       "        text-align: right;\n",
       "    }\n",
       "</style>\n",
       "<table border=\"1\" class=\"dataframe\">\n",
       "  <thead>\n",
       "    <tr style=\"text-align: right;\">\n",
       "      <th></th>\n",
       "      <th>input</th>\n",
       "    </tr>\n",
       "  </thead>\n",
       "  <tbody>\n",
       "    <tr>\n",
       "      <th>0</th>\n",
       "      <td>4</td>\n",
       "    </tr>\n",
       "    <tr>\n",
       "      <th>1</th>\n",
       "      <td>8</td>\n",
       "    </tr>\n",
       "    <tr>\n",
       "      <th>2</th>\n",
       "      <td>15</td>\n",
       "    </tr>\n",
       "    <tr>\n",
       "      <th>3</th>\n",
       "      <td>16</td>\n",
       "    </tr>\n",
       "    <tr>\n",
       "      <th>4</th>\n",
       "      <td>23</td>\n",
       "    </tr>\n",
       "    <tr>\n",
       "      <th>5</th>\n",
       "      <td>42</td>\n",
       "    </tr>\n",
       "  </tbody>\n",
       "</table>\n",
       "</div>"
      ],
      "text/plain": [
       "   input\n",
       "0      4\n",
       "1      8\n",
       "2     15\n",
       "3     16\n",
       "4     23\n",
       "5     42"
      ]
     },
     "execution_count": 14,
     "metadata": {},
     "output_type": "execute_result"
    }
   ],
   "source": [
    "df"
   ]
  },
  {
   "cell_type": "code",
   "execution_count": 49,
   "id": "0e88c40f-b5a4-4db1-a6fa-178beab8d69b",
   "metadata": {},
   "outputs": [
    {
     "data": {
      "text/plain": [
       "0     4\n",
       "1     8\n",
       "2    15\n",
       "3    16\n",
       "4    23\n",
       "5    42\n",
       "dtype: int64"
      ]
     },
     "execution_count": 49,
     "metadata": {},
     "output_type": "execute_result"
    }
   ],
   "source": [
    "sr"
   ]
  },
  {
   "cell_type": "code",
   "execution_count": 16,
   "id": "857e6084-b5df-4f4c-b985-12a8a4eb7cf9",
   "metadata": {},
   "outputs": [
    {
     "data": {
      "text/plain": [
       "input    int64\n",
       "dtype: object"
      ]
     },
     "execution_count": 16,
     "metadata": {},
     "output_type": "execute_result"
    }
   ],
   "source": [
    "df.dtypes"
   ]
  },
  {
   "cell_type": "code",
   "execution_count": 50,
   "id": "47d81400-534d-4673-bade-79d806f54b51",
   "metadata": {},
   "outputs": [
    {
     "data": {
      "text/plain": [
       "dtype('int64')"
      ]
     },
     "execution_count": 50,
     "metadata": {},
     "output_type": "execute_result"
    }
   ],
   "source": [
    "sr.dtypes"
   ]
  },
  {
   "cell_type": "code",
   "execution_count": 17,
   "id": "dcb940b0-60d0-4c35-b94b-41d38dc2c59b",
   "metadata": {},
   "outputs": [
    {
     "name": "stdout",
     "output_type": "stream",
     "text": [
      "   input\n",
      "0      4\n",
      "1      8\n",
      "2     15\n",
      "3     16\n",
      "4     23\n",
      "5     42\n"
     ]
    }
   ],
   "source": [
    "print(df)"
   ]
  },
  {
   "cell_type": "code",
   "execution_count": 51,
   "id": "4142d42a-97a6-41d7-89fc-61dc49d526f5",
   "metadata": {},
   "outputs": [
    {
     "name": "stdout",
     "output_type": "stream",
     "text": [
      "0     4\n",
      "1     8\n",
      "2    15\n",
      "3    16\n",
      "4    23\n",
      "5    42\n",
      "dtype: int64\n"
     ]
    }
   ],
   "source": [
    "print(sr)"
   ]
  },
  {
   "cell_type": "code",
   "execution_count": 19,
   "id": "086c7f4a-61ff-49b0-b945-8c32f68500d1",
   "metadata": {},
   "outputs": [],
   "source": [
    "##Q2. Create a variable of list type containing 10 elements in it, and apply pandas.Series function on the variable print it."
   ]
  },
  {
   "cell_type": "code",
   "execution_count": 20,
   "id": "20e1d0d5-7d70-42e6-8c42-e5881ce1371b",
   "metadata": {},
   "outputs": [],
   "source": [
    "data1=[1,'bish',2,2.5,4,5,6,8,9,10]"
   ]
  },
  {
   "cell_type": "code",
   "execution_count": 23,
   "id": "1c6a6381-ebea-40d1-bef4-8afb8738c148",
   "metadata": {},
   "outputs": [],
   "source": [
    "df2=pd.Series(data1)"
   ]
  },
  {
   "cell_type": "code",
   "execution_count": 24,
   "id": "f65be138-faed-4d29-8dcb-042d5f441fc7",
   "metadata": {},
   "outputs": [
    {
     "name": "stdout",
     "output_type": "stream",
     "text": [
      "0       1\n",
      "1    bish\n",
      "2       2\n",
      "3     2.5\n",
      "4       4\n",
      "5       5\n",
      "6       6\n",
      "7       8\n",
      "8       9\n",
      "9      10\n",
      "dtype: object\n"
     ]
    }
   ],
   "source": [
    "print(df2)"
   ]
  },
  {
   "cell_type": "code",
   "execution_count": 25,
   "id": "f5d98b74-b4ce-4748-a203-417f6228294e",
   "metadata": {},
   "outputs": [],
   "source": [
    "##Q3. Create a Pandas DataFrame that contains the following data:"
   ]
  },
  {
   "cell_type": "code",
   "execution_count": 26,
   "id": "ab3cc98a-cfd7-4334-8c6f-a94f9dbafbc2",
   "metadata": {},
   "outputs": [],
   "source": [
    "data3=[['Alice',25,'Female'],['Bob',30,'Male'],['Claire',27,'Female']]"
   ]
  },
  {
   "cell_type": "code",
   "execution_count": 27,
   "id": "2fb03231-5f5a-4445-8d1e-fa5fbe9b44c8",
   "metadata": {},
   "outputs": [],
   "source": [
    "df3=pd.DataFrame(data3,columns=['Name','Age','Gender'])"
   ]
  },
  {
   "cell_type": "code",
   "execution_count": 28,
   "id": "709eb445-f7a8-4101-8021-f6b2a6729627",
   "metadata": {},
   "outputs": [
    {
     "name": "stdout",
     "output_type": "stream",
     "text": [
      "     Name  Age  Gender\n",
      "0   Alice   25  Female\n",
      "1     Bob   30    Male\n",
      "2  Claire   27  Female\n"
     ]
    }
   ],
   "source": [
    "print(df3)"
   ]
  },
  {
   "cell_type": "code",
   "execution_count": null,
   "id": "375668ad-edee-435e-b511-820d5d851cd5",
   "metadata": {},
   "outputs": [],
   "source": [
    "##Q4. What is ‘DataFrame’ in pandas and how is it different from pandas.series? Explain with an example."
   ]
  },
  {
   "cell_type": "code",
   "execution_count": null,
   "id": "0a50bceb-fecd-4ac7-b0dc-ae5747ab2e5a",
   "metadata": {},
   "outputs": [],
   "source": [
    "##Ans: A dataframe is a data format that can store data in a form of a table,i.e., containing multiple rows and multiple columns. Series on the other hand is a sub-set of dataframe and more like a list of data values and essentially composing of only a single column with indexes present across the rows."
   ]
  },
  {
   "cell_type": "code",
   "execution_count": null,
   "id": "dcdf9e01-12dc-4b8a-b4fd-82e376d8fcdf",
   "metadata": {},
   "outputs": [],
   "source": [
    "##E.g-If we consider the df3 dataframe from ques 3, the entire dataframe is of type dataframe"
   ]
  },
  {
   "cell_type": "code",
   "execution_count": 33,
   "id": "a5c6fd58-ca90-44ac-8ce5-f8f20f08ba6a",
   "metadata": {},
   "outputs": [
    {
     "data": {
      "text/plain": [
       "Name      object\n",
       "Age        int64\n",
       "Gender    object\n",
       "dtype: object"
      ]
     },
     "execution_count": 33,
     "metadata": {},
     "output_type": "execute_result"
    }
   ],
   "source": [
    "df3.dtypes"
   ]
  },
  {
   "cell_type": "code",
   "execution_count": null,
   "id": "439febda-4688-4476-ad5e-d7b18169b7ae",
   "metadata": {},
   "outputs": [],
   "source": [
    "##If we see the data type of only one column, then it would be a series"
   ]
  },
  {
   "cell_type": "code",
   "execution_count": 36,
   "id": "26fb9c6b-2630-40b3-9103-0e88d4b06fed",
   "metadata": {},
   "outputs": [
    {
     "data": {
      "text/plain": [
       "dtype('int64')"
      ]
     },
     "execution_count": 36,
     "metadata": {},
     "output_type": "execute_result"
    }
   ],
   "source": [
    "df3['Age'].dtypes"
   ]
  },
  {
   "cell_type": "code",
   "execution_count": null,
   "id": "fe78cb53-07b6-4d94-86f5-9238af969fd1",
   "metadata": {},
   "outputs": [],
   "source": [
    "##Q5. What are some common functions you can use to manipulate data in a Pandas DataFrame? Can you give an example of when you might use one of these functions?"
   ]
  },
  {
   "cell_type": "code",
   "execution_count": null,
   "id": "8be0b7c9-3dee-4016-84f3-782e3c48733f",
   "metadata": {},
   "outputs": [],
   "source": [
    "##Answer: Some common functions would be:\n",
    "##dtypes-use to check the data types of all columns of the dataframe\n",
    "##head-use to see the data points of the dataframe starting from the top\n",
    "##tail-use to see the data points of the dataframe starting from the bottom\n",
    "##columns-use to see all the column names"
   ]
  },
  {
   "cell_type": "code",
   "execution_count": 37,
   "id": "8a9c43c1-df2b-463e-94c8-c5b63c8e5b9a",
   "metadata": {},
   "outputs": [],
   "source": [
    "##Example: To see the first row of data for the dataframe df3, we can use the head function"
   ]
  },
  {
   "cell_type": "code",
   "execution_count": 38,
   "id": "d91021a5-0d1a-4dc9-b0e1-3361ce881244",
   "metadata": {},
   "outputs": [
    {
     "data": {
      "text/html": [
       "<div>\n",
       "<style scoped>\n",
       "    .dataframe tbody tr th:only-of-type {\n",
       "        vertical-align: middle;\n",
       "    }\n",
       "\n",
       "    .dataframe tbody tr th {\n",
       "        vertical-align: top;\n",
       "    }\n",
       "\n",
       "    .dataframe thead th {\n",
       "        text-align: right;\n",
       "    }\n",
       "</style>\n",
       "<table border=\"1\" class=\"dataframe\">\n",
       "  <thead>\n",
       "    <tr style=\"text-align: right;\">\n",
       "      <th></th>\n",
       "      <th>Name</th>\n",
       "      <th>Age</th>\n",
       "      <th>Gender</th>\n",
       "    </tr>\n",
       "  </thead>\n",
       "  <tbody>\n",
       "    <tr>\n",
       "      <th>0</th>\n",
       "      <td>Alice</td>\n",
       "      <td>25</td>\n",
       "      <td>Female</td>\n",
       "    </tr>\n",
       "  </tbody>\n",
       "</table>\n",
       "</div>"
      ],
      "text/plain": [
       "    Name  Age  Gender\n",
       "0  Alice   25  Female"
      ]
     },
     "execution_count": 38,
     "metadata": {},
     "output_type": "execute_result"
    }
   ],
   "source": [
    "df3.head(1)"
   ]
  },
  {
   "cell_type": "code",
   "execution_count": 39,
   "id": "0fc5ce32-b343-4aae-be73-41b6eca475df",
   "metadata": {},
   "outputs": [],
   "source": [
    "##Q6. Which of the following is mutable in nature Series, DataFrame, Panel?\n",
    "#Ans: DataFrames are both value and size-mutable (A Series, by contrast, is only value-mutable, not size-mutable. The length of a Series cannot be changed although the values can be changed)"
   ]
  },
  {
   "cell_type": "code",
   "execution_count": null,
   "id": "f34ef542-50dc-4f5d-9cfa-9ff07ada28c1",
   "metadata": {},
   "outputs": [],
   "source": [
    "##Q7. Create a DataFrame using multiple Series. Explain with an example."
   ]
  },
  {
   "cell_type": "code",
   "execution_count": 40,
   "id": "9a2cdde8-c0c2-4c68-b525-2c8894aa8fed",
   "metadata": {},
   "outputs": [],
   "source": [
    "data4=[1,2,3,4]"
   ]
  },
  {
   "cell_type": "code",
   "execution_count": 41,
   "id": "8eeb62c1-d7fa-4eb3-9429-a1d49aaf75b4",
   "metadata": {},
   "outputs": [],
   "source": [
    "data5=['a','e','i','o']"
   ]
  },
  {
   "cell_type": "code",
   "execution_count": 42,
   "id": "7e6d9575-5b11-4af1-87c8-d416dd3b7b60",
   "metadata": {},
   "outputs": [],
   "source": [
    "sr1=pd.Series(data4)"
   ]
  },
  {
   "cell_type": "code",
   "execution_count": 43,
   "id": "2993376a-2890-4133-9144-57187492567e",
   "metadata": {},
   "outputs": [],
   "source": [
    "sr2=pd.Series(data5)"
   ]
  },
  {
   "cell_type": "code",
   "execution_count": 44,
   "id": "b33eff97-b4f8-465f-b29d-ca4ace966d75",
   "metadata": {},
   "outputs": [
    {
     "data": {
      "text/plain": [
       "0    1\n",
       "1    2\n",
       "2    3\n",
       "3    4\n",
       "dtype: int64"
      ]
     },
     "execution_count": 44,
     "metadata": {},
     "output_type": "execute_result"
    }
   ],
   "source": [
    "sr1"
   ]
  },
  {
   "cell_type": "code",
   "execution_count": 45,
   "id": "802d4c1c-a669-42be-bb8b-be786256975b",
   "metadata": {},
   "outputs": [
    {
     "data": {
      "text/plain": [
       "0    a\n",
       "1    e\n",
       "2    i\n",
       "3    o\n",
       "dtype: object"
      ]
     },
     "execution_count": 45,
     "metadata": {},
     "output_type": "execute_result"
    }
   ],
   "source": [
    "sr2"
   ]
  },
  {
   "cell_type": "code",
   "execution_count": 46,
   "id": "a9f17819-f959-4125-a9ed-2cdb84630726",
   "metadata": {},
   "outputs": [],
   "source": [
    "df5=pd.DataFrame([sr1,sr2])"
   ]
  },
  {
   "cell_type": "code",
   "execution_count": 47,
   "id": "562ca742-7a2e-459e-b278-6a8e242a9bc5",
   "metadata": {},
   "outputs": [
    {
     "data": {
      "text/html": [
       "<div>\n",
       "<style scoped>\n",
       "    .dataframe tbody tr th:only-of-type {\n",
       "        vertical-align: middle;\n",
       "    }\n",
       "\n",
       "    .dataframe tbody tr th {\n",
       "        vertical-align: top;\n",
       "    }\n",
       "\n",
       "    .dataframe thead th {\n",
       "        text-align: right;\n",
       "    }\n",
       "</style>\n",
       "<table border=\"1\" class=\"dataframe\">\n",
       "  <thead>\n",
       "    <tr style=\"text-align: right;\">\n",
       "      <th></th>\n",
       "      <th>0</th>\n",
       "      <th>1</th>\n",
       "      <th>2</th>\n",
       "      <th>3</th>\n",
       "    </tr>\n",
       "  </thead>\n",
       "  <tbody>\n",
       "    <tr>\n",
       "      <th>0</th>\n",
       "      <td>1</td>\n",
       "      <td>2</td>\n",
       "      <td>3</td>\n",
       "      <td>4</td>\n",
       "    </tr>\n",
       "    <tr>\n",
       "      <th>1</th>\n",
       "      <td>a</td>\n",
       "      <td>e</td>\n",
       "      <td>i</td>\n",
       "      <td>o</td>\n",
       "    </tr>\n",
       "  </tbody>\n",
       "</table>\n",
       "</div>"
      ],
      "text/plain": [
       "   0  1  2  3\n",
       "0  1  2  3  4\n",
       "1  a  e  i  o"
      ]
     },
     "execution_count": 47,
     "metadata": {},
     "output_type": "execute_result"
    }
   ],
   "source": [
    "df5"
   ]
  },
  {
   "cell_type": "code",
   "execution_count": null,
   "id": "e3ebe85d-4e2a-4952-b2dd-94d67d0fad79",
   "metadata": {},
   "outputs": [],
   "source": [
    "##We created two series and then made a dataframe by combining the two (as shown above)"
   ]
  }
 ],
 "metadata": {
  "kernelspec": {
   "display_name": "Python 3 (ipykernel)",
   "language": "python",
   "name": "python3"
  },
  "language_info": {
   "codemirror_mode": {
    "name": "ipython",
    "version": 3
   },
   "file_extension": ".py",
   "mimetype": "text/x-python",
   "name": "python",
   "nbconvert_exporter": "python",
   "pygments_lexer": "ipython3",
   "version": "3.10.8"
  }
 },
 "nbformat": 4,
 "nbformat_minor": 5
}
