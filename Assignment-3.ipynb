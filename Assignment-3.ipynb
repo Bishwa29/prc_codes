{
 "cells": [
  {
   "cell_type": "markdown",
   "id": "d61b4fe0-4b06-47c0-9008-9cc9951f8070",
   "metadata": {},
   "source": [
    "Assignment-3"
   ]
  },
  {
   "cell_type": "code",
   "execution_count": 8,
   "id": "a3c24fbe-76e4-4b81-8112-10ea7c39ba02",
   "metadata": {},
   "outputs": [],
   "source": [
    "#Which keyword is used to create a function? Create a function to return a list of odd numbers in the range of 1 to 25.\n",
    "\n",
    "#Answer-The keyword \"def\" is used to create a function\n",
    "\n",
    "def odd_func():\n",
    "    odd=[]\n",
    "    for i in range(1,26):\n",
    "        if i%2!=0:\n",
    "            odd.append(i)\n",
    "    return odd"
   ]
  },
  {
   "cell_type": "code",
   "execution_count": 9,
   "id": "8588fbfd-4285-4dda-b6a0-719c5ad86fe6",
   "metadata": {},
   "outputs": [
    {
     "data": {
      "text/plain": [
       "[1, 3, 5, 7, 9, 11, 13, 15, 17, 19, 21, 23, 25]"
      ]
     },
     "execution_count": 9,
     "metadata": {},
     "output_type": "execute_result"
    }
   ],
   "source": [
    "odd_func()"
   ]
  },
  {
   "cell_type": "code",
   "execution_count": 15,
   "id": "82bf98a7-e411-4e4a-ac87-d610cea1473c",
   "metadata": {},
   "outputs": [],
   "source": [
    "#Why *args and **kwargs is used in some functions? Create a function each for *args and **kwargs to demonstrate their use.\n",
    "\n",
    "#Answer: The keyword '*args' is used to provide flexibility in the number of arguments that can be provided as input to the function.\n",
    "#The keyword '**kwargs' allows the user to provide dictionary as input to the function. See example below:\n",
    "\n",
    "def arg_fun(*args):\n",
    "    return args\n",
    "\n",
    "def karg_fun(**kwargs):\n",
    "    return kwargs"
   ]
  },
  {
   "cell_type": "code",
   "execution_count": 22,
   "id": "23116d5f-a6ca-4310-bb31-0ec30adf65e5",
   "metadata": {},
   "outputs": [
    {
     "data": {
      "text/plain": [
       "{'a': 1, 'b': 2}"
      ]
     },
     "execution_count": 22,
     "metadata": {},
     "output_type": "execute_result"
    }
   ],
   "source": [
    "arg_fun(1,2)\n",
    "karg_fun(a=1,b=2)"
   ]
  },
  {
   "cell_type": "code",
   "execution_count": 3,
   "id": "a447d867-6dee-49be-b461-a39e336d5ac9",
   "metadata": {},
   "outputs": [
    {
     "name": "stdout",
     "output_type": "stream",
     "text": [
      "2\n",
      "4\n",
      "6\n",
      "8\n",
      "10\n"
     ]
    }
   ],
   "source": [
    "#What is an iterator in python? Name the method used to initialise the iterator object and the method used for iteration. Use these methods to print the first five elements of the given list [2, 4, 6, 8, 10, 12, 14, 16,18, 2].\n",
    "\n",
    "#Answer: An iterator in Python is an object that is used to iterate over iterable objects like lists, tuples, dicts, and sets. \n",
    "##The Python iterators object is initialized using the iter() method. It uses the next() method for iteration.\n",
    "\n",
    "##see below example:\n",
    "\n",
    "my_list=[2, 4, 6, 8, 10, 12, 14, 16,18, 20]\n",
    "my_it=iter(my_list)\n",
    "print(next(my_it))\n",
    "print(next(my_it))\n",
    "print(next(my_it))\n",
    "print(next(my_it))\n",
    "print(next(my_it))"
   ]
  },
  {
   "cell_type": "code",
   "execution_count": 4,
   "id": "3984c19c-5a19-41ba-b719-680557cbf09d",
   "metadata": {},
   "outputs": [],
   "source": [
    "##What is a generator function in python? Why yield keyword is used? Give an example of a generator function.\n",
    "\n",
    "##Answer: A Python generator function allows you to declare a function that behaves like an iterator, providing a faster and easier way to create iterators.\n",
    "##The yield keyword in Python controls the flow of a generator function. This is similar to a return statement used for returning values in Python.\n",
    "\n",
    "##See example below:\n",
    "\n",
    "def test_fib(n):\n",
    "    a,b=0,1\n",
    "    for i in range(n):\n",
    "        yield a\n",
    "        a,b=b,a+b"
   ]
  },
  {
   "cell_type": "code",
   "execution_count": 6,
   "id": "3c09828d-f888-43cf-b539-5c7313b06e9e",
   "metadata": {},
   "outputs": [
    {
     "data": {
      "text/plain": [
       "[0, 1, 1, 2, 3, 5, 8, 13, 21, 34]"
      ]
     },
     "execution_count": 6,
     "metadata": {},
     "output_type": "execute_result"
    }
   ],
   "source": [
    "list(test_fib(10))"
   ]
  },
  {
   "cell_type": "code",
   "execution_count": 10,
   "id": "3cb680cc-f492-4fe4-94ce-adaca112a381",
   "metadata": {},
   "outputs": [],
   "source": [
    "##Create a generator function for prime numbers less than 1000. Use the next() method to print the first 20 prime numbers.\n",
    "\n",
    "##Answer: See example below:\n",
    "\n",
    "def prime_nos():\n",
    "    for x in range(1,1001):\n",
    "        for y in range(2,x):\n",
    "            if x%y==0:\n",
    "                break\n",
    "    print(x,sep=' ',end=' ')\n",
    "    \n"
   ]
  },
  {
   "cell_type": "code",
   "execution_count": 11,
   "id": "a815c6f2-4bca-407d-b068-ec7163e4e200",
   "metadata": {},
   "outputs": [
    {
     "name": "stdout",
     "output_type": "stream",
     "text": [
      "1000 "
     ]
    }
   ],
   "source": [
    "prime_nos()"
   ]
  },
  {
   "cell_type": "code",
   "execution_count": null,
   "id": "c7ed9b6d-e439-4ee8-816a-1725ce04fbf6",
   "metadata": {},
   "outputs": [],
   "source": []
  }
 ],
 "metadata": {
  "kernelspec": {
   "display_name": "Python 3 (ipykernel)",
   "language": "python",
   "name": "python3"
  },
  "language_info": {
   "codemirror_mode": {
    "name": "ipython",
    "version": 3
   },
   "file_extension": ".py",
   "mimetype": "text/x-python",
   "name": "python",
   "nbconvert_exporter": "python",
   "pygments_lexer": "ipython3",
   "version": "3.10.8"
  }
 },
 "nbformat": 4,
 "nbformat_minor": 5
}
