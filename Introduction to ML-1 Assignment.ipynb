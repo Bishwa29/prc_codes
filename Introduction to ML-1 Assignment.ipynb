{
 "cells": [
  {
   "cell_type": "code",
   "execution_count": null,
   "id": "437ca4f6-6e02-43e3-9983-d05fc121f930",
   "metadata": {},
   "outputs": [],
   "source": [
    "##Introduction to ML-1 Assingment"
   ]
  },
  {
   "cell_type": "code",
   "execution_count": null,
   "id": "2f2afae3-541a-4519-97c3-b63318f9e026",
   "metadata": {},
   "outputs": [],
   "source": [
    "##Q1: Explain the following with an example:\n",
    "##1) Artificial Intelligence \n",
    "##2) Machine Learning\n",
    "##3) Deep Learning\n",
    "\n",
    "##1) Artificial Intelligence: These are smart applications that can perform its own task without any human intervention. For example: self-driving cars, robots\n",
    "\n",
    "##2) Machine Learning: It provides statistical tools to learn, analyze, visualize and develop predictive models from the data. For example: recommendation engines from Amazon, Netflix\n",
    "\n",
    "##3) Deep Learning: These are programs/learning modules that would mimic the human brain in order to develop thinking/decision making capacity comparable to human beings. Example: Object detection, image recognition, chatbots, smart sensors\n"
   ]
  },
  {
   "cell_type": "code",
   "execution_count": null,
   "id": "4cf064b2-3d63-4b54-b619-913cb3fae98b",
   "metadata": {},
   "outputs": [],
   "source": [
    "##Q2: What is supervised learning? List some examples of supervised learning.\n",
    "\n",
    "##A2. Supervised learning is a machine learning algorithm that would learn predictions, take decisions based on defined outputs.\n",
    "##For example: There are factors such as account balance, job profile, CIBIL score, etc., that would help a bank take decision on whether to provide loan to a customer or not.\n",
    "##Now, the output variable here would be defined & categorical (Granted/Rejected). Using the above factors, we can develop a supervised learning model that can make automated predictions around loan dispursal."
   ]
  },
  {
   "cell_type": "code",
   "execution_count": null,
   "id": "d71dece3-7526-4d6c-be53-8d2803a7b346",
   "metadata": {},
   "outputs": [],
   "source": [
    "##Q3: What is unsupervised learning? List some examples of unsupervised learning.\n",
    "\n",
    "##A3. Unsupervised learning is where the model does not have defined outputs to learn predictions/develop patterns from. Hence, it would analyze the data by itself to identify commonalities and provide predictions based on the same.\n",
    "##For example: Consider a case where there are two attributes available: weight, height and we need to understand which groups are unfit (height/weight are not in proportion).\n",
    "##In this case, the model can use unsupervised learning wherein it would take weight in one coordinate, height in the other and then classify groups that lie in different regions. A group with high weight/low height would be deemed \"unfit\" in this case."
   ]
  },
  {
   "cell_type": "code",
   "execution_count": null,
   "id": "20d8d88a-81ab-4d86-b767-4dced0c8e4b3",
   "metadata": {},
   "outputs": [],
   "source": [
    "##Q4: What is the difference between AI, ML, DL, and DS?\n",
    "\n",
    "##A4. AI is a broad unmbrella that consists of different smart applications that perform actions of its own and do not just obey orders like simple machines.\n",
    "##ML is a subset of AI wherein statistical & mathematical concepts are used to learn, analyze, visualize and develop models that predict outcomes when fed with data.\n",
    "##DL is a further sub-set of ML wherein the focus is on developing brain like neural networks to take more autonomous decisions and reduce human intervention.\n",
    "##DS is a broad concept/branch that covers all the above concepts to generate insights, take decisions and develop solutions from data."
   ]
  },
  {
   "cell_type": "code",
   "execution_count": null,
   "id": "6edba706-8836-47a4-acf3-9de0d01d0420",
   "metadata": {},
   "outputs": [],
   "source": [
    "##Q5: What are the main differences between supervised, unsupervised, and semi-supervised learning?\n",
    "\n",
    "##A5. In supervised machine learning, defined outputs are developed and machine would try to understand relationship between different attributes and the output to start making predictions in other situations.\n",
    "##In unsupervised machine learning, the outputs are not given and hence, machine would go deeper into understanding the underlying patterns within the input data to generate commonaltiies & make similar groups/segments out of it.\n",
    "##In semi-supervised machine learning, the machine would use the concepts of both unsupervised and supervised learning. For instance, a recommendation engine of Netflix could use unsupervised learning to understand the region/geogrpahy you belong to and then recommend the most suitable movies of that region based on your watch history/profile used to train the model."
   ]
  },
  {
   "cell_type": "code",
   "execution_count": null,
   "id": "5efa6a50-92ab-45d9-ba32-900a67452c8d",
   "metadata": {},
   "outputs": [],
   "source": [
    "##Q6: What is train, test and validation split? Explain the importance of each term.\n",
    "\n",
    "##A6. Train dataset is used to train the model. Essentially, this dataset is where the model would learn to make predictions, use to develop itself.\n",
    "##Validation dataset is used in the steps of hyperparameter tuning, refinement to make refinements in the model to aid in improving prediction accuracy.\n",
    "##Test dataset is used to test the model for accuracy by presenting fresh situations, observing the model predicting behaviour and taking a decision on whether model accuracy is as per expectations or not."
   ]
  },
  {
   "cell_type": "code",
   "execution_count": 1,
   "id": "cb1fc657-df1b-458d-8a23-8e069d28b45f",
   "metadata": {},
   "outputs": [],
   "source": [
    "##Q7: How can unsupervised learning be used in anomaly detection?\n",
    "\n",
    "##A7. Unsupervised learning is a powerful approach for anomaly detection because it doesn't require labeled data, making it suitable for detecting anomalies in situations where labeled data might be scarce or expensive to obtain. Here's how unsupervised learning can be used for anomaly detection:\n",
    "\n",
    "##Clustering: Unsupervised learning algorithms like k-means clustering or DBSCAN can group data points into clusters based on their similarity. Anomalies are often points that don't fit well into any cluster or are in a cluster of very low density.\n",
    "\n",
    "##The idea is to learn the underlying structure or representation of normal data and then identify instances that deviate significantly from that structure as anomalies. However, it's important to note that unsupervised methods may also produce false positives and negatives, and their effectiveness can depend on the quality and characteristics of the data being analyzed."
   ]
  },
  {
   "cell_type": "code",
   "execution_count": null,
   "id": "a799cc74-3a94-4c63-b688-e8284ad68cc0",
   "metadata": {},
   "outputs": [],
   "source": [
    "##Q8: List down some commonly used supervised learning algorithms and unsupervised learning algorithms.\n",
    "\n",
    "##A8. Some commonly used supervised machine learning algorithms are:\n",
    "##Decision Trees\n",
    "##Linear Regression\n",
    "##Logistic Regression\n",
    "##Random Forests\n",
    "##Support Vector Machines\n",
    "\n",
    "##Unsupervised machine learning algorithms:\n",
    "##k-means Clustering\n",
    "##Principal Component Analysis\n",
    "##Gaussian Mixture Models"
   ]
  },
  {
   "cell_type": "code",
   "execution_count": null,
   "id": "e3736390-b0ee-40be-9095-28e4b643e359",
   "metadata": {},
   "outputs": [],
   "source": []
  },
  {
   "cell_type": "code",
   "execution_count": null,
   "id": "dee61eba-d7ce-4856-97c9-8dc85efc4538",
   "metadata": {},
   "outputs": [],
   "source": []
  },
  {
   "cell_type": "code",
   "execution_count": null,
   "id": "454dd09d-b982-4255-ba6b-f9647a90dc9a",
   "metadata": {},
   "outputs": [],
   "source": []
  },
  {
   "cell_type": "code",
   "execution_count": null,
   "id": "df1c720a-6ecc-4f1c-95cb-dfcfcc2564e2",
   "metadata": {},
   "outputs": [],
   "source": []
  }
 ],
 "metadata": {
  "kernelspec": {
   "display_name": "Python 3 (ipykernel)",
   "language": "python",
   "name": "python3"
  },
  "language_info": {
   "codemirror_mode": {
    "name": "ipython",
    "version": 3
   },
   "file_extension": ".py",
   "mimetype": "text/x-python",
   "name": "python",
   "nbconvert_exporter": "python",
   "pygments_lexer": "ipython3",
   "version": "3.10.8"
  }
 },
 "nbformat": 4,
 "nbformat_minor": 5
}
