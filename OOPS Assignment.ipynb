{
 "cells": [
  {
   "cell_type": "markdown",
   "id": "ff3a5326-8026-4ed0-8f5f-0c32b145f45c",
   "metadata": {},
   "source": [
    "OOPS Assignment"
   ]
  },
  {
   "cell_type": "code",
   "execution_count": 1,
   "id": "b1dacd53-17a5-409d-80b9-5bfd9dbaa888",
   "metadata": {},
   "outputs": [],
   "source": [
    "##Q1. Explain Class and Object with respect to Object-Oriented Programming. Give a suitable example.\n",
    "\n",
    "##Answer: Classes are user-defined data types that act as the blueprint for individual objects, attributes and methods. \n",
    "##Objects are instances of a class created with specifically defined data. Objects can correspond to real-world objects or an abstract entity.\n",
    "\n",
    "##See example below:\n",
    "\n",
    "class exmp():\n",
    "    def exmpl(self):\n",
    "        print(\"This is an example\")"
   ]
  },
  {
   "cell_type": "code",
   "execution_count": 2,
   "id": "0482e219-e0fb-4970-86cf-1521e85c51c3",
   "metadata": {},
   "outputs": [
    {
     "name": "stdout",
     "output_type": "stream",
     "text": [
      "This is an example\n"
     ]
    }
   ],
   "source": [
    "new_obj=exmp()\n",
    "new_obj.exmpl()"
   ]
  },
  {
   "cell_type": "code",
   "execution_count": null,
   "id": "0d00c4cf-f1c2-4008-81c2-98b4dc1d3458",
   "metadata": {},
   "outputs": [],
   "source": [
    "##Q2. Name the four pillars of OOPs.\n",
    "\n",
    "##Answer: The four pillars of OOPs are:\n",
    "##Abstraction\n",
    "##Encapsulation\n",
    "##Inheritance\n",
    "##Polymorphism"
   ]
  },
  {
   "cell_type": "code",
   "execution_count": 3,
   "id": "95e6f9d1-88c2-4a54-8d25-be0a41a819ac",
   "metadata": {},
   "outputs": [],
   "source": [
    "##Q3. Explain why the __init__() function is used. Give a suitable example.\n",
    "\n",
    "##Answer: The __init__() function is a a reseved method in python classes. \n",
    "##It is called as a constructor in object oriented terminology. This method is called when an object is created from a class and it allows the class to initialize the attributes of the class. \n",
    "\n",
    "##See example below:\n",
    "\n",
    "class prg():\n",
    "    def __init__(self,course_price,course_name):\n",
    "        self.__course_price=course_price\n",
    "        self.course_name=course_name"
   ]
  },
  {
   "cell_type": "code",
   "execution_count": 4,
   "id": "ac19be69-728b-4753-94a8-7cfcffedcc75",
   "metadata": {},
   "outputs": [],
   "source": [
    "##Q4. Why self is used in OOPs?\n",
    "\n",
    "##Answer: The self variable is used to represent the instance of the class which is often used in object-oriented programming. It works as a reference to the object. \n",
    "##Python uses the self parameter to refer to instance attributes and methods of the class."
   ]
  },
  {
   "cell_type": "code",
   "execution_count": 5,
   "id": "0c0d0187-9eb4-434c-bc31-afbd01362c06",
   "metadata": {},
   "outputs": [],
   "source": [
    "##Q5. What is inheritance? Give an example for each type of inheritance.\n",
    "\n",
    "##Answer: Inheritance is a core principle of object-oriented programming where a class can inherit properties and behavior from another class.\n",
    "\n",
    "##Single inheritance: example below-\n",
    "\n",
    "class A:\n",
    "    def __init__(self, n='Rahul'):\n",
    "        self.name = n\n",
    " \n",
    "class B(A):\n",
    "    def __init__(self, roll):\n",
    "        self.roll = roll"
   ]
  },
  {
   "cell_type": "code",
   "execution_count": 9,
   "id": "e72e5f2e-d3d5-40cb-8542-904b34d98793",
   "metadata": {},
   "outputs": [
    {
     "name": "stdout",
     "output_type": "stream",
     "text": [
      "<__main__.B object at 0x7fd00407f2e0>\n"
     ]
    }
   ],
   "source": [
    "object = B(23)\n",
    "print(object)"
   ]
  },
  {
   "cell_type": "code",
   "execution_count": null,
   "id": "7a7c5900-1b6c-4d81-b7e7-f0f1fea1d669",
   "metadata": {},
   "outputs": [],
   "source": [
    "##Multiple inheritance: example below-\n",
    "\n",
    "class Base1(object):\n",
    "    def __init__(self):\n",
    "        self.str1 = \"Geek1\"\n",
    "        print(\"Base1\")\n",
    " \n",
    " \n",
    "class Base2(object):\n",
    "    def __init__(self):\n",
    "        self.str2 = \"Geek2\"\n",
    "        print(\"Base2\")\n",
    " \n",
    " \n",
    "class Derived(Base1, Base2):\n",
    "    def __init__(self):\n",
    " \n",
    "        # Calling constructors of Base1\n",
    "        # and Base2 classes\n",
    "        Base1.__init__(self)\n",
    "        Base2.__init__(self)\n",
    "        print(\"Derived\")\n",
    " \n",
    "    def printStrs(self):\n",
    "        print(self.str1, self.str2)"
   ]
  },
  {
   "cell_type": "code",
   "execution_count": null,
   "id": "18330baa-6028-4657-aa72-10d3f75abbaf",
   "metadata": {},
   "outputs": [],
   "source": [
    "##Multilevel inheritance: example below-\n",
    "\n",
    "class Base(object):\n",
    " \n",
    "    # Constructor\n",
    "    def __init__(self, name):\n",
    "        self.name = name\n",
    " \n",
    "    # To get name\n",
    "    def getName(self):\n",
    "        return self.name\n",
    " \n",
    " \n",
    "# Inherited or Sub class (Note Person in bracket)\n",
    "class Child(Base):\n",
    " \n",
    "    # Constructor\n",
    "    def __init__(self, name, age):\n",
    "        Base.__init__(self, name)\n",
    "        self.age = age\n",
    " \n",
    "    # To get name\n",
    "    def getAge(self):\n",
    "        return self.age\n",
    " \n",
    "class GrandChild(Child):\n",
    " \n",
    "    # Constructor\n",
    "    def __init__(self, name, age, address):\n",
    "        Child.__init__(self, name, age)\n",
    "        self.address = address\n",
    " \n",
    "    # To get address\n",
    "    def getAddress(self):\n",
    "        return self.address"
   ]
  },
  {
   "cell_type": "code",
   "execution_count": null,
   "id": "fb8b94d4-dab2-48a2-93a6-a36e0ccd2a5d",
   "metadata": {},
   "outputs": [],
   "source": [
    "##Hierarchical inheritance More than one derived class can be created from a single base.\n",
    "\n",
    "##Hybrid inheritance: This form combines more than one form of inheritance. Basically, it is a blend of more than one type of inheritance."
   ]
  },
  {
   "cell_type": "code",
   "execution_count": null,
   "id": "62a6a8f3-1172-4e06-bb6e-a1e1d4f46325",
   "metadata": {},
   "outputs": [],
   "source": []
  }
 ],
 "metadata": {
  "kernelspec": {
   "display_name": "Python 3 (ipykernel)",
   "language": "python",
   "name": "python3"
  },
  "language_info": {
   "codemirror_mode": {
    "name": "ipython",
    "version": 3
   },
   "file_extension": ".py",
   "mimetype": "text/x-python",
   "name": "python",
   "nbconvert_exporter": "python",
   "pygments_lexer": "ipython3",
   "version": "3.10.8"
  }
 },
 "nbformat": 4,
 "nbformat_minor": 5
}
