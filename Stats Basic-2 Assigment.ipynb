{
 "cells": [
  {
   "cell_type": "code",
   "execution_count": 1,
   "id": "d1f5b6bc-5826-4de7-a707-2ce38fb852e4",
   "metadata": {},
   "outputs": [],
   "source": [
    "##Statistics Basic-2 Assignment"
   ]
  },
  {
   "cell_type": "code",
   "execution_count": null,
   "id": "e9e2bda5-e28b-44c4-bfd1-50f31af35958",
   "metadata": {},
   "outputs": [],
   "source": [
    "##Q1. What are the three measures of central tendency?\n",
    "\n",
    "##A1.The three measures are:\n",
    "##Mean\n",
    "##Median\n",
    "##Mode"
   ]
  },
  {
   "cell_type": "code",
   "execution_count": null,
   "id": "f3c6f804-344c-4d41-8e89-135a0e536da6",
   "metadata": {},
   "outputs": [],
   "source": [
    "##Q2. What is the difference between the mean, median, and mode? How are they used to measure the central tendency of a dataset?\n",
    "\n",
    "##A2. The key difference is that mean would deduce the center point of the dataset based on the magnitude of data and hence, is mot sensitive to outliers.\n",
    "##Median on the other hand, looks at the mid of dataset based on distribution and hence, is not sensitive to outliers.\n",
    "##Mode simply looks at the most frequently occuring datapoint in a set and hence, may not represent the center point as such.\n",
    "\n",
    "##Mean is helpful to measure the central tendency when the distribution is normal and there are no outliers.\n",
    "##Median is useful when there are outliers in the dataset and distribution doesnt matter a lot.\n",
    "##Mode is helpful when the distribution has a high kurtosis (meaning there are a lot of datapoints of similar or same magnitude)."
   ]
  },
  {
   "cell_type": "code",
   "execution_count": 4,
   "id": "908aa955-2a90-47d2-8750-1a57bb2c2f83",
   "metadata": {},
   "outputs": [
    {
     "data": {
      "text/plain": [
       "177.01875"
      ]
     },
     "execution_count": 4,
     "metadata": {},
     "output_type": "execute_result"
    }
   ],
   "source": [
    "##Q3. Measure the three measures of central tendency for the given height data:\n",
    "\n",
    "##[178,177,176,177,178.2,178,175,179,180,175,178.9,176.2,177,172.5,178,176.5]\n",
    "\n",
    "import numpy as np\n",
    "data=[178,177,176,177,178.2,178,175,179,180,175,178.9,176.2,177,172.5,178,176.5]\n",
    "avg=np.mean(data)\n",
    "avg"
   ]
  },
  {
   "cell_type": "code",
   "execution_count": 5,
   "id": "b564acbe-7e59-486b-93d7-3840f3049334",
   "metadata": {},
   "outputs": [
    {
     "data": {
      "text/plain": [
       "177.0"
      ]
     },
     "execution_count": 5,
     "metadata": {},
     "output_type": "execute_result"
    }
   ],
   "source": [
    "med=np.median(data)\n",
    "med"
   ]
  },
  {
   "cell_type": "code",
   "execution_count": 6,
   "id": "4c823957-a555-469c-bbff-bb58df3e216f",
   "metadata": {},
   "outputs": [
    {
     "name": "stderr",
     "output_type": "stream",
     "text": [
      "/tmp/ipykernel_159/2800027621.py:2: FutureWarning: Unlike other reduction functions (e.g. `skew`, `kurtosis`), the default behavior of `mode` typically preserves the axis it acts along. In SciPy 1.11.0, this behavior will change: the default value of `keepdims` will become False, the `axis` over which the statistic is taken will be eliminated, and the value None will no longer be accepted. Set `keepdims` to True or False to avoid this warning.\n",
      "  stats.mode(data)\n"
     ]
    },
    {
     "data": {
      "text/plain": [
       "ModeResult(mode=array([177.]), count=array([3]))"
      ]
     },
     "execution_count": 6,
     "metadata": {},
     "output_type": "execute_result"
    }
   ],
   "source": [
    "from scipy import stats\n",
    "stats.mode(data)"
   ]
  },
  {
   "cell_type": "code",
   "execution_count": 8,
   "id": "2127fbaf-4a69-44f9-b9fc-5e06f74b5580",
   "metadata": {},
   "outputs": [
    {
     "data": {
      "text/plain": [
       "1.7885814036548633"
      ]
     },
     "execution_count": 8,
     "metadata": {},
     "output_type": "execute_result"
    }
   ],
   "source": [
    "##Q4. Find the standard deviation for the given data:\n",
    "##[178,177,176,177,178.2,178,175,179,180,175,178.9,176.2,177,172.5,178,176.5]\n",
    "\n",
    "data2=[178,177,176,177,178.2,178,175,179,180,175,178.9,176.2,177,172.5,178,176.5]\n",
    "\n",
    "stdev=np.std(data2)\n",
    "stdev"
   ]
  },
  {
   "cell_type": "code",
   "execution_count": null,
   "id": "e144601e-d1e3-43be-bc15-f64dd9737537",
   "metadata": {},
   "outputs": [],
   "source": [
    "##Q5. How are measures of dispersion such as range, variance, and standard deviation used to describe the spread of a dataset? Provide an example.\n",
    "\n",
    "##A5. Lets consider a dataset such as [3,4,8,15,20]\n",
    "## Range would help understand the limits of the dataset\n",
    "##Thus, range for this dataset would be [min,max]; hence, the range is [3,20]\n",
    "\n",
    "##Variance refers to the spread of the dataset considering mean to be the centerpoint. Thus, it will help understand how much data is spread from the mean\n",
    "##Formula is: Sum (xi-xa)2/(n-1)\n",
    "##Variance is: ((3-10)2+(4-10)2+(8-10)2+(15-10)2+(20-10)2)/(5-1)\n",
    "##Variance=(49+36+4+25+100)/4=214/4=53.5\n",
    "\n",
    "##Standard deviation is square root of mean and helps understand how many units of SD is a data point away from mean\n",
    "##SD=sq.rt(53.5)=7.3\n"
   ]
  },
  {
   "cell_type": "code",
   "execution_count": null,
   "id": "76953068-a662-4fb6-96a7-b0a779488df7",
   "metadata": {},
   "outputs": [],
   "source": [
    "##Q6. What is a Venn diagram?\n",
    "\n",
    "##A6. Venn diagram is a representation of datasets in visual format and helps understand the relationship between datasets through the values of their absolute sizes.\n",
    "##The universe is represented by a rectangle, the different datasets by spheres and then we look at the visuals to determine the sample sizes."
   ]
  },
  {
   "cell_type": "code",
   "execution_count": null,
   "id": "dcb6fa9d-0fbf-4bb5-a368-e336eefb0568",
   "metadata": {},
   "outputs": [],
   "source": [
    "##Q7. For the two given sets A = (2,3,4,5,6,7) & B = (0,2,6,8,10). Find:\n",
    "\n",
    "##(i) A intersection B\n",
    "\n",
    "##(ii) A union B\n",
    "\n",
    "##Ans(i): (2,6)\n",
    "\n",
    "##Ans(ii): (0,2,3,4,5,6,7,8,10)"
   ]
  },
  {
   "cell_type": "code",
   "execution_count": null,
   "id": "c38a6b8f-08c2-4f56-9a69-f3261cd48dbc",
   "metadata": {},
   "outputs": [],
   "source": [
    "##Q8. What do you understand about skewness in data?\n",
    "\n",
    "##A8.The skewness of data is a representation of the spread of data from its center (peak) of a distribution. If the area of either side of the center of distribution are unequally distributed, it is a sign of skewness of the data."
   ]
  },
  {
   "cell_type": "code",
   "execution_count": null,
   "id": "99fb3ff4-5005-4469-9eb8-739007f96f87",
   "metadata": {},
   "outputs": [],
   "source": [
    "##Q9. If a data is right skewed then what will be the position of median with respect to mean?\n",
    "\n",
    "##A9. If the data is right skewed, then median would be lesser than the mean."
   ]
  },
  {
   "cell_type": "code",
   "execution_count": null,
   "id": "95edd9bd-c1b7-4742-8adf-f4f487853d4c",
   "metadata": {},
   "outputs": [],
   "source": [
    "##Q10. Explain the difference between covariance and correlation. How are these measures used in statistical analysis?\n",
    "\n",
    "##A10. Both covariance and correlation are measures used to understand if the data of two entities share a relationship (increasing together, decreasing together, etc.,)\n",
    "\n",
    "##The key difference, however, is that covariance doesnt have a limit to the magnitude and hence, it is difficult to ascertain the variability in magnitudes.\n",
    "##Correlation coefficient has a limit of [-1,1] which means that the value is restricted in this range and hence, helpful in understanding the difference in magnitudes."
   ]
  },
  {
   "cell_type": "code",
   "execution_count": null,
   "id": "2bd1c65b-bd78-40a3-ac3a-58051bb839d0",
   "metadata": {},
   "outputs": [],
   "source": [
    "##Q11. What is the formula for calculating the sample mean? Provide an example calculation for a dataset.\n",
    "\n",
    "##A11. Sample mean is simply a ratio of sum of sample data points to the count of sample data points.\n",
    "##For instance: dataset is (2,3,4,5,6,7)\n",
    "##The sample mean is (2+3+4+5+6+7)/(6)=27/6=4.5"
   ]
  },
  {
   "cell_type": "code",
   "execution_count": null,
   "id": "131fa17a-6792-4e14-a35b-8e2cd11c770c",
   "metadata": {},
   "outputs": [],
   "source": [
    "##Q12. For a normal distribution data what is the relationship between its measure of central tendency?\n",
    "\n",
    "##A12. For a normal distribution (zero skewness), all the three measures of central tendency are equal to each other.\n",
    "##Thus, mean=median=mode"
   ]
  },
  {
   "cell_type": "code",
   "execution_count": null,
   "id": "4938c466-4a62-4dd8-ae5b-06d493c0b56c",
   "metadata": {},
   "outputs": [],
   "source": [
    "##Q13. How is covariance different from correlation?\n",
    "\n",
    "##A10. Both covariance and correlation are measures used to understand if the data of two entities share a relationship (increasing together, decreasing together, etc.,)\n",
    "##The key difference, however, is that covariance doesnt have a limit to the magnitude and hence, it is difficult to ascertain the variability in magnitudes.\n",
    "##Correlation coefficient has a limit of [-1,1] which means that the value is restricted in this range and hence, helpful in understanding the difference in magnitudes."
   ]
  },
  {
   "cell_type": "code",
   "execution_count": null,
   "id": "e9cbf18a-a8ba-4b75-a665-d18011b3c338",
   "metadata": {},
   "outputs": [],
   "source": [
    "##Q14. How do outliers affect measures of central tendency and dispersion? Provide an example.\n",
    "\n",
    "##A14. Outliers tend to disrupt measures of central tendency such as mean and measures of dispersion such as range, variance.\n",
    "\n",
    "##For example if a dataset is (2,3,5,10,100)\n",
    "##For measures of central tendency, \n",
    "##mean=(2+3+5+10+100)/5=24\n",
    "##median=5\n",
    "\n",
    "##We see that using mean here would be a wrong representation of the centre point of the dataset\n",
    "\n",
    "##For dispersion,\n",
    "##range=[2,100]\n",
    "##variance=1451.6\n",
    "##standard deviation=38\n",
    "\n",
    "##The measures of dispersion are gravely impacted by the presence of outliers with the distribution skewing towards the right."
   ]
  },
  {
   "cell_type": "code",
   "execution_count": null,
   "id": "3b3cbc3b-3815-41ee-aa84-03bee7a55e29",
   "metadata": {},
   "outputs": [],
   "source": []
  }
 ],
 "metadata": {
  "kernelspec": {
   "display_name": "Python 3 (ipykernel)",
   "language": "python",
   "name": "python3"
  },
  "language_info": {
   "codemirror_mode": {
    "name": "ipython",
    "version": 3
   },
   "file_extension": ".py",
   "mimetype": "text/x-python",
   "name": "python",
   "nbconvert_exporter": "python",
   "pygments_lexer": "ipython3",
   "version": "3.10.8"
  }
 },
 "nbformat": 4,
 "nbformat_minor": 5
}
