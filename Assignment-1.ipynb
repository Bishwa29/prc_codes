{
 "cells": [
  {
   "cell_type": "markdown",
   "id": "8be4ada1-d1cf-4e3f-aa87-7dc1c39d8c08",
   "metadata": {},
   "source": [
    "Assignment-1"
   ]
  },
  {
   "cell_type": "code",
   "execution_count": null,
   "id": "afebf955-7df9-4a9c-85d2-00f40b7c8844",
   "metadata": {},
   "outputs": [],
   "source": [
    "##Create one variable containing following type of data:\n",
    "\n",
    "##String:\n",
    "str_var=\"Bishwadeep\"\n",
    "\n",
    "##list\n",
    "list_var=[1,2,3,4,5]\n",
    "\n",
    "##float\n",
    "float_var=2.46\n",
    "\n",
    "##tuple\n",
    "tuple_var=(1,2,3,4,5)"
   ]
  },
  {
   "cell_type": "code",
   "execution_count": null,
   "id": "2acfb3f0-48f3-4a70-a74e-3965374a3647",
   "metadata": {},
   "outputs": [],
   "source": [
    "type(tuple_var)"
   ]
  },
  {
   "cell_type": "code",
   "execution_count": null,
   "id": "e1d93750-e0e9-4c83-95af-36b1e9a0ab64",
   "metadata": {},
   "outputs": [],
   "source": [
    "##Given are some following variables containing data:\n",
    "\n",
    "var1 = ''\n",
    "#type-str\n",
    "\n",
    "var2 = '[DS, ML, Python]'\n",
    "#type-str\n",
    "\n",
    "var3 = ['DS', 'ML', 'Python']\n",
    "#type-list\n",
    "\n",
    "var4 = 1.\n",
    "#type-float"
   ]
  },
  {
   "cell_type": "code",
   "execution_count": null,
   "id": "86bd6fc0-bd31-45e0-92ac-cebd4cc9f89d",
   "metadata": {},
   "outputs": [],
   "source": []
  },
  {
   "cell_type": "code",
   "execution_count": null,
   "id": "4c6b3f95-01da-4a20-86e4-0d597d489c4a",
   "metadata": {},
   "outputs": [],
   "source": [
    "##Explain the use of the following operators using an example:\n",
    "\n",
    "a=10\n",
    "b=3\n",
    "\n",
    "##/\n",
    "c=a/b\n",
    "print(c)\n",
    "##output=3.3333333333333335\n",
    "\n",
    "##%\n",
    "d=a%b\n",
    "print(d)\n",
    "##output=1\n",
    "\n",
    "##//\n",
    "e=a//b\n",
    "print(e)\n",
    "##output=3\n",
    "\n",
    "##**\n",
    "f=a**b\n",
    "print(f)\n",
    "##output=1000"
   ]
  },
  {
   "cell_type": "code",
   "execution_count": null,
   "id": "f16c2e63-ec7a-4a2e-a32e-af8cfa39ad23",
   "metadata": {},
   "outputs": [],
   "source": [
    "# Create a list of length 10 of your choice containing multiple types of data. Using for loop print the element and its data type#\n",
    "\n",
    "list_var=[1,2,2.3,'bish',[2,3,4,5],(1,2,3),{3,4,5},{a:2,b:'pwskills'},True,9,10]\n",
    "\n",
    "for i in list_var:\n",
    "    data_type=type(i)\n",
    "    print(\"datatype of variable {} is {}\".format(i,data_type))"
   ]
  },
  {
   "cell_type": "code",
   "execution_count": null,
   "id": "7d77a503-3f8f-4ef8-8d88-163b241a699f",
   "metadata": {},
   "outputs": [],
   "source": [
    "##Using a while loop, verify if the number A is purely divisible by number B and if so then how many times it can be divisible.\n",
    "\n",
    "A=int(input())\n",
    "B=int(input())\n",
    "while A%B==0:\n",
    "        quo=A//B\n",
    "        print(\"{} is divisible by {}\".format(A,B))\n",
    "        print(\"Quotient is {}\".format(quo))\n",
    "\n",
    "print(\"{} is NOT divisible by {}\".format(A,B))"
   ]
  },
  {
   "cell_type": "code",
   "execution_count": null,
   "id": "6c736d0c-82cb-4bc4-a41d-8ab0dfa3a3e9",
   "metadata": {},
   "outputs": [],
   "source": [
    "##Create a list containing 25 int type data. Using for loop and if-else condition print if the element is divisible by 3 or not.\n",
    "\n",
    "##using FOR and IF-ELSE statement\n",
    "list_var=[1,2,3,4,5,6,7,8,9,10,11,12,13,14,15,16,17,18,19,20,21,22,23,24,25]\n",
    "for i in list_var:\n",
    "    if i%3==0:\n",
    "        print(\"{} is divisible by 3\".format(i))\n",
    "    else:\n",
    "        print(\"{} is NOT divisible by 3\".format(i))"
   ]
  },
  {
   "cell_type": "code",
   "execution_count": null,
   "id": "0b7f5e95-ef0b-4062-aa2c-1f6834445761",
   "metadata": {},
   "outputs": [],
   "source": [
    "##What do you understand about mutable and immutable data types? Give examples for both showing this property.\n",
    "\n",
    "##mutable data type\n",
    "list_var=[1,2,3,4]\n",
    "list_var[0]=6\n",
    "list_var\n",
    "\n",
    "##immutable data type\n",
    "string_var=\"bish\"\n",
    "string_var[0]=\"x\"\n",
    "string_var"
   ]
  },
  {
   "cell_type": "code",
   "execution_count": null,
   "id": "22cf2663-d27b-444e-8149-1d51a9969ca0",
   "metadata": {},
   "outputs": [],
   "source": []
  },
  {
   "cell_type": "code",
   "execution_count": null,
   "id": "d0e7e3c6-1e35-4d00-bf75-be7b01e52ef4",
   "metadata": {},
   "outputs": [],
   "source": []
  }
 ],
 "metadata": {
  "kernelspec": {
   "display_name": "Python 3 (ipykernel)",
   "language": "python",
   "name": "python3"
  },
  "language_info": {
   "codemirror_mode": {
    "name": "ipython",
    "version": 3
   },
   "file_extension": ".py",
   "mimetype": "text/x-python",
   "name": "python",
   "nbconvert_exporter": "python",
   "pygments_lexer": "ipython3",
   "version": "3.10.8"
  }
 },
 "nbformat": 4,
 "nbformat_minor": 5
}
