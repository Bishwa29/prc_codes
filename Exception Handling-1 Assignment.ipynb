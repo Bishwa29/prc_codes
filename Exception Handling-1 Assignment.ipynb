{
 "cells": [
  {
   "cell_type": "code",
   "execution_count": 1,
   "id": "3c3a67e8-dcdf-43c8-bbf6-e809f3e7c056",
   "metadata": {},
   "outputs": [],
   "source": [
    "##Exception handling-1"
   ]
  },
  {
   "cell_type": "code",
   "execution_count": null,
   "id": "77423202-e499-4ee8-96e3-9556092b5763",
   "metadata": {},
   "outputs": [],
   "source": [
    "##Q1. What is an Exception in python? Write the difference between Exceptions and Syntax errors?\n",
    "\n",
    "##A-An exception is an event, which occurs during the execution of a program that disrupts the normal flow of the program's instructions. In general, when a Python script encounters a situation that it cannot cope with, it raises an exception. An exception is a Python object that represents an error.\n",
    "\n",
    "##The major difference between exception and syntax error is that syntax errors are the problems in a program's semantics, standard terminologies or otherwise due to which the program will stop the execution.\n",
    "##On the other hand, exceptions are raised when some internal events occur which changes the normal flow of the program."
   ]
  },
  {
   "cell_type": "code",
   "execution_count": 2,
   "id": "585db123-a958-437a-84ad-bed922709323",
   "metadata": {},
   "outputs": [
    {
     "ename": "FileNotFoundError",
     "evalue": "[Errno 2] No such file or directory: 'test_demo.txt'",
     "output_type": "error",
     "traceback": [
      "\u001b[0;31m---------------------------------------------------------------------------\u001b[0m",
      "\u001b[0;31mFileNotFoundError\u001b[0m                         Traceback (most recent call last)",
      "Cell \u001b[0;32mIn[2], line 6\u001b[0m\n\u001b[1;32m      1\u001b[0m \u001b[38;5;66;03m##Q2. What happens when an exception is not handled? Explain with an example.\u001b[39;00m\n\u001b[1;32m      2\u001b[0m \n\u001b[1;32m      3\u001b[0m \u001b[38;5;66;03m##A-When an exception occured and if you don't handle it, the program terminates abruptly and the code past the line that caused the exception will not get executed.\u001b[39;00m\n\u001b[1;32m      4\u001b[0m \u001b[38;5;66;03m##For example:\u001b[39;00m\n\u001b[0;32m----> 6\u001b[0m f\u001b[38;5;241m=\u001b[39m\u001b[38;5;28;43mopen\u001b[39;49m\u001b[43m(\u001b[49m\u001b[38;5;124;43m\"\u001b[39;49m\u001b[38;5;124;43mtest_demo.txt\u001b[39;49m\u001b[38;5;124;43m\"\u001b[39;49m\u001b[43m,\u001b[49m\u001b[38;5;124;43m\"\u001b[39;49m\u001b[38;5;124;43mr\u001b[39;49m\u001b[38;5;124;43m\"\u001b[39;49m\u001b[43m)\u001b[49m\n",
      "File \u001b[0;32m/opt/conda/lib/python3.10/site-packages/IPython/core/interactiveshell.py:282\u001b[0m, in \u001b[0;36m_modified_open\u001b[0;34m(file, *args, **kwargs)\u001b[0m\n\u001b[1;32m    275\u001b[0m \u001b[38;5;28;01mif\u001b[39;00m file \u001b[38;5;129;01min\u001b[39;00m {\u001b[38;5;241m0\u001b[39m, \u001b[38;5;241m1\u001b[39m, \u001b[38;5;241m2\u001b[39m}:\n\u001b[1;32m    276\u001b[0m     \u001b[38;5;28;01mraise\u001b[39;00m \u001b[38;5;167;01mValueError\u001b[39;00m(\n\u001b[1;32m    277\u001b[0m         \u001b[38;5;124mf\u001b[39m\u001b[38;5;124m\"\u001b[39m\u001b[38;5;124mIPython won\u001b[39m\u001b[38;5;124m'\u001b[39m\u001b[38;5;124mt let you open fd=\u001b[39m\u001b[38;5;132;01m{\u001b[39;00mfile\u001b[38;5;132;01m}\u001b[39;00m\u001b[38;5;124m by default \u001b[39m\u001b[38;5;124m\"\u001b[39m\n\u001b[1;32m    278\u001b[0m         \u001b[38;5;124m\"\u001b[39m\u001b[38;5;124mas it is likely to crash IPython. If you know what you are doing, \u001b[39m\u001b[38;5;124m\"\u001b[39m\n\u001b[1;32m    279\u001b[0m         \u001b[38;5;124m\"\u001b[39m\u001b[38;5;124myou can use builtins\u001b[39m\u001b[38;5;124m'\u001b[39m\u001b[38;5;124m open.\u001b[39m\u001b[38;5;124m\"\u001b[39m\n\u001b[1;32m    280\u001b[0m     )\n\u001b[0;32m--> 282\u001b[0m \u001b[38;5;28;01mreturn\u001b[39;00m \u001b[43mio_open\u001b[49m\u001b[43m(\u001b[49m\u001b[43mfile\u001b[49m\u001b[43m,\u001b[49m\u001b[43m \u001b[49m\u001b[38;5;241;43m*\u001b[39;49m\u001b[43margs\u001b[49m\u001b[43m,\u001b[49m\u001b[43m \u001b[49m\u001b[38;5;241;43m*\u001b[39;49m\u001b[38;5;241;43m*\u001b[39;49m\u001b[43mkwargs\u001b[49m\u001b[43m)\u001b[49m\n",
      "\u001b[0;31mFileNotFoundError\u001b[0m: [Errno 2] No such file or directory: 'test_demo.txt'"
     ]
    }
   ],
   "source": [
    "##Q2. What happens when an exception is not handled? Explain with an example.\n",
    "\n",
    "##A-When an exception occured and if you don't handle it, the program terminates abruptly and the code past the line that caused the exception will not get executed.\n",
    "##For example:\n",
    "\n",
    "f=open(\"test_demo.txt\",\"r\")\n",
    "\n",
    "##In the above code, the exception (file not exist) occured, the program executed stopped and we see an error from the compiler "
   ]
  },
  {
   "cell_type": "code",
   "execution_count": 3,
   "id": "72c67995-7940-4518-8d42-316695d2873a",
   "metadata": {},
   "outputs": [
    {
     "name": "stdout",
     "output_type": "stream",
     "text": [
      "there is some issue with my code [Errno 2] No such file or directory: 'test_demo.txt'\n"
     ]
    }
   ],
   "source": [
    "##Q3. Which Python statements are used to catch and handle exceptions? Explain with an example.\n",
    "\n",
    "##The python statements \"try\" and \"exception\" are used to catch and handle exceptions. See the below example:\n",
    "\n",
    "try:\n",
    "    f=open(\"test_demo.txt\",\"r\")\n",
    "except Exception as e:\n",
    "    print(\"there is some issue with my code\",e)\n",
    "    \n",
    "##From the previous example, we provided a issue statement to handle the exception (file not exist). Due to this, we did not receive a direct error from the compiler instead the exception message popped up."
   ]
  },
  {
   "cell_type": "code",
   "execution_count": 6,
   "id": "74db5580-71cd-4338-9877-761a711f29a6",
   "metadata": {},
   "outputs": [
    {
     "name": "stdin",
     "output_type": "stream",
     "text": [
      "Enter your age: -10\n"
     ]
    },
    {
     "name": "stdout",
     "output_type": "stream",
     "text": [
      "You are not allowed to enter\n"
     ]
    }
   ],
   "source": [
    "##Q4. Explain with an example:\n",
    "\n",
    "##a. try and else\n",
    "##A-\n",
    "\n",
    "try:\n",
    "    age=int(input('Enter your age:'))\n",
    "except:\n",
    "    print('You have entered an invalid value.')\n",
    "else:\n",
    "    if age<=21:\n",
    "        print('You are not allowed to enter')\n",
    "\n",
    "##In the above example, in case of an exception (invalid input), the output would show the exception statement otherwise it will execute the part present under the else statement."
   ]
  },
  {
   "cell_type": "code",
   "execution_count": 9,
   "id": "da511d03-0225-4011-87a2-2519c1bb4efa",
   "metadata": {},
   "outputs": [
    {
     "name": "stdin",
     "output_type": "stream",
     "text": [
      "Enter a number: 10\n"
     ]
    },
    {
     "name": "stdout",
     "output_type": "stream",
     "text": [
      "10\n",
      "The 'try except' is finished\n"
     ]
    }
   ],
   "source": [
    "##b. finally\n",
    "\n",
    "try:\n",
    "    x=int(input('Enter a number:'))\n",
    "    print(x)\n",
    "except:\n",
    "  print(\"Something went wrong\")\n",
    "finally:\n",
    "  print(\"The 'try except' is finished\")\n",
    "\n",
    "\n",
    "##The finally statement is used to perform any computation or print statements that need to be shown irrespective of an exception. Thus, it will shown no matter if an exception is present in the code or not."
   ]
  },
  {
   "cell_type": "code",
   "execution_count": 10,
   "id": "207dfffa-986c-4735-be78-c2b96814e118",
   "metadata": {},
   "outputs": [
    {
     "ename": "Exception",
     "evalue": "Sorry, no numbers below zero",
     "output_type": "error",
     "traceback": [
      "\u001b[0;31m---------------------------------------------------------------------------\u001b[0m",
      "\u001b[0;31mException\u001b[0m                                 Traceback (most recent call last)",
      "Cell \u001b[0;32mIn[10], line 5\u001b[0m\n\u001b[1;32m      3\u001b[0m x \u001b[38;5;241m=\u001b[39m \u001b[38;5;241m-\u001b[39m\u001b[38;5;241m1\u001b[39m\n\u001b[1;32m      4\u001b[0m \u001b[38;5;28;01mif\u001b[39;00m x \u001b[38;5;241m<\u001b[39m \u001b[38;5;241m0\u001b[39m:\n\u001b[0;32m----> 5\u001b[0m   \u001b[38;5;28;01mraise\u001b[39;00m \u001b[38;5;167;01mException\u001b[39;00m(\u001b[38;5;124m\"\u001b[39m\u001b[38;5;124mSorry, no numbers below zero\u001b[39m\u001b[38;5;124m\"\u001b[39m)\n",
      "\u001b[0;31mException\u001b[0m: Sorry, no numbers below zero"
     ]
    }
   ],
   "source": [
    "##c. raise\n",
    "\n",
    "x = -1\n",
    "if x < 0:\n",
    "  raise Exception(\"Sorry, no numbers below zero\")\n",
    "\n",
    "##The raise keyword is used to raise an exception. You can define what kind of error to raise, and the text to print to the user."
   ]
  },
  {
   "cell_type": "code",
   "execution_count": 13,
   "id": "324f1d10-52b3-4599-84a9-86188b2f10ed",
   "metadata": {},
   "outputs": [
    {
     "name": "stdout",
     "output_type": "stream",
     "text": [
      "Exception Raised\n"
     ]
    }
   ],
   "source": [
    "##Q5. What are custom exceptions in python? Why do we need custom exceptions? Explain with an example.\n",
    "\n",
    "##A-Custom exceptions are used to customize the exception according to user needs. It is like creating your own exception class and throwing that exception using the 'throw' keyword.\n",
    "##They are used because the built-in exceptions offer information only about the python-related problems but the custom exceptions will add information about project-related problems. \n",
    "\n",
    "##For example:\n",
    "\n",
    "try:\n",
    "    raise JustException(\"Raise an Exception\")\n",
    "except Exception as e:\n",
    "    print(\"Exception Raised\")\n",
    "\n"
   ]
  },
  {
   "cell_type": "code",
   "execution_count": 14,
   "id": "90b2dfdd-20fe-40da-8607-c7bd7be6c1c9",
   "metadata": {},
   "outputs": [
    {
     "name": "stdout",
     "output_type": "stream",
     "text": [
      "Nidhi Kapoor\n",
      "Can't find the user with the given address\n"
     ]
    }
   ],
   "source": [
    "##Q6. Create a custom exception class. Use this class to handle an exception.\n",
    "\n",
    "# base class implementing Runtime error\n",
    "class UserNotFound(RuntimeError):\n",
    "   def __init__(self):\n",
    "      super().__init__(\"Can't find the user with the given address\")\n",
    "\n",
    "        # to store the detials of the users\n",
    "logBook = {\n",
    "    \"aditya@mycompany\" : \"Aditya Verma\",\n",
    "    \"snehaj@mycompany\" : \"Sneha Joshi\",\n",
    "    \"nidhi20@mycompany\" : \"Nidhi Kapoor\"\n",
    "}\n",
    "\n",
    "# exception class to throw exception and print names\n",
    "class Login(UserNotFound):\n",
    "    def displayName(self,addr):\n",
    "        if addr in logBook: \n",
    "            print(logBook.get(addr))\n",
    "        else :\n",
    "            raise UserNotFound()\n",
    "# try looking for addresses in the list, if not present print the exception message\n",
    "try:\n",
    "    temp =Login()\n",
    "    temp.displayName(\"nidhi20@mycompany\")\n",
    "    temp.displayName(\"shital@mycompany\")\n",
    "except UserNotFound as e:\n",
    "   print(e)\n",
    "\n",
    "##If the address doesn't exist UserNotFound Exception is raised else, it will display the name of the user.\n"
   ]
  },
  {
   "cell_type": "code",
   "execution_count": null,
   "id": "e43fd8f9-05ad-46b3-8639-91a093e950f1",
   "metadata": {},
   "outputs": [],
   "source": []
  }
 ],
 "metadata": {
  "kernelspec": {
   "display_name": "Python 3 (ipykernel)",
   "language": "python",
   "name": "python3"
  },
  "language_info": {
   "codemirror_mode": {
    "name": "ipython",
    "version": 3
   },
   "file_extension": ".py",
   "mimetype": "text/x-python",
   "name": "python",
   "nbconvert_exporter": "python",
   "pygments_lexer": "ipython3",
   "version": "3.10.8"
  }
 },
 "nbformat": 4,
 "nbformat_minor": 5
}
