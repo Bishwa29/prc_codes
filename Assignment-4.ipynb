{
 "cells": [
  {
   "cell_type": "markdown",
   "id": "36dac7b1-5fd5-4f5e-a39b-b19f64d3dade",
   "metadata": {},
   "source": [
    "Assignment-4"
   ]
  },
  {
   "cell_type": "code",
   "execution_count": 2,
   "id": "2c6ecf01-8b17-4cbe-94ca-70e15526bd5d",
   "metadata": {},
   "outputs": [
    {
     "name": "stdout",
     "output_type": "stream",
     "text": [
      "[('Sachin Tendulkar', 34357), ('Ricky Ponting', 27483), ('Jack Kallis', 25534), ('Virat Kohli', 24936)]\n"
     ]
    }
   ],
   "source": [
    "##Create a python program to sort the given list of tuples based on integer value using a lambda function.\n",
    "\n",
    "##See answer below:\n",
    "\n",
    "my_list=[('Sachin Tendulkar', 34357), ('Ricky Ponting', 27483), ('Jack Kallis', 25534), ('Virat Kohli', 24936)]\n",
    "my_list.sort(reverse=True,key = lambda x: x[1])\n",
    "print(my_list)"
   ]
  },
  {
   "cell_type": "code",
   "execution_count": 3,
   "id": "9813b950-ccf5-4c0a-800c-3e484c843909",
   "metadata": {},
   "outputs": [
    {
     "data": {
      "text/plain": [
       "[1, 4, 9, 16, 25, 36, 49, 64, 81, 100]"
      ]
     },
     "execution_count": 3,
     "metadata": {},
     "output_type": "execute_result"
    }
   ],
   "source": [
    "##Write a Python Program to find the squares of all the numbers in the given list of integers using lambda and map functions.\n",
    "\n",
    "##Answer:\n",
    "\n",
    "my_list=[1,2,3,4,5,6,7,8,9,10]\n",
    "list(map(lambda x:x**2,my_list))"
   ]
  },
  {
   "cell_type": "code",
   "execution_count": 8,
   "id": "01d80bfd-6c28-4ce3-bf64-1abbc22f1c4f",
   "metadata": {},
   "outputs": [
    {
     "data": {
      "text/plain": [
       "('1', '2', '3', '4', '5', '6', '7', '8', '9', '10')"
      ]
     },
     "execution_count": 8,
     "metadata": {},
     "output_type": "execute_result"
    }
   ],
   "source": [
    "##Write a python program to convert the given list of integers into a tuple of strings. Use map and lambda functions\n",
    "\n",
    "##Answer:\n",
    "l=[1, 2, 3, 4, 5, 6, 7, 8, 9, 10]\n",
    "tuple(map(lambda x:str(x),l))"
   ]
  },
  {
   "cell_type": "code",
   "execution_count": 9,
   "id": "2cd2ab77-1766-42cf-ba6b-b071d60102b0",
   "metadata": {},
   "outputs": [
    {
     "data": {
      "text/plain": [
       "15511210043330985984000000"
      ]
     },
     "execution_count": 9,
     "metadata": {},
     "output_type": "execute_result"
    }
   ],
   "source": [
    "##Write a python program using reduce function to compute the product of a list containing numbers from 1 to 25.\n",
    "\n",
    "##Answer:\n",
    "from functools import reduce\n",
    "l=[]\n",
    "for i in range(1,26):\n",
    "    l.append(i)\n",
    "\n",
    "reduce(lambda x,y:x*y,l)"
   ]
  },
  {
   "cell_type": "code",
   "execution_count": 17,
   "id": "22bb557a-007e-4e15-a47e-054cc42182c5",
   "metadata": {},
   "outputs": [
    {
     "data": {
      "text/plain": [
       "[6, 60, 90, 120]"
      ]
     },
     "execution_count": 17,
     "metadata": {},
     "output_type": "execute_result"
    }
   ],
   "source": [
    "##Write a python program to filter the numbers in a given list that are divisible by 2 and 3 using the filter function.\n",
    "\n",
    "##Answer:\n",
    "l=[2, 3, 6, 9, 27, 60, 90, 120, 55, 46]\n",
    "list(filter(lambda x:x%2==0 and x%3==0,l))"
   ]
  },
  {
   "cell_type": "code",
   "execution_count": null,
   "id": "1f398271-5bdd-434a-872c-4bb93bd19cd9",
   "metadata": {},
   "outputs": [],
   "source": [
    "##Write a python program to find palindromes in the given list of strings using lambda and filter function.\n",
    "\n",
    "##Answer:\n",
    "l=['python', 'php', 'aba', 'radar', 'level']\n",
    "list(filter(lambda x: (x == \"\".join(reversed(x))), texts))\n"
   ]
  }
 ],
 "metadata": {
  "kernelspec": {
   "display_name": "Python 3 (ipykernel)",
   "language": "python",
   "name": "python3"
  },
  "language_info": {
   "codemirror_mode": {
    "name": "ipython",
    "version": 3
   },
   "file_extension": ".py",
   "mimetype": "text/x-python",
   "name": "python",
   "nbconvert_exporter": "python",
   "pygments_lexer": "ipython3",
   "version": "3.10.8"
  }
 },
 "nbformat": 4,
 "nbformat_minor": 5
}
