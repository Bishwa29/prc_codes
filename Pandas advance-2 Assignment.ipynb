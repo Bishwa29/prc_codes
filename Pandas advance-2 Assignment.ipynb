{
 "cells": [
  {
   "cell_type": "code",
   "execution_count": 1,
   "id": "f40e3e04-50a9-4658-b5b5-49c212d94072",
   "metadata": {},
   "outputs": [],
   "source": [
    "##Pandas Advance-2"
   ]
  },
  {
   "cell_type": "code",
   "execution_count": 2,
   "id": "382baff3-cc24-421b-835f-fbb27232cdae",
   "metadata": {},
   "outputs": [],
   "source": [
    "import pandas as pd"
   ]
  },
  {
   "cell_type": "code",
   "execution_count": 3,
   "id": "5473dc1d-bcc8-4dd5-88a5-abe7c7693f41",
   "metadata": {},
   "outputs": [],
   "source": [
    "course_name = ['Data Science', 'Machine Learning', 'Big Data', 'Data Engineer']\n",
    "duration = [2,3,6,4]"
   ]
  },
  {
   "cell_type": "code",
   "execution_count": 4,
   "id": "106b81b3-02e5-404e-b1fd-3ebd4f57048d",
   "metadata": {},
   "outputs": [],
   "source": [
    "df = pd.DataFrame(data = {'course_name' : course_name, 'duration' : duration})"
   ]
  },
  {
   "cell_type": "code",
   "execution_count": 5,
   "id": "646f308f-3f47-401a-8827-bbbb0920382c",
   "metadata": {},
   "outputs": [
    {
     "data": {
      "text/html": [
       "<div>\n",
       "<style scoped>\n",
       "    .dataframe tbody tr th:only-of-type {\n",
       "        vertical-align: middle;\n",
       "    }\n",
       "\n",
       "    .dataframe tbody tr th {\n",
       "        vertical-align: top;\n",
       "    }\n",
       "\n",
       "    .dataframe thead th {\n",
       "        text-align: right;\n",
       "    }\n",
       "</style>\n",
       "<table border=\"1\" class=\"dataframe\">\n",
       "  <thead>\n",
       "    <tr style=\"text-align: right;\">\n",
       "      <th></th>\n",
       "      <th>course_name</th>\n",
       "      <th>duration</th>\n",
       "    </tr>\n",
       "  </thead>\n",
       "  <tbody>\n",
       "    <tr>\n",
       "      <th>0</th>\n",
       "      <td>Data Science</td>\n",
       "      <td>2</td>\n",
       "    </tr>\n",
       "    <tr>\n",
       "      <th>1</th>\n",
       "      <td>Machine Learning</td>\n",
       "      <td>3</td>\n",
       "    </tr>\n",
       "    <tr>\n",
       "      <th>2</th>\n",
       "      <td>Big Data</td>\n",
       "      <td>6</td>\n",
       "    </tr>\n",
       "    <tr>\n",
       "      <th>3</th>\n",
       "      <td>Data Engineer</td>\n",
       "      <td>4</td>\n",
       "    </tr>\n",
       "  </tbody>\n",
       "</table>\n",
       "</div>"
      ],
      "text/plain": [
       "        course_name  duration\n",
       "0      Data Science         2\n",
       "1  Machine Learning         3\n",
       "2          Big Data         6\n",
       "3     Data Engineer         4"
      ]
     },
     "execution_count": 5,
     "metadata": {},
     "output_type": "execute_result"
    }
   ],
   "source": [
    "df.head()"
   ]
  },
  {
   "cell_type": "code",
   "execution_count": 6,
   "id": "351df0aa-5b82-4652-ba68-0218619a217e",
   "metadata": {},
   "outputs": [],
   "source": [
    "##Q1. Write a code to print the data present in the second row of the dataframe, df."
   ]
  },
  {
   "cell_type": "code",
   "execution_count": 7,
   "id": "6bf09032-c07e-4644-b301-62debf167003",
   "metadata": {},
   "outputs": [
    {
     "name": "stdout",
     "output_type": "stream",
     "text": [
      "        course_name  duration\n",
      "1  Machine Learning         3\n"
     ]
    }
   ],
   "source": [
    "##Q1-ans:\n",
    "print(df.iloc[1:2])"
   ]
  },
  {
   "cell_type": "code",
   "execution_count": 8,
   "id": "3fb0ca7c-e58c-4a8f-b5d6-cfd891509ce8",
   "metadata": {},
   "outputs": [],
   "source": [
    "##Q2. What is the difference between the functions loc and iloc in pandas.DataFrame?"
   ]
  },
  {
   "cell_type": "code",
   "execution_count": 9,
   "id": "407b25d9-0460-43d5-9c83-d729276ecaaf",
   "metadata": {},
   "outputs": [],
   "source": [
    "##Q2_ans:\n",
    "\n",
    "##There are two major differences:\n",
    "\n",
    "##1. iloc function understands the internal allocated indexes whereas loc understands the named indexes\n",
    "##2. iloc doesnt consider the upper bound in the input whereas loc considers the upper bound"
   ]
  },
  {
   "cell_type": "code",
   "execution_count": 10,
   "id": "419dea9a-47c6-4e30-af7a-eef304226a51",
   "metadata": {},
   "outputs": [],
   "source": [
    "##Q3. Reindex the given dataframe using a variable, reindex = [3,0,1,2] and store it in the variable, new_df then find the output for both new_df.loc[2] and new_df.iloc[2]."
   ]
  },
  {
   "cell_type": "code",
   "execution_count": 11,
   "id": "c78fcac3-9198-4b79-9890-d321ee05bd66",
   "metadata": {},
   "outputs": [],
   "source": [
    "##Q3_ans:\n",
    "\n",
    "reindex=[3,0,1,2]"
   ]
  },
  {
   "cell_type": "code",
   "execution_count": 15,
   "id": "98de6b02-3d02-4472-860b-6514978f2d77",
   "metadata": {},
   "outputs": [
    {
     "data": {
      "text/html": [
       "<div>\n",
       "<style scoped>\n",
       "    .dataframe tbody tr th:only-of-type {\n",
       "        vertical-align: middle;\n",
       "    }\n",
       "\n",
       "    .dataframe tbody tr th {\n",
       "        vertical-align: top;\n",
       "    }\n",
       "\n",
       "    .dataframe thead th {\n",
       "        text-align: right;\n",
       "    }\n",
       "</style>\n",
       "<table border=\"1\" class=\"dataframe\">\n",
       "  <thead>\n",
       "    <tr style=\"text-align: right;\">\n",
       "      <th></th>\n",
       "      <th>course_name</th>\n",
       "      <th>duration</th>\n",
       "    </tr>\n",
       "  </thead>\n",
       "  <tbody>\n",
       "    <tr>\n",
       "      <th>0</th>\n",
       "      <td>Data Science</td>\n",
       "      <td>2</td>\n",
       "    </tr>\n",
       "    <tr>\n",
       "      <th>1</th>\n",
       "      <td>Machine Learning</td>\n",
       "      <td>3</td>\n",
       "    </tr>\n",
       "    <tr>\n",
       "      <th>2</th>\n",
       "      <td>Big Data</td>\n",
       "      <td>6</td>\n",
       "    </tr>\n",
       "    <tr>\n",
       "      <th>3</th>\n",
       "      <td>Data Engineer</td>\n",
       "      <td>4</td>\n",
       "    </tr>\n",
       "  </tbody>\n",
       "</table>\n",
       "</div>"
      ],
      "text/plain": [
       "        course_name  duration\n",
       "0      Data Science         2\n",
       "1  Machine Learning         3\n",
       "2          Big Data         6\n",
       "3     Data Engineer         4"
      ]
     },
     "execution_count": 15,
     "metadata": {},
     "output_type": "execute_result"
    }
   ],
   "source": [
    "df.drop('reindex',axis=1)"
   ]
  },
  {
   "cell_type": "code",
   "execution_count": 16,
   "id": "66d39151-9961-4082-b0f1-4266c37adfd8",
   "metadata": {},
   "outputs": [],
   "source": [
    "new_df=pd.DataFrame(data = {'course_name' : course_name, 'duration' : duration},index=reindex)"
   ]
  },
  {
   "cell_type": "code",
   "execution_count": 17,
   "id": "dfbb2066-e7e9-478f-8115-e34b3c52c598",
   "metadata": {},
   "outputs": [
    {
     "data": {
      "text/html": [
       "<div>\n",
       "<style scoped>\n",
       "    .dataframe tbody tr th:only-of-type {\n",
       "        vertical-align: middle;\n",
       "    }\n",
       "\n",
       "    .dataframe tbody tr th {\n",
       "        vertical-align: top;\n",
       "    }\n",
       "\n",
       "    .dataframe thead th {\n",
       "        text-align: right;\n",
       "    }\n",
       "</style>\n",
       "<table border=\"1\" class=\"dataframe\">\n",
       "  <thead>\n",
       "    <tr style=\"text-align: right;\">\n",
       "      <th></th>\n",
       "      <th>course_name</th>\n",
       "      <th>duration</th>\n",
       "    </tr>\n",
       "  </thead>\n",
       "  <tbody>\n",
       "    <tr>\n",
       "      <th>3</th>\n",
       "      <td>Data Science</td>\n",
       "      <td>2</td>\n",
       "    </tr>\n",
       "    <tr>\n",
       "      <th>0</th>\n",
       "      <td>Machine Learning</td>\n",
       "      <td>3</td>\n",
       "    </tr>\n",
       "    <tr>\n",
       "      <th>1</th>\n",
       "      <td>Big Data</td>\n",
       "      <td>6</td>\n",
       "    </tr>\n",
       "    <tr>\n",
       "      <th>2</th>\n",
       "      <td>Data Engineer</td>\n",
       "      <td>4</td>\n",
       "    </tr>\n",
       "  </tbody>\n",
       "</table>\n",
       "</div>"
      ],
      "text/plain": [
       "        course_name  duration\n",
       "3      Data Science         2\n",
       "0  Machine Learning         3\n",
       "1          Big Data         6\n",
       "2     Data Engineer         4"
      ]
     },
     "execution_count": 17,
     "metadata": {},
     "output_type": "execute_result"
    }
   ],
   "source": [
    "new_df"
   ]
  },
  {
   "cell_type": "code",
   "execution_count": 18,
   "id": "244e6412-9b44-4475-8494-9002b6d492e5",
   "metadata": {},
   "outputs": [
    {
     "data": {
      "text/plain": [
       "course_name    Data Engineer\n",
       "duration                   4\n",
       "Name: 2, dtype: object"
      ]
     },
     "execution_count": 18,
     "metadata": {},
     "output_type": "execute_result"
    }
   ],
   "source": [
    "new_df.loc[2]"
   ]
  },
  {
   "cell_type": "code",
   "execution_count": 19,
   "id": "2efe3b07-3161-4a36-bcfd-3f43d48263a7",
   "metadata": {},
   "outputs": [
    {
     "data": {
      "text/plain": [
       "course_name    Big Data\n",
       "duration              6\n",
       "Name: 1, dtype: object"
      ]
     },
     "execution_count": 19,
     "metadata": {},
     "output_type": "execute_result"
    }
   ],
   "source": [
    "new_df.iloc[2]"
   ]
  },
  {
   "cell_type": "code",
   "execution_count": 20,
   "id": "34262beb-28f6-49bd-b6bf-5f3ca64b063f",
   "metadata": {},
   "outputs": [],
   "source": [
    "##There is a difference in the outputs mainly because loc considers the input to be the upper bound and includes it in the final output whereas iloc considers input-1 to be index for the final output."
   ]
  },
  {
   "cell_type": "code",
   "execution_count": 32,
   "id": "f3ecf96d-bec7-4ec4-9563-ab88234d71f0",
   "metadata": {},
   "outputs": [],
   "source": [
    "import pandas as pd\n",
    "import numpy as np\n",
    "columns = ['column_1', 'column_2', 'column_3', 'column_4', 'column_5', 'column_6']\n",
    "indices = [1,2,3,4,5,6]\n",
    "#Creating a dataframe:\n",
    "df1 = pd.DataFrame(np.random.rand(6,6), columns = columns, index = indices)"
   ]
  },
  {
   "cell_type": "code",
   "execution_count": 33,
   "id": "b021cf2c-00c9-481c-9fa7-284a78d87303",
   "metadata": {},
   "outputs": [
    {
     "data": {
      "text/html": [
       "<div>\n",
       "<style scoped>\n",
       "    .dataframe tbody tr th:only-of-type {\n",
       "        vertical-align: middle;\n",
       "    }\n",
       "\n",
       "    .dataframe tbody tr th {\n",
       "        vertical-align: top;\n",
       "    }\n",
       "\n",
       "    .dataframe thead th {\n",
       "        text-align: right;\n",
       "    }\n",
       "</style>\n",
       "<table border=\"1\" class=\"dataframe\">\n",
       "  <thead>\n",
       "    <tr style=\"text-align: right;\">\n",
       "      <th></th>\n",
       "      <th>column_1</th>\n",
       "      <th>column_2</th>\n",
       "      <th>column_3</th>\n",
       "      <th>column_4</th>\n",
       "      <th>column_5</th>\n",
       "      <th>column_6</th>\n",
       "    </tr>\n",
       "  </thead>\n",
       "  <tbody>\n",
       "    <tr>\n",
       "      <th>1</th>\n",
       "      <td>0.904684</td>\n",
       "      <td>0.450569</td>\n",
       "      <td>0.484488</td>\n",
       "      <td>0.131608</td>\n",
       "      <td>0.648201</td>\n",
       "      <td>0.502368</td>\n",
       "    </tr>\n",
       "    <tr>\n",
       "      <th>2</th>\n",
       "      <td>0.008312</td>\n",
       "      <td>0.874501</td>\n",
       "      <td>0.069580</td>\n",
       "      <td>0.885886</td>\n",
       "      <td>0.152127</td>\n",
       "      <td>0.447649</td>\n",
       "    </tr>\n",
       "    <tr>\n",
       "      <th>3</th>\n",
       "      <td>0.793957</td>\n",
       "      <td>0.248356</td>\n",
       "      <td>0.553525</td>\n",
       "      <td>0.228404</td>\n",
       "      <td>0.499756</td>\n",
       "      <td>0.997007</td>\n",
       "    </tr>\n",
       "    <tr>\n",
       "      <th>4</th>\n",
       "      <td>0.150509</td>\n",
       "      <td>0.420669</td>\n",
       "      <td>0.767827</td>\n",
       "      <td>0.468619</td>\n",
       "      <td>0.899173</td>\n",
       "      <td>0.105804</td>\n",
       "    </tr>\n",
       "    <tr>\n",
       "      <th>5</th>\n",
       "      <td>0.783911</td>\n",
       "      <td>0.748207</td>\n",
       "      <td>0.704145</td>\n",
       "      <td>0.813402</td>\n",
       "      <td>0.123286</td>\n",
       "      <td>0.210071</td>\n",
       "    </tr>\n",
       "    <tr>\n",
       "      <th>6</th>\n",
       "      <td>0.815981</td>\n",
       "      <td>0.744748</td>\n",
       "      <td>0.179859</td>\n",
       "      <td>0.632050</td>\n",
       "      <td>0.306806</td>\n",
       "      <td>0.097912</td>\n",
       "    </tr>\n",
       "  </tbody>\n",
       "</table>\n",
       "</div>"
      ],
      "text/plain": [
       "   column_1  column_2  column_3  column_4  column_5  column_6\n",
       "1  0.904684  0.450569  0.484488  0.131608  0.648201  0.502368\n",
       "2  0.008312  0.874501  0.069580  0.885886  0.152127  0.447649\n",
       "3  0.793957  0.248356  0.553525  0.228404  0.499756  0.997007\n",
       "4  0.150509  0.420669  0.767827  0.468619  0.899173  0.105804\n",
       "5  0.783911  0.748207  0.704145  0.813402  0.123286  0.210071\n",
       "6  0.815981  0.744748  0.179859  0.632050  0.306806  0.097912"
      ]
     },
     "execution_count": 33,
     "metadata": {},
     "output_type": "execute_result"
    }
   ],
   "source": [
    "df1"
   ]
  },
  {
   "cell_type": "code",
   "execution_count": 34,
   "id": "fe1e55fd-2b14-4183-98ba-e0d83b8ec035",
   "metadata": {},
   "outputs": [],
   "source": [
    "##Q4. Write a code to find the following statistical measurements for the above dataframe df1:\n",
    "##(i) mean of each and every column present in the dataframe.\n",
    "##(ii) standard deviation of column, ‘column_2’"
   ]
  },
  {
   "cell_type": "code",
   "execution_count": 35,
   "id": "9d30bb05-bc3f-49b6-b8f4-92eb63f4bf9b",
   "metadata": {},
   "outputs": [
    {
     "data": {
      "text/html": [
       "<div>\n",
       "<style scoped>\n",
       "    .dataframe tbody tr th:only-of-type {\n",
       "        vertical-align: middle;\n",
       "    }\n",
       "\n",
       "    .dataframe tbody tr th {\n",
       "        vertical-align: top;\n",
       "    }\n",
       "\n",
       "    .dataframe thead th {\n",
       "        text-align: right;\n",
       "    }\n",
       "</style>\n",
       "<table border=\"1\" class=\"dataframe\">\n",
       "  <thead>\n",
       "    <tr style=\"text-align: right;\">\n",
       "      <th></th>\n",
       "      <th>column_1</th>\n",
       "      <th>column_2</th>\n",
       "      <th>column_3</th>\n",
       "      <th>column_4</th>\n",
       "      <th>column_5</th>\n",
       "      <th>column_6</th>\n",
       "    </tr>\n",
       "  </thead>\n",
       "  <tbody>\n",
       "    <tr>\n",
       "      <th>count</th>\n",
       "      <td>6.000000</td>\n",
       "      <td>6.000000</td>\n",
       "      <td>6.000000</td>\n",
       "      <td>6.000000</td>\n",
       "      <td>6.000000</td>\n",
       "      <td>6.000000</td>\n",
       "    </tr>\n",
       "    <tr>\n",
       "      <th>mean</th>\n",
       "      <td>0.576226</td>\n",
       "      <td>0.581175</td>\n",
       "      <td>0.459904</td>\n",
       "      <td>0.526661</td>\n",
       "      <td>0.438225</td>\n",
       "      <td>0.393468</td>\n",
       "    </tr>\n",
       "    <tr>\n",
       "      <th>std</th>\n",
       "      <td>0.389787</td>\n",
       "      <td>0.242604</td>\n",
       "      <td>0.280933</td>\n",
       "      <td>0.306843</td>\n",
       "      <td>0.302872</td>\n",
       "      <td>0.341407</td>\n",
       "    </tr>\n",
       "    <tr>\n",
       "      <th>min</th>\n",
       "      <td>0.008312</td>\n",
       "      <td>0.248356</td>\n",
       "      <td>0.069580</td>\n",
       "      <td>0.131608</td>\n",
       "      <td>0.123286</td>\n",
       "      <td>0.097912</td>\n",
       "    </tr>\n",
       "    <tr>\n",
       "      <th>25%</th>\n",
       "      <td>0.308860</td>\n",
       "      <td>0.428144</td>\n",
       "      <td>0.256016</td>\n",
       "      <td>0.288458</td>\n",
       "      <td>0.190797</td>\n",
       "      <td>0.131871</td>\n",
       "    </tr>\n",
       "    <tr>\n",
       "      <th>50%</th>\n",
       "      <td>0.788934</td>\n",
       "      <td>0.597659</td>\n",
       "      <td>0.519007</td>\n",
       "      <td>0.550334</td>\n",
       "      <td>0.403281</td>\n",
       "      <td>0.328860</td>\n",
       "    </tr>\n",
       "    <tr>\n",
       "      <th>75%</th>\n",
       "      <td>0.810475</td>\n",
       "      <td>0.747342</td>\n",
       "      <td>0.666490</td>\n",
       "      <td>0.768064</td>\n",
       "      <td>0.611090</td>\n",
       "      <td>0.488688</td>\n",
       "    </tr>\n",
       "    <tr>\n",
       "      <th>max</th>\n",
       "      <td>0.904684</td>\n",
       "      <td>0.874501</td>\n",
       "      <td>0.767827</td>\n",
       "      <td>0.885886</td>\n",
       "      <td>0.899173</td>\n",
       "      <td>0.997007</td>\n",
       "    </tr>\n",
       "  </tbody>\n",
       "</table>\n",
       "</div>"
      ],
      "text/plain": [
       "       column_1  column_2  column_3  column_4  column_5  column_6\n",
       "count  6.000000  6.000000  6.000000  6.000000  6.000000  6.000000\n",
       "mean   0.576226  0.581175  0.459904  0.526661  0.438225  0.393468\n",
       "std    0.389787  0.242604  0.280933  0.306843  0.302872  0.341407\n",
       "min    0.008312  0.248356  0.069580  0.131608  0.123286  0.097912\n",
       "25%    0.308860  0.428144  0.256016  0.288458  0.190797  0.131871\n",
       "50%    0.788934  0.597659  0.519007  0.550334  0.403281  0.328860\n",
       "75%    0.810475  0.747342  0.666490  0.768064  0.611090  0.488688\n",
       "max    0.904684  0.874501  0.767827  0.885886  0.899173  0.997007"
      ]
     },
     "execution_count": 35,
     "metadata": {},
     "output_type": "execute_result"
    }
   ],
   "source": [
    "##Q4-ans:\n",
    "\n",
    "df1.describe()\n",
    "\n",
    "##describe can be used to calculate all relevant statistical measures"
   ]
  },
  {
   "cell_type": "code",
   "execution_count": 36,
   "id": "70f7b04b-8a01-40ee-b220-1e2937668d50",
   "metadata": {},
   "outputs": [
    {
     "data": {
      "text/plain": [
       "column_1    0.576226\n",
       "column_2    0.581175\n",
       "column_3    0.459904\n",
       "column_4    0.526661\n",
       "column_5    0.438225\n",
       "column_6    0.393468\n",
       "dtype: float64"
      ]
     },
     "execution_count": 36,
     "metadata": {},
     "output_type": "execute_result"
    }
   ],
   "source": [
    "df1.mean()"
   ]
  },
  {
   "cell_type": "code",
   "execution_count": 37,
   "id": "f8b7873e-8f4b-4880-b03c-6844784a6b5d",
   "metadata": {},
   "outputs": [
    {
     "data": {
      "text/plain": [
       "0.24260427633018597"
      ]
     },
     "execution_count": 37,
     "metadata": {},
     "output_type": "execute_result"
    }
   ],
   "source": [
    "df1['column_2'].std()"
   ]
  },
  {
   "cell_type": "code",
   "execution_count": 43,
   "id": "676c67e0-1b96-4dee-8bc3-cb6b63e47cae",
   "metadata": {},
   "outputs": [],
   "source": [
    "df1.loc[2,'column_2']=['b']"
   ]
  },
  {
   "cell_type": "code",
   "execution_count": 44,
   "id": "aa6cd44e-0cc0-414e-b41c-2c5962e6bfc9",
   "metadata": {},
   "outputs": [
    {
     "name": "stderr",
     "output_type": "stream",
     "text": [
      "/tmp/ipykernel_91/2053335143.py:1: FutureWarning: The default value of numeric_only in DataFrame.mean is deprecated. In a future version, it will default to False. In addition, specifying 'numeric_only=None' is deprecated. Select only valid columns or specify the value of numeric_only to silence this warning.\n",
      "  df1.mean()\n"
     ]
    },
    {
     "data": {
      "text/plain": [
       "column_1    0.576226\n",
       "column_3    0.459904\n",
       "column_4    0.526661\n",
       "column_5    0.438225\n",
       "column_6    0.393468\n",
       "dtype: float64"
      ]
     },
     "execution_count": 44,
     "metadata": {},
     "output_type": "execute_result"
    }
   ],
   "source": [
    "df1.mean()"
   ]
  },
  {
   "cell_type": "code",
   "execution_count": 45,
   "id": "81b168c6-5300-4355-a093-d03c3fe58d85",
   "metadata": {},
   "outputs": [],
   "source": [
    "##The mean excluded column 2 as there is a string variable and mean can only be executed for all numeric inputs."
   ]
  },
  {
   "cell_type": "code",
   "execution_count": null,
   "id": "bd1e0043-10c5-46e4-be29-c863dc8ebcf5",
   "metadata": {},
   "outputs": [],
   "source": [
    "##Q6-ans:\n",
    "\n",
    "##In Pandas, the window function allows for rolling window calculations, which are essential for time-series data analysis and other types of data manipulation tasks. It enables users to perform calculations over a specified window of data points, which can then be used for aggregation, transformation, or other operations.\n",
    "\n",
    "##The window function operates in conjunction with other functions like rolling, expanding, and ewm (Exponentially Weighted Moving Average) in Pandas.\n",
    "\n",
    "##Types of window functions in Pandas include:\n",
    "\n",
    "##rolling: This function is used to provide rolling window calculations. It computes rolling statistics like rolling mean, rolling sum, rolling min, rolling max, etc., over a specified window size.\n",
    "\n",
    "##expanding: The expanding window function computes statistics for all values in the data set from the beginning until each point. It gradually includes more data in each computation, hence 'expanding'.\n",
    "\n",
    "##ewm (Exponentially Weighted Moving Average): This function provides exponentially weighted moving averages. It assigns exponentially decreasing weights to the observations, with more recent observations receiving higher weights."
   ]
  },
  {
   "cell_type": "code",
   "execution_count": 47,
   "id": "7bb1fbc4-83c7-4f49-88b6-e851e16170cc",
   "metadata": {},
   "outputs": [
    {
     "name": "stdout",
     "output_type": "stream",
     "text": [
      "2\n",
      "2024\n"
     ]
    }
   ],
   "source": [
    "##Q7. Write a code to print only the current month and year at the time of answering this question. [Hint: Use pandas.datetime function]\n",
    "\n",
    "##Ans:\n",
    "\n",
    "from datetime import datetime\n",
    "current_date=datetime.now()\n",
    "current_month=current_date.month\n",
    "current_year=current_date.year\n",
    "\n",
    "print(current_month)\n",
    "print(current_year)"
   ]
  },
  {
   "cell_type": "code",
   "execution_count": 49,
   "id": "e977f8c3-3791-48ce-b4a9-780512eff97c",
   "metadata": {},
   "outputs": [
    {
     "name": "stdin",
     "output_type": "stream",
     "text": [
      "Enter the first date (YYYY-MM-DD):  2022-03-19\n",
      "Enter the second date (YYYY-MM-DD):  2023-10-29\n"
     ]
    },
    {
     "name": "stdout",
     "output_type": "stream",
     "text": [
      "Time difference:\n",
      "Days: 589\n",
      "Hours: 0\n",
      "Minutes: 0\n"
     ]
    }
   ],
   "source": [
    "##Ans to ques 8:\n",
    "\n",
    "def main():\n",
    "    # Prompt the user to enter the first date\n",
    "    date1_str = input(\"Enter the first date (YYYY-MM-DD): \")\n",
    "\n",
    "    # Prompt the user to enter the second date\n",
    "    date2_str = input(\"Enter the second date (YYYY-MM-DD): \")\n",
    "\n",
    "    # Convert the input strings to datetime objects\n",
    "    date1 = pd.to_datetime(date1_str)\n",
    "    date2 = pd.to_datetime(date2_str)\n",
    "\n",
    "    # Calculate the time difference between the dates\n",
    "    time_diff = date2 - date1\n",
    "\n",
    "    # Extract days, hours, and minutes from the time difference\n",
    "    days = time_diff.days\n",
    "    hours = time_diff.seconds // 3600\n",
    "    minutes = (time_diff.seconds % 3600) // 60\n",
    "\n",
    "    # Display the result\n",
    "    print(\"Time difference:\")\n",
    "    print(f\"Days: {days}\")\n",
    "    print(f\"Hours: {hours}\")\n",
    "    print(f\"Minutes: {minutes}\")\n",
    "\n",
    "if __name__ == \"__main__\":\n",
    "    main()"
   ]
  },
  {
   "cell_type": "code",
   "execution_count": null,
   "id": "1c4d1f19-881c-4b15-83d2-206c6a4ba20e",
   "metadata": {},
   "outputs": [],
   "source": [
    "##Ans to ques 9:\n",
    "\n",
    "import pandas as pd\n",
    "\n",
    "def main():\n",
    "    # Prompt the user to enter the file path\n",
    "    file_path = input(\"Enter the file path of the CSV file: \")\n",
    "\n",
    "    # Read the CSV file into a DataFrame\n",
    "    df = pd.read_csv(file_path)\n",
    "\n",
    "    # Display the DataFrame to show available columns\n",
    "    print(\"Available columns:\")\n",
    "    print(df.columns)\n",
    "\n",
    "    # Prompt the user to enter the column name to convert\n",
    "    column_name = input(\"Enter the column name to convert to categorical: \")\n",
    "\n",
    "    # Prompt the user to enter the category order separated by commas\n",
    "    category_order_str = input(\"Enter the category order (comma-separated): \")\n",
    "    category_order = [cat.strip() for cat in category_order_str.split(',')]\n",
    "\n",
    "    # Convert the specified column to categorical with the specified order\n",
    "    df[column_name] = pd.Categorical(df[column_name], categories=category_order, ordered=True)\n",
    "\n",
    "    # Sort the DataFrame based on the categorical column\n",
    "    df_sorted = df.sort_values(by=[column_name])\n",
    "\n",
    "    # Display the sorted DataFrame\n",
    "    print(\"\\nSorted Data:\")\n",
    "    print(df_sorted)\n",
    "\n",
    "if __name__ == \"__main__\":\n",
    "    main()\n"
   ]
  },
  {
   "cell_type": "code",
   "execution_count": null,
   "id": "e2cd9480-6621-410e-b1e8-d75f24249d3d",
   "metadata": {},
   "outputs": [],
   "source": [
    "##Ans to Q10:\n",
    "\n",
    "import pandas as pd\n",
    "import matplotlib.pyplot as plt\n",
    "\n",
    "def main():\n",
    "    # Prompt the user to enter the file path of the CSV file\n",
    "    file_path = input(\"Enter the file path of the CSV file: \")\n",
    "\n",
    "    # Read the CSV file into a DataFrame\n",
    "    try:\n",
    "        df = pd.read_csv(file_path)\n",
    "    except FileNotFoundError:\n",
    "        print(\"File not found. Please check the file path.\")\n",
    "        return\n",
    "    except Exception as e:\n",
    "        print(\"An error occurred:\", e)\n",
    "        return\n",
    "\n",
    "    # Convert the 'Date' column to datetime type\n",
    "    df['Date'] = pd.to_datetime(df['Date'])\n",
    "\n",
    "    # Extract product categories\n",
    "    product_categories = df.columns[1:]\n",
    "\n",
    "    # Group by date and sum the sales for each product category\n",
    "    sales_by_date = df.groupby('Date')[product_categories].sum()\n",
    "\n",
    "    # Plotting the stacked bar chart\n",
    "    sales_by_date.plot(kind='bar', stacked=True, figsize=(12, 6))\n",
    "    plt.title('Sales of Product Categories Over Time')\n",
    "    plt.xlabel('Date')\n",
    "    plt.ylabel('Sales')\n",
    "    plt.xticks(rotation=45)\n",
    "    plt.legend(title='Product Category')\n",
    "    plt.tight_layout()\n",
    "    plt.show()\n",
    "\n",
    "if __name__ == \"__main__\":\n",
    "    main()"
   ]
  },
  {
   "cell_type": "code",
   "execution_count": null,
   "id": "fb85e6ec-9f0c-4207-86e4-b837086f33ad",
   "metadata": {},
   "outputs": [],
   "source": [
    "##Ans to Q11:\n",
    "\n",
    "import pandas as pd\n",
    "\n",
    "def main():\n",
    "    # Prompt the user to enter the file path of the CSV file\n",
    "    file_path = input(\"Enter the file path of the CSV file: \")\n",
    "\n",
    "    # Read the CSV file into a DataFrame\n",
    "    try:\n",
    "        df = pd.read_csv(file_path)\n",
    "    except FileNotFoundError:\n",
    "        print(\"File not found. Please check the file path.\")\n",
    "        return\n",
    "    except Exception as e:\n",
    "        print(\"An error occurred:\", e)\n",
    "        return\n",
    "\n",
    "    # Calculate mean, median, and mode\n",
    "    mean_score = df['Test Score'].mean()\n",
    "    median_score = df['Test Score'].median()\n",
    "    mode_score = df['Test Score'].mode()\n",
    "\n",
    "    # Create a DataFrame to display the results\n",
    "    results_df = pd.DataFrame({\n",
    "        'Statistic': ['Mean', 'Median', 'Mode'],\n",
    "        'Value': [mean_score, median_score, mode_score[0]]  # mode returns a Series, get the first value\n",
    "    })\n",
    "\n",
    "    # Display the results\n",
    "    print(\"\\nStatistics of Test Scores:\")\n",
    "    print(results_df)\n",
    "\n",
    "if __name__ == \"__main__\":\n",
    "    main()\n"
   ]
  },
  {
   "cell_type": "code",
   "execution_count": null,
   "id": "32f90521-ba5d-4fd3-b638-3a9c5ffe9df0",
   "metadata": {},
   "outputs": [],
   "source": []
  },
  {
   "cell_type": "code",
   "execution_count": null,
   "id": "2425e406-3ad0-405b-9790-3fc4bc4d9dfa",
   "metadata": {},
   "outputs": [],
   "source": []
  },
  {
   "cell_type": "code",
   "execution_count": null,
   "id": "7c814796-24ac-4ecc-9d1e-c1d52ed58e0c",
   "metadata": {},
   "outputs": [],
   "source": []
  },
  {
   "cell_type": "code",
   "execution_count": null,
   "id": "8f475ae1-c95e-4b2b-801e-38a24f7e02d5",
   "metadata": {},
   "outputs": [],
   "source": []
  }
 ],
 "metadata": {
  "kernelspec": {
   "display_name": "Python 3 (ipykernel)",
   "language": "python",
   "name": "python3"
  },
  "language_info": {
   "codemirror_mode": {
    "name": "ipython",
    "version": 3
   },
   "file_extension": ".py",
   "mimetype": "text/x-python",
   "name": "python",
   "nbconvert_exporter": "python",
   "pygments_lexer": "ipython3",
   "version": "3.10.8"
  }
 },
 "nbformat": 4,
 "nbformat_minor": 5
}
