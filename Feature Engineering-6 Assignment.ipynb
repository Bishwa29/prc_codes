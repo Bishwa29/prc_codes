{
 "cells": [
  {
   "cell_type": "code",
   "execution_count": null,
   "id": "361915b9-00b5-4b4d-9758-54fd4ace592e",
   "metadata": {},
   "outputs": [],
   "source": [
    "##Feature Engineering-6 Assignment"
   ]
  },
  {
   "cell_type": "code",
   "execution_count": null,
   "id": "758d4160-2d8e-4460-82f3-1dc0c0f08fe4",
   "metadata": {},
   "outputs": [],
   "source": [
    "##Q1. Pearson correlation coefficient is a measure of the linear relationship between two variables. Suppose you have collected data on the amount of time students spend studying for an exam and their final exam scores. Calculate the Pearson correlation coefficient between these two variables and interpret the result.\n",
    "\n",
    "##A1. To calculate the Pearson correlation coefficient between the amount of time students spend studying for an exam and their final exam scores, and then interpret the result, follow these steps:\n",
    "\n",
    "##Collect Data: Obtain data for each student that includes:\n",
    "##Xi: Amount of time spent studying (in hours).\n",
    "##Yi: Final exam score (numerical grade or percentage).\n",
    "\n",
    "##Calculate Means: Compute the mean (average) of the studying time and the final exam scores\n",
    "\n",
    "##Calculate Standard Deviations: Compute the standard deviations of the studying time and the final exam scores\n",
    "\n",
    "##Compute Covariance: Calculate the covariance between studying time and exam scores\n",
    "\n",
    "##Compute Pearson Correlation Coefficient(𝑟): Cov (X,Y)/(Sx*Sy)\n",
    "##Based on the sign and value of the coefficient, we will be able to establish the relationship between X and Y.\n",
    "##Suppose if we get a value of +0.9, this means that there is a very strong positive correlation between amount of time spend studying and final exam score.\n",
    "##Thus, the more number of hours being spent in studying will result in a higher exam score."
   ]
  },
  {
   "cell_type": "code",
   "execution_count": null,
   "id": "5f23ef9e-cd8f-4444-847c-802b8ef27008",
   "metadata": {},
   "outputs": [],
   "source": [
    "##Q2. Spearman's rank correlation is a measure of the monotonic relationship between two variables. Suppose you have collected data on the amount of sleep individuals get each night and their overall job satisfaction level on a scale of 1 to 10. Calculate the Spearman's rank correlation between these two variables and interpret the result.\n",
    "\n",
    "##A2. To calculate Spearman's rank correlation coefficient between the amount of sleep individuals get each night and their overall job satisfaction level, and then interpret the result, follow these steps:\n",
    "\n",
    "##Collect Data: Obtain data for each individual that includes:\n",
    "##Xi: Amount of sleep individuals get in the night (in hours).\n",
    "##Yi: Overall job satisfaction (in a scale of 1 to 10).\n",
    "\n",
    "##Calculate Ranks: Within each dataset, create the ranking of each data point relative to the other data points.\n",
    "\n",
    "##Compute the Differences in Ranks: Calculate the differences 𝐷𝑖=Rank of 𝑋𝑖−Rank of 𝑌𝑖 for each individual.\n",
    "\n",
    "##Square the Differences: Square each difference Di to make it Di^2.\n",
    "\n",
    "##Summation: Sum all squares of differences\n",
    "\n",
    "##Calculate Spearman's Rank Correlation Coefficient (𝜌): 1-[(6/(n*(n^2-1)))*Summation]\n",
    "\n",
    "##Magnitude: The value of 𝜌 ranges between -1 and +1.\n",
    "\n",
    "##Direction: ρ>0: There is a positive monotonic relationship - as amount of sleep increases, job satisfaction tends to increase.\n",
    "##ρ<0: There is a negative monotonic relationship - as amount of sleep increases, job satisfaction tends to decrease.\n",
    "##Strength: The closer ∣ρ∣ is to 1, the stronger the monotonic relationship."
   ]
  },
  {
   "cell_type": "code",
   "execution_count": null,
   "id": "66809f7b-5b99-49ac-96c8-67b0524f9f7b",
   "metadata": {},
   "outputs": [],
   "source": [
    "##Q3. Suppose you are conducting a study to examine the relationship between the number of hours of exercise per week and body mass index (BMI) in a sample of adults. You collected data on both variables for 50 participants. Calculate the Pearson correlation coefficient and the Spearman's rank correlation between these two variables and compare the results.\n",
    "\n",
    "##A3. To examine the relationship between the number of hours of exercise per week and body mass index (BMI) in a sample of 50 adults, we will calculate both the Pearson correlation coefficient and the Spearman's rank correlation coefficient and compare the results.\n",
    "\n",
    "##Pearson Correlation Coefficient\n",
    "##Collect Data: Obtain data for each participant that includes:\n",
    "##Xi: Number of hours of exercise per week.\n",
    "##Yi: Body mass index (BMI).\n",
    "\n",
    "##Calculate Means: Compute the mean (average) of X (hours of exercise) and Y (BMI).\n",
    "\n",
    "##Calculate Standard Deviations: Compute the standard deviations of X and Y.\n",
    "\n",
    "##Compute Covariance: Calculate the covariance 𝑆𝑋𝑌 between X and Y.\n",
    "\n",
    "##Compute Pearson Correlation Coefficient (𝑟):𝑟=𝑆𝑋𝑌/(𝑆𝑋.𝑆𝑌)\n",
    "\n",
    "##Spearman's Rank Correlation Coefficient\n",
    "##Rank the Data: Rank X (hours of exercise) and Y (BMI).\n",
    "\n",
    "##Calculate Differences in Ranks: Compute the differences \n",
    "##𝐷𝑖=Rank of 𝑋𝑖−Rank of 𝑌𝑖\n",
    "\n",
    "##Square the Differences: Square each difference Di to obtain 𝐷𝑖2\n",
    "\n",
    "##Summation: Sum all 𝐷𝑖2 values to get ∑𝐷𝑖2\n",
    "\n",
    "##Calculate Spearman's Rank Correlation Coefficient (𝜌): 1-[(6/(n*(n^2-1)))*Summation]\n",
    "\n",
    "##Comparison:\n",
    "##Pearson vs Spearman:\n",
    "\n",
    "##Pearson correlation measures the strength and direction of the linear relationship between two variables assuming they follow a bivariate normal distribution.\n",
    "##Spearman correlation measures the strength and direction of the monotonic relationship between two variables, which is more robust to outliers and non-linear relationships.\n",
    "\n",
    "##When to Use Each:\n",
    "\n",
    "##Use Pearson correlation when the relationship between variables is expected to be linear and both variables are approximately normally distributed.\n",
    "##Use Spearman correlation when the relationship may be non-linear or the data does not meet the assumptions of the Pearson correlation (e.g., non-normality, outliers)."
   ]
  },
  {
   "cell_type": "code",
   "execution_count": null,
   "id": "f38c1b3c-6f3c-46e8-b96d-0434806b30cf",
   "metadata": {},
   "outputs": [],
   "source": [
    "##Q4. A researcher is interested in examining the relationship between the number of hours individuals spend watching television per day and their level of physical activity. The researcher collected data on both variables from a sample of 50 participants. Calculate the Pearson correlation coefficient between these two variables.\n",
    "\n",
    "##A4. To calculate the Pearson correlation coefficient between the number of hours individuals spend watching television per day and their level of physical activity, and then interpret the result, follow these steps:\n",
    "\n",
    "##Collect Data: Obtain data for each individual that includes:\n",
    "##Xi: Number of hours individuals spend watching television per day.\n",
    "##Yi: Level of physical activity.\n",
    "\n",
    "##Calculate Means: Compute the mean (average) of the time watching television and the level of physical activity\n",
    "\n",
    "##Calculate Standard Deviations: Compute the standard deviations of the time watching television and the level of physical activity\n",
    "\n",
    "##Compute Covariance: Calculate the covariance between time watching television and the level of physical activity\n",
    "\n",
    "##Compute Pearson Correlation Coefficient(𝑟): Cov (X,Y)/(Sx*Sy)\n",
    "##Based on the sign and value of the coefficient, we will be able to establish the relationship between X and Y.\n",
    "##Suppose if we get a value of -0.9, this means that there is a very strong negative correlation between time watching television and the level of physical activity\n",
    "##Thus, the more number of hours being spent watching television, the lower the physical activity."
   ]
  },
  {
   "cell_type": "code",
   "execution_count": null,
   "id": "8fa616ce-63e3-4cc2-96fa-d8d3ebbd3116",
   "metadata": {},
   "outputs": [],
   "source": [
    "##Q5. A survey was conducted to examine the relationship between age and preference for a particular brand of soft drink. The survey results are shown below:\n",
    "\n",
    "Age(Years)           Soft drink Preference\n",
    "25                           Coke\n",
    "42                           Pepsi\n",
    "37                           Mountain dew\n",
    "19                           Coke\n",
    "31                           Pepsi\n",
    "28                           Coke\n",
    "\n",
    "\n",
    "##A5. The data shows that people in younger age (age<30) would mainly prefer coke and then would either prefer pepsi or mountain dew."
   ]
  },
  {
   "cell_type": "code",
   "execution_count": null,
   "id": "e557a1c9-09d0-4185-81a2-ad55210a151d",
   "metadata": {},
   "outputs": [],
   "source": [
    "##Q6. A company is interested in examining the relationship between the number of sales calls made per day and the number of sales made per week. The company collected data on both variables from a sample of 30 sales representatives. Calculate the Pearson correlation coefficient between these two variables.\n",
    "\n",
    "##A6. To calculate the Pearson correlation coefficient between the number of sales calls made per day and the number of sales made per week, and then interpret the result, follow these steps:\n",
    "\n",
    "##Collect Data: Obtain data for each individual that includes:\n",
    "##Xi: Number of sales calls made per day\n",
    "##Yi: number of sales made per week\n",
    "\n",
    "##Calculate Means: Compute the mean (average) of the number of sales calls made per day and the number of sales made per week\n",
    "\n",
    "##Calculate Standard Deviations: Compute the standard deviations of number of sales calls made per day and the number of sales made per week\n",
    "\n",
    "##Compute Covariance: Calculate the covariance between number of sales calls made per day and the number of sales made per week\n",
    "\n",
    "##Compute Pearson Correlation Coefficient(𝑟): Cov (X,Y)/(Sx*Sy)\n",
    "##Based on the sign and value of the coefficient, we will be able to establish the relationship between X and Y.\n",
    "##Suppose if we get a value of +0.5, this means that there is a decent positive correlation between number of sales calls made per day and the number of sales made per week.\n",
    "##Thus, the more number of sales calls made per day, we also see more number of sales made per week."
   ]
  },
  {
   "cell_type": "code",
   "execution_count": null,
   "id": "e2041960-c453-4123-aae3-8c09f8ed70c2",
   "metadata": {},
   "outputs": [],
   "source": []
  },
  {
   "cell_type": "code",
   "execution_count": null,
   "id": "d3122c4e-c4c6-47b0-824f-db156f742eb0",
   "metadata": {},
   "outputs": [],
   "source": []
  },
  {
   "cell_type": "code",
   "execution_count": null,
   "id": "8bb35905-f7cd-4543-a688-14703041e092",
   "metadata": {},
   "outputs": [],
   "source": []
  },
  {
   "cell_type": "code",
   "execution_count": null,
   "id": "df8f6950-b59b-4789-af10-63a551610a68",
   "metadata": {},
   "outputs": [],
   "source": []
  },
  {
   "cell_type": "code",
   "execution_count": null,
   "id": "29eaa413-7cf2-48b8-a253-c772df15ae94",
   "metadata": {},
   "outputs": [],
   "source": []
  },
  {
   "cell_type": "code",
   "execution_count": null,
   "id": "9c0b2e74-e463-48a2-89ed-30797cf1bda7",
   "metadata": {},
   "outputs": [],
   "source": []
  },
  {
   "cell_type": "code",
   "execution_count": null,
   "id": "fcfad713-6282-428c-b4f2-320b4328a5f8",
   "metadata": {},
   "outputs": [],
   "source": []
  },
  {
   "cell_type": "code",
   "execution_count": null,
   "id": "75c063e0-f717-4224-8b86-ea29f85919c4",
   "metadata": {},
   "outputs": [],
   "source": []
  }
 ],
 "metadata": {
  "kernelspec": {
   "display_name": "Python 3 (ipykernel)",
   "language": "python",
   "name": "python3"
  },
  "language_info": {
   "codemirror_mode": {
    "name": "ipython",
    "version": 3
   },
   "file_extension": ".py",
   "mimetype": "text/x-python",
   "name": "python",
   "nbconvert_exporter": "python",
   "pygments_lexer": "ipython3",
   "version": "3.10.8"
  }
 },
 "nbformat": 4,
 "nbformat_minor": 5
}
