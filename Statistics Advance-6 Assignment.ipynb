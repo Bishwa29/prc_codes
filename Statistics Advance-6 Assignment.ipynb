{
 "cells": [
  {
   "cell_type": "code",
   "execution_count": 1,
   "id": "052499bb-3ac0-4f45-8756-201078f0c1ec",
   "metadata": {},
   "outputs": [],
   "source": [
    "##Statistics Advance-6 Assignment"
   ]
  },
  {
   "cell_type": "code",
   "execution_count": null,
   "id": "6b17959a-6f70-4f7b-b4dc-b90c84451941",
   "metadata": {},
   "outputs": [],
   "source": [
    "##Q1. Explain the assumptions required to use ANOVA and provide examples of violations that could impact the validity of the results.\n",
    "\n",
    "##A1. \n",
    "\n",
    "##ANOVA (Analysis of Variance) is a statistical method used to compare the means of three or more groups. To use ANOVA reliably, certain assumptions must be met. Here are the key assumptions of ANOVA:\n",
    "\n",
    "##Independence of observations: The observations within each group are independent of each other. This means that the data points within one group should not be influenced by the data points in other groups. For example, in a study comparing the effectiveness of different teaching methods on student performance, the performance of one student should not affect the performance of another student.\n",
    "\n",
    "##Normality: The data within each group are normally distributed. This means that the distribution of data points within each group follows a bell-shaped curve. Violation of this assumption could occur when the data are heavily skewed or have outliers. For instance, if a study measures the reaction times of participants to a stimulus and the reaction times are heavily skewed, the assumption of normality may be violated.\n",
    "\n",
    "##Homogeneity of variances (homoscedasticity): The variance of the data within each group is equal. In other words, the spread of data points within each group should be similar. Violation of this assumption, known as heteroscedasticity, occurs when the variability in one group is significantly different from the variability in another group. For example, if a study compares the heights of individuals across different age groups but one age group has much greater variation in heights than the others, it violates the assumption of homogeneity of variances.\n",
    "\n",
    "##Interval or ratio scale: The dependent variable (the variable being measured) is measured on an interval or ratio scale. This means that the data are numerical and the intervals between consecutive values are equal. For example, if a study compares the effectiveness of different doses of a drug on blood pressure, blood pressure measurements must be continuous numerical values.\n",
    "\n",
    "##Violations of these assumptions can impact the validity of ANOVA results:\n",
    "\n",
    "##Independence: If observations within groups are not independent, it could lead to biased estimates of the variability between groups and within groups.\n",
    "\n",
    "##Normality: Violations of normality can affect the accuracy of p-values and confidence intervals calculated by ANOVA. Skewed distributions or outliers can inflate or deflate the Type I error rate (false positive rate).\n",
    "\n",
    "##Homogeneity of variances: If variances are not homogeneous across groups, the F-test in ANOVA may become unreliable. It can lead to an increased Type I error rate and decrease the power of the test.\n",
    "\n",
    "##Interval or ratio scale: If the dependent variable is not measured on an interval or ratio scale, ANOVA may not be appropriate. Using ANOVA with categorical or ordinal data violates the assumptions and may lead to incorrect conclusions.\n",
    "\n",
    "##Overall, it's essential to assess these assumptions before interpreting the results of an ANOVA analysis. \n"
   ]
  },
  {
   "cell_type": "code",
   "execution_count": null,
   "id": "854fbe13-1567-473d-ba28-3d7ff3eaa8e1",
   "metadata": {},
   "outputs": [],
   "source": [
    "##Q2. What are the three types of ANOVA, and in what situations would each be used?\n",
    "\n",
    "##A2. ANOVA (Analysis of Variance) comes in several variations, each designed for different experimental designs and research questions. The three main types of ANOVA are:\n",
    "\n",
    "##One-way ANOVA: One-way ANOVA is used when you have one independent variable (factor) with three or more levels (groups). It's used to determine whether there are any statistically significant differences between the means of the groups. For example:\n",
    "\n",
    "##A study comparing the effect of three different types of fertilizer on plant growth (independent variable: type of fertilizer, levels: fertilizer A, B, and C).\n",
    "##Analyzing the effect of different doses of a drug on pain relief (independent variable: dose, levels: low, medium, high).\n",
    "\n",
    "##Two-way ANOVA: Two-way ANOVA is used when you have two independent variables (factors), and you want to examine the interaction between them and their individual effects on the dependent variable. It allows you to test for main effects of each independent variable as well as their interaction. For example:\n",
    "##Investigating the effects of both gender and treatment type on patient recovery time (independent variables: gender and treatment type).\n",
    "##Examining the influence of both temperature and humidity on plant growth (independent variables: temperature and humidity).\n",
    "\n",
    "##Repeated measures ANOVA: Repeated measures ANOVA is used when the same participants are measured under different conditions or at different time points. It's useful for longitudinal or within-subject designs. This type of ANOVA tests for differences in means across the levels of one or more within-subjects factors. For example:\n",
    "##Evaluating the effectiveness of a new teaching method by measuring student performance before and after the intervention (within-subject factor: time).\n",
    "##Assessing changes in anxiety levels in participants before, during, and after exposure to a stressor (within-subject factor: time points).\n",
    "##Each type of ANOVA has its specific use cases and assumptions. Choosing the appropriate type of ANOVA depends on the research design, the number of independent variables, and the nature of the data being analyzed. It's essential to understand the design of your study and the type of data you have to select the most suitable ANOVA method."
   ]
  },
  {
   "cell_type": "code",
   "execution_count": null,
   "id": "2f2c4b6f-3cb1-4741-9be2-688715692f36",
   "metadata": {},
   "outputs": [],
   "source": [
    "##Q3. What is the partitioning of variance in ANOVA, and why is it important to understand this concept?\n",
    "\n",
    "##A3. The partitioning of variance in ANOVA refers to the decomposition of the total variance in the data into different components, each representing the variability attributable to specific sources or factors.\n",
    "\n",
    "##The partitioning of variance in ANOVA typically involves three main components:\n",
    "\n",
    "##Between-group variance: This component represents the variability between the means of different groups or levels of the independent variable(s). It reflects the extent to which group means differ from each other and is typically associated with the effect of the treatment or experimental conditions.\n",
    "\n",
    "##Within-group variance: Also known as error variance, this component represents the variability within each group or level of the independent variable(s). It reflects the random variability or noise in the data that is not attributable to the treatment or experimental conditions.\n",
    "\n",
    "##Interaction variance (if applicable): In designs involving multiple independent variables, the interaction variance represents the variability associated with the combined effects of the independent variables. It reflects whether the effect of one independent variable depends on the level of another independent variable."
   ]
  },
  {
   "cell_type": "code",
   "execution_count": 1,
   "id": "650c8bfa-2ba7-4563-bd60-4e35703987b6",
   "metadata": {},
   "outputs": [
    {
     "name": "stdout",
     "output_type": "stream",
     "text": [
      "Total Sum of Squares (SST): 50.0\n",
      "Explained Sum of Squares (SSE): 1250.0\n",
      "Residual Sum of Squares (SSR): -1200.0\n"
     ]
    }
   ],
   "source": [
    "##Q4. How would you calculate the total sum of squares (SST), explained sum of squares (SSE), and residual sum of squares (SSR) in a one-way ANOVA using Python?\n",
    "\n",
    "##A4.\n",
    "\n",
    "import numpy as np\n",
    "\n",
    "# Sample data (list of group means for simplicity)\n",
    "group_means = [10, 15, 20]  # Example group means\n",
    "\n",
    "# Sample sizes for each group\n",
    "sample_sizes = [20, 25, 30]  # Example sample sizes\n",
    "\n",
    "# Overall mean (grand mean)\n",
    "overall_mean = np.mean(group_means)\n",
    "\n",
    "# Calculate SST (Total Sum of Squares)\n",
    "SST = np.sum([(group_mean - overall_mean) ** 2 for group_mean in group_means])\n",
    "\n",
    "# Calculate SSE (Explained Sum of Squares)\n",
    "SSE = np.sum([sample_size * (group_mean - overall_mean) ** 2 for group_mean, sample_size in zip(group_means, sample_sizes)])\n",
    "\n",
    "# Calculate SSR (Residual Sum of Squares)\n",
    "SSR = SST - SSE\n",
    "\n",
    "print(\"Total Sum of Squares (SST):\", SST)\n",
    "print(\"Explained Sum of Squares (SSE):\", SSE)\n",
    "print(\"Residual Sum of Squares (SSR):\", SSR)"
   ]
  },
  {
   "cell_type": "code",
   "execution_count": 2,
   "id": "66dc749f-2247-491f-8293-847256fe4871",
   "metadata": {},
   "outputs": [
    {
     "name": "stdout",
     "output_type": "stream",
     "text": [
      "Main effects:\n",
      "A      1.600000e+01\n",
      "B      1.500000e+00\n",
      "A:B    1.779867e-29\n",
      "Name: sum_sq, dtype: float64\n",
      "Interaction effect:\n",
      "3.2343297114061484e-29\n"
     ]
    }
   ],
   "source": [
    "##Q5. In a two-way ANOVA, how would you calculate the main effects and interaction effects using Python?\n",
    "\n",
    "##A5. In a two-way ANOVA, you can calculate the main effects and interaction effects using Python by fitting a linear model and examining the coefficients associated with each factor and their interactions. \n",
    "##The statsmodels library in Python provides tools for fitting linear models and conducting ANOVA.\n",
    "\n",
    "import pandas as pd\n",
    "import statsmodels.api as sm\n",
    "from statsmodels.formula.api import ols\n",
    "\n",
    "# Prepare your data (example data)\n",
    "data = {\n",
    "    'A': [1, 1, 2, 2, 3, 3],\n",
    "    'B': [1, 2, 1, 2, 1, 2],\n",
    "    'Y': [5, 6, 7, 8, 9, 10]\n",
    "}\n",
    "\n",
    "df = pd.DataFrame(data)\n",
    "\n",
    "# Fit a linear model\n",
    "model = ols('Y ~ A + B + A:B', data=df).fit()\n",
    "\n",
    "# Conduct ANOVA\n",
    "anova_table = sm.stats.anova_lm(model, typ=2)\n",
    "\n",
    "# Extract main effects and interaction effects\n",
    "main_effects = anova_table['sum_sq'][:-1]\n",
    "interaction_effect = anova_table['sum_sq'][-1]\n",
    "\n",
    "print(\"Main effects:\")\n",
    "print(main_effects)\n",
    "print(\"Interaction effect:\")\n",
    "print(interaction_effect)"
   ]
  },
  {
   "cell_type": "code",
   "execution_count": null,
   "id": "a2130cf3-0cd5-4049-9908-a022402d68a0",
   "metadata": {},
   "outputs": [],
   "source": [
    "##Q6. Suppose you conducted a one-way ANOVA and obtained an F-statistic of 5.23 and a p-value of 0.02. What can you conclude about the differences between the groups, and how would you interpret these results?\n",
    "\n",
    "##A6. In a one-way ANOVA, the F-statistic tests whether there are significant differences between the means of the groups. The associated p-value indicates the probability of observing the data if the null hypothesis (no difference between group means) were true.\n",
    "\n",
    "##Given the F-statistic of 5.23 and a p-value of 0.02:\n",
    "\n",
    "##Interpretation of the F-statistic: The F-statistic is a measure of the ratio of the variance between groups to the variance within groups. A larger F-statistic suggests a larger difference between the means of the groups relative to the variation within each group. In this case, the F-statistic of 5.23 indicates that there is some evidence of differences between the group means.\n",
    "\n",
    "##Interpretation of the p-value: The p-value represents the probability of obtaining the observed data, or more extreme data, if the null hypothesis were true. A p-value less than the chosen significance level (usually 0.05) indicates that the observed differences are statistically significant. In this case, the p-value of 0.02 is less than 0.05, suggesting that the observed differences between group means are statistically significant.\n",
    "\n",
    "##Based on these results, we can conclude that there are significant differences between the groups. Specifically, at least one group mean differs significantly from the others. However, the ANOVA test does not tell us which specific group means are different from each other. To determine that, post-hoc tests (e.g., Tukey's HSD test) can be conducted.\n",
    "\n",
    "##In summary, with an F-statistic of 5.23 and a p-value of 0.02, we reject the null hypothesis and conclude that there are statistically significant differences between the group means in the study."
   ]
  },
  {
   "cell_type": "code",
   "execution_count": null,
   "id": "3598bfe1-92ac-4023-b6b1-ee023d8df21c",
   "metadata": {},
   "outputs": [],
   "source": [
    "##Q7. In a repeated measures ANOVA, how would you handle missing data, and what are the potential consequences of using different methods to handle missing data?\n",
    "\n",
    "##A7. Handling missing data in repeated measures ANOVA requires careful consideration because missing data can introduce bias and reduce statistical power. Here are some common methods for handling missing data in repeated measures ANOVA and their potential consequences:\n",
    "\n",
    "##Complete Case Analysis (CCA): In CCA, only cases with complete data for all variables are included in the analysis, and cases with missing data are excluded. While CCA is straightforward, it can lead to biased results if the missing data are not missing completely at random (MCAR). Excluding cases with missing data may also reduce the sample size and statistical power.\n",
    "\n",
    "##Pairwise Deletion: In pairwise deletion, cases with missing data for some variables are included in the analysis for those variables where data are available. This method maximizes the use of available data but may lead to biased estimates if the missing data are related to the outcome or if the missingness mechanism is not MCAR. Additionally, it can inflate Type I error rates and reduce statistical power, especially when the amount of missing data is large.\n",
    "\n",
    "##Mean Imputation: Mean imputation involves replacing missing values with the mean of the observed values for that variable. While mean imputation is simple to implement, it can lead to biased estimates and underestimation of standard errors. It also artificially reduces the variability of the data and can distort relationships between variables.\n",
    "\n",
    "##In summary, the choice of method for handling missing data in repeated measures ANOVA depends on the nature of the missing data, the assumptions underlying the analysis, and the goals of the study. It's essential to carefully consider the potential consequences of different methods and to perform sensitivity analyses to assess the robustness of the results to different assumptions about the missing data mechanism."
   ]
  },
  {
   "cell_type": "code",
   "execution_count": null,
   "id": "e457db79-d8f7-42c8-9db8-5ac1c56f64b7",
   "metadata": {},
   "outputs": [],
   "source": [
    "##Q8. What are some common post-hoc tests used after ANOVA, and when would you use each one? Provide an example of a situation where a post-hoc test might be necessary.\n",
    "\n",
    "##A8. After conducting an ANOVA and finding a significant difference between groups, post-hoc tests are often used to determine which specific groups differ from each other. Some common post-hoc tests include:\n",
    "\n",
    "##Tukey's Honestly Significant Difference (HSD) test: Tukey's HSD test compares all possible pairs of group means and provides simultaneous confidence intervals for each pairwise comparison. It is often used when the number of groups is equal across all levels of the factor.\n",
    "\n",
    "##Bonferroni correction: The Bonferroni correction adjusts the significance level for each pairwise comparison to control the familywise error rate. It is a conservative approach and is suitable when conducting multiple comparisons.\n",
    "\n",
    "##An example situation where a post-hoc test might be necessary is in a clinical trial comparing the efficacy of four different treatments for a particular medical condition. \n",
    "##After conducting an ANOVA, if the result indicates a significant difference between treatment groups, a post-hoc test such as Tukey's HSD or Bonferroni correction can be used to identify which specific treatment groups differ from each other in terms of efficacy. \n",
    "##This helps clinicians make informed decisions about the most effective treatment option for patients."
   ]
  },
  {
   "cell_type": "code",
   "execution_count": 3,
   "id": "4e8606e1-4830-47ca-8e68-bb1c42cdb224",
   "metadata": {},
   "outputs": [
    {
     "name": "stdout",
     "output_type": "stream",
     "text": [
      "F-statistic: 48.613520712327926\n",
      "p-value: 6.237112736215829e-17\n",
      "Reject the null hypothesis. There is a significant difference between the mean weight loss of the three diets.\n"
     ]
    }
   ],
   "source": [
    "##Q9. A researcher wants to compare the mean weight loss of three diets: A, B, and C. They collect data from 50 participants who were randomly assigned to one of the diets. Conduct a one-way ANOVA using Python to determine if there are any significant differences between the mean weight loss of the three diets. Report the F-statistic and p-value, and interpret the results.\n",
    "\n",
    "##A9. \n",
    "import numpy as np\n",
    "from scipy.stats import f_oneway\n",
    "\n",
    "# Weight loss data for each diet (example data)\n",
    "diet_A = np.random.normal(loc=5, scale=1, size=50)  # Mean weight loss of 5 kg for diet A\n",
    "diet_B = np.random.normal(loc=6, scale=1, size=50)  # Mean weight loss of 6 kg for diet B\n",
    "diet_C = np.random.normal(loc=7, scale=1, size=50)  # Mean weight loss of 7 kg for diet C\n",
    "\n",
    "# Combine data from all diets\n",
    "all_data = [diet_A, diet_B, diet_C]\n",
    "\n",
    "# Perform one-way ANOVA\n",
    "f_statistic, p_value = f_oneway(*all_data)\n",
    "\n",
    "# Report the results\n",
    "print(\"F-statistic:\", f_statistic)\n",
    "print(\"p-value:\", p_value)\n",
    "\n",
    "# Interpret the results\n",
    "alpha = 0.05\n",
    "if p_value < alpha:\n",
    "    print(\"Reject the null hypothesis. There is a significant difference between the mean weight loss of the three diets.\")\n",
    "else:\n",
    "    print(\"Fail to reject the null hypothesis. There is no significant difference between the mean weight loss of the three diets.\")\n",
    "    \n",
    "##We interpret the results based on the significance level (alpha = 0.05). \n",
    "##If the p-value is less than alpha, we reject the null hypothesis and conclude that there is a significant difference between the mean weight loss of the three diets. Otherwise, we fail to reject the null hypothesis."
   ]
  },
  {
   "cell_type": "code",
   "execution_count": 4,
   "id": "6e9d98d3-5029-4d1e-8116-be79294c1e4c",
   "metadata": {},
   "outputs": [
    {
     "ename": "ValueError",
     "evalue": "All arrays must be of the same length",
     "output_type": "error",
     "traceback": [
      "\u001b[0;31m---------------------------------------------------------------------------\u001b[0m",
      "\u001b[0;31mValueError\u001b[0m                                Traceback (most recent call last)",
      "Cell \u001b[0;32mIn[4], line 15\u001b[0m\n\u001b[1;32m      8\u001b[0m \u001b[38;5;66;03m# Example data (randomly generated)\u001b[39;00m\n\u001b[1;32m      9\u001b[0m data \u001b[38;5;241m=\u001b[39m {\n\u001b[1;32m     10\u001b[0m     \u001b[38;5;124m'\u001b[39m\u001b[38;5;124mSoftware\u001b[39m\u001b[38;5;124m'\u001b[39m: [\u001b[38;5;124m'\u001b[39m\u001b[38;5;124mA\u001b[39m\u001b[38;5;124m'\u001b[39m, \u001b[38;5;124m'\u001b[39m\u001b[38;5;124mB\u001b[39m\u001b[38;5;124m'\u001b[39m, \u001b[38;5;124m'\u001b[39m\u001b[38;5;124mC\u001b[39m\u001b[38;5;124m'\u001b[39m] \u001b[38;5;241m*\u001b[39m \u001b[38;5;241m20\u001b[39m,  \u001b[38;5;66;03m# 30 employees randomly assigned to three software programs\u001b[39;00m\n\u001b[1;32m     11\u001b[0m     \u001b[38;5;124m'\u001b[39m\u001b[38;5;124mExperience\u001b[39m\u001b[38;5;124m'\u001b[39m: [\u001b[38;5;124m'\u001b[39m\u001b[38;5;124mNovice\u001b[39m\u001b[38;5;124m'\u001b[39m, \u001b[38;5;124m'\u001b[39m\u001b[38;5;124mExperienced\u001b[39m\u001b[38;5;124m'\u001b[39m] \u001b[38;5;241m*\u001b[39m \u001b[38;5;241m45\u001b[39m,  \u001b[38;5;66;03m# 30 novice and 30 experienced employees\u001b[39;00m\n\u001b[1;32m     12\u001b[0m     \u001b[38;5;124m'\u001b[39m\u001b[38;5;124mTime\u001b[39m\u001b[38;5;124m'\u001b[39m: np\u001b[38;5;241m.\u001b[39mrandom\u001b[38;5;241m.\u001b[39mnormal(loc\u001b[38;5;241m=\u001b[39m\u001b[38;5;241m10\u001b[39m, scale\u001b[38;5;241m=\u001b[39m\u001b[38;5;241m2\u001b[39m, size\u001b[38;5;241m=\u001b[39m\u001b[38;5;241m90\u001b[39m)  \u001b[38;5;66;03m# Randomly generated time data\u001b[39;00m\n\u001b[1;32m     13\u001b[0m }\n\u001b[0;32m---> 15\u001b[0m df \u001b[38;5;241m=\u001b[39m \u001b[43mpd\u001b[49m\u001b[38;5;241;43m.\u001b[39;49m\u001b[43mDataFrame\u001b[49m\u001b[43m(\u001b[49m\u001b[43mdata\u001b[49m\u001b[43m)\u001b[49m\n\u001b[1;32m     17\u001b[0m \u001b[38;5;66;03m# Fit a linear model\u001b[39;00m\n\u001b[1;32m     18\u001b[0m model \u001b[38;5;241m=\u001b[39m ols(\u001b[38;5;124m'\u001b[39m\u001b[38;5;124mTime ~ C(Software) + C(Experience) + C(Software):C(Experience)\u001b[39m\u001b[38;5;124m'\u001b[39m, data\u001b[38;5;241m=\u001b[39mdf)\u001b[38;5;241m.\u001b[39mfit()\n",
      "File \u001b[0;32m/opt/conda/lib/python3.10/site-packages/pandas/core/frame.py:663\u001b[0m, in \u001b[0;36mDataFrame.__init__\u001b[0;34m(self, data, index, columns, dtype, copy)\u001b[0m\n\u001b[1;32m    657\u001b[0m     mgr \u001b[38;5;241m=\u001b[39m \u001b[38;5;28mself\u001b[39m\u001b[38;5;241m.\u001b[39m_init_mgr(\n\u001b[1;32m    658\u001b[0m         data, axes\u001b[38;5;241m=\u001b[39m{\u001b[38;5;124m\"\u001b[39m\u001b[38;5;124mindex\u001b[39m\u001b[38;5;124m\"\u001b[39m: index, \u001b[38;5;124m\"\u001b[39m\u001b[38;5;124mcolumns\u001b[39m\u001b[38;5;124m\"\u001b[39m: columns}, dtype\u001b[38;5;241m=\u001b[39mdtype, copy\u001b[38;5;241m=\u001b[39mcopy\n\u001b[1;32m    659\u001b[0m     )\n\u001b[1;32m    661\u001b[0m \u001b[38;5;28;01melif\u001b[39;00m \u001b[38;5;28misinstance\u001b[39m(data, \u001b[38;5;28mdict\u001b[39m):\n\u001b[1;32m    662\u001b[0m     \u001b[38;5;66;03m# GH#38939 de facto copy defaults to False only in non-dict cases\u001b[39;00m\n\u001b[0;32m--> 663\u001b[0m     mgr \u001b[38;5;241m=\u001b[39m \u001b[43mdict_to_mgr\u001b[49m\u001b[43m(\u001b[49m\u001b[43mdata\u001b[49m\u001b[43m,\u001b[49m\u001b[43m \u001b[49m\u001b[43mindex\u001b[49m\u001b[43m,\u001b[49m\u001b[43m \u001b[49m\u001b[43mcolumns\u001b[49m\u001b[43m,\u001b[49m\u001b[43m \u001b[49m\u001b[43mdtype\u001b[49m\u001b[38;5;241;43m=\u001b[39;49m\u001b[43mdtype\u001b[49m\u001b[43m,\u001b[49m\u001b[43m \u001b[49m\u001b[43mcopy\u001b[49m\u001b[38;5;241;43m=\u001b[39;49m\u001b[43mcopy\u001b[49m\u001b[43m,\u001b[49m\u001b[43m \u001b[49m\u001b[43mtyp\u001b[49m\u001b[38;5;241;43m=\u001b[39;49m\u001b[43mmanager\u001b[49m\u001b[43m)\u001b[49m\n\u001b[1;32m    664\u001b[0m \u001b[38;5;28;01melif\u001b[39;00m \u001b[38;5;28misinstance\u001b[39m(data, ma\u001b[38;5;241m.\u001b[39mMaskedArray):\n\u001b[1;32m    665\u001b[0m     \u001b[38;5;28;01mimport\u001b[39;00m \u001b[38;5;21;01mnumpy\u001b[39;00m\u001b[38;5;21;01m.\u001b[39;00m\u001b[38;5;21;01mma\u001b[39;00m\u001b[38;5;21;01m.\u001b[39;00m\u001b[38;5;21;01mmrecords\u001b[39;00m \u001b[38;5;28;01mas\u001b[39;00m \u001b[38;5;21;01mmrecords\u001b[39;00m\n",
      "File \u001b[0;32m/opt/conda/lib/python3.10/site-packages/pandas/core/internals/construction.py:493\u001b[0m, in \u001b[0;36mdict_to_mgr\u001b[0;34m(data, index, columns, dtype, typ, copy)\u001b[0m\n\u001b[1;32m    489\u001b[0m     \u001b[38;5;28;01melse\u001b[39;00m:\n\u001b[1;32m    490\u001b[0m         \u001b[38;5;66;03m# dtype check to exclude e.g. range objects, scalars\u001b[39;00m\n\u001b[1;32m    491\u001b[0m         arrays \u001b[38;5;241m=\u001b[39m [x\u001b[38;5;241m.\u001b[39mcopy() \u001b[38;5;28;01mif\u001b[39;00m \u001b[38;5;28mhasattr\u001b[39m(x, \u001b[38;5;124m\"\u001b[39m\u001b[38;5;124mdtype\u001b[39m\u001b[38;5;124m\"\u001b[39m) \u001b[38;5;28;01melse\u001b[39;00m x \u001b[38;5;28;01mfor\u001b[39;00m x \u001b[38;5;129;01min\u001b[39;00m arrays]\n\u001b[0;32m--> 493\u001b[0m \u001b[38;5;28;01mreturn\u001b[39;00m \u001b[43marrays_to_mgr\u001b[49m\u001b[43m(\u001b[49m\u001b[43marrays\u001b[49m\u001b[43m,\u001b[49m\u001b[43m \u001b[49m\u001b[43mcolumns\u001b[49m\u001b[43m,\u001b[49m\u001b[43m \u001b[49m\u001b[43mindex\u001b[49m\u001b[43m,\u001b[49m\u001b[43m \u001b[49m\u001b[43mdtype\u001b[49m\u001b[38;5;241;43m=\u001b[39;49m\u001b[43mdtype\u001b[49m\u001b[43m,\u001b[49m\u001b[43m \u001b[49m\u001b[43mtyp\u001b[49m\u001b[38;5;241;43m=\u001b[39;49m\u001b[43mtyp\u001b[49m\u001b[43m,\u001b[49m\u001b[43m \u001b[49m\u001b[43mconsolidate\u001b[49m\u001b[38;5;241;43m=\u001b[39;49m\u001b[43mcopy\u001b[49m\u001b[43m)\u001b[49m\n",
      "File \u001b[0;32m/opt/conda/lib/python3.10/site-packages/pandas/core/internals/construction.py:118\u001b[0m, in \u001b[0;36marrays_to_mgr\u001b[0;34m(arrays, columns, index, dtype, verify_integrity, typ, consolidate)\u001b[0m\n\u001b[1;32m    115\u001b[0m \u001b[38;5;28;01mif\u001b[39;00m verify_integrity:\n\u001b[1;32m    116\u001b[0m     \u001b[38;5;66;03m# figure out the index, if necessary\u001b[39;00m\n\u001b[1;32m    117\u001b[0m     \u001b[38;5;28;01mif\u001b[39;00m index \u001b[38;5;129;01mis\u001b[39;00m \u001b[38;5;28;01mNone\u001b[39;00m:\n\u001b[0;32m--> 118\u001b[0m         index \u001b[38;5;241m=\u001b[39m \u001b[43m_extract_index\u001b[49m\u001b[43m(\u001b[49m\u001b[43marrays\u001b[49m\u001b[43m)\u001b[49m\n\u001b[1;32m    119\u001b[0m     \u001b[38;5;28;01melse\u001b[39;00m:\n\u001b[1;32m    120\u001b[0m         index \u001b[38;5;241m=\u001b[39m ensure_index(index)\n",
      "File \u001b[0;32m/opt/conda/lib/python3.10/site-packages/pandas/core/internals/construction.py:666\u001b[0m, in \u001b[0;36m_extract_index\u001b[0;34m(data)\u001b[0m\n\u001b[1;32m    664\u001b[0m lengths \u001b[38;5;241m=\u001b[39m \u001b[38;5;28mlist\u001b[39m(\u001b[38;5;28mset\u001b[39m(raw_lengths))\n\u001b[1;32m    665\u001b[0m \u001b[38;5;28;01mif\u001b[39;00m \u001b[38;5;28mlen\u001b[39m(lengths) \u001b[38;5;241m>\u001b[39m \u001b[38;5;241m1\u001b[39m:\n\u001b[0;32m--> 666\u001b[0m     \u001b[38;5;28;01mraise\u001b[39;00m \u001b[38;5;167;01mValueError\u001b[39;00m(\u001b[38;5;124m\"\u001b[39m\u001b[38;5;124mAll arrays must be of the same length\u001b[39m\u001b[38;5;124m\"\u001b[39m)\n\u001b[1;32m    668\u001b[0m \u001b[38;5;28;01mif\u001b[39;00m have_dicts:\n\u001b[1;32m    669\u001b[0m     \u001b[38;5;28;01mraise\u001b[39;00m \u001b[38;5;167;01mValueError\u001b[39;00m(\n\u001b[1;32m    670\u001b[0m         \u001b[38;5;124m\"\u001b[39m\u001b[38;5;124mMixing dicts with non-Series may lead to ambiguous ordering.\u001b[39m\u001b[38;5;124m\"\u001b[39m\n\u001b[1;32m    671\u001b[0m     )\n",
      "\u001b[0;31mValueError\u001b[0m: All arrays must be of the same length"
     ]
    }
   ],
   "source": [
    "##Q10. A company wants to know if there are any significant differences in the average time it takes to complete a task using three different software programs: Program A, Program B, and Program C. They randomly assign 30 employees to one of the programs and record the time it takes each employee to complete the task. Conduct a two-way ANOVA using Python to determine if there are any main effects or interaction effects between the software programs and employee experience level (novice vs. experienced). Report the F-statistics and p-values, and interpret the results.\n",
    "\n",
    "##A10.\n",
    "import pandas as pd\n",
    "import statsmodels.api as sm\n",
    "from statsmodels.formula.api import ols\n",
    "\n",
    "# Example data (randomly generated)\n",
    "data = {\n",
    "    'Software': ['A', 'B', 'C'] * 20,  # 30 employees randomly assigned to three software programs\n",
    "    'Experience': ['Novice', 'Experienced'] * 45,  # 30 novice and 30 experienced employees\n",
    "    'Time': np.random.normal(loc=10, scale=2, size=90)  # Randomly generated time data\n",
    "}\n",
    "\n",
    "df = pd.DataFrame(data)\n",
    "\n",
    "# Fit a linear model\n",
    "model = ols('Time ~ C(Software) + C(Experience) + C(Software):C(Experience)', data=df).fit()\n",
    "\n",
    "# Perform ANOVA\n",
    "anova_table = sm.stats.anova_lm(model, typ=2)\n",
    "\n",
    "# Report the results\n",
    "print(anova_table)"
   ]
  },
  {
   "cell_type": "code",
   "execution_count": 5,
   "id": "2e18f61d-a72f-4a84-9d2c-4cdf8d73d4c2",
   "metadata": {},
   "outputs": [
    {
     "name": "stdout",
     "output_type": "stream",
     "text": [
      "Two-sample t-test results:\n",
      "t-statistic: -3.4460457375291544\n",
      "p-value: 0.0006945405293571882\n",
      "Reject the null hypothesis. There is a significant difference in test scores between the control and experimental groups.\n"
     ]
    }
   ],
   "source": [
    "##Q11. An educational researcher is interested in whether a new teaching method improves student test scores. They randomly assign 100 students to either the control group (traditional teaching method) or the experimental group (new teaching method) and administer a test at the end of the semester. Conduct a two-sample t-test using Python to determine if there are any significant differences in test scores between the two groups. If the results are significant, follow up with a post-hoc test to determine which group(s) differ significantly from each other.\n",
    "\n",
    "##A11. \n",
    "from scipy.stats import ttest_ind\n",
    "\n",
    "# Example data (randomly generated)\n",
    "control_group_scores = np.random.normal(loc=70, scale=10, size=100)  # Control group scores\n",
    "experimental_group_scores = np.random.normal(loc=75, scale=10, size=100)  # Experimental group scores\n",
    "\n",
    "# Perform two-sample t-test\n",
    "t_statistic, p_value = ttest_ind(control_group_scores, experimental_group_scores)\n",
    "\n",
    "# Report the results\n",
    "print(\"Two-sample t-test results:\")\n",
    "print(\"t-statistic:\", t_statistic)\n",
    "print(\"p-value:\", p_value)\n",
    "\n",
    "# Interpret the results\n",
    "alpha = 0.05\n",
    "if p_value < alpha:\n",
    "    print(\"Reject the null hypothesis. There is a significant difference in test scores between the control and experimental groups.\")\n",
    "else:\n",
    "    print(\"Fail to reject the null hypothesis. There is no significant difference in test scores between the control and experimental groups.\")\n"
   ]
  },
  {
   "cell_type": "code",
   "execution_count": 6,
   "id": "a1053a34-d7e5-4145-9a53-e5e0f35d5666",
   "metadata": {},
   "outputs": [
    {
     "name": "stderr",
     "output_type": "stream",
     "text": [
      "/opt/conda/lib/python3.10/site-packages/statsmodels/regression/linear_model.py:1687: RuntimeWarning: divide by zero encountered in double_scalars\n",
      "  return np.dot(wresid, wresid) / self.df_resid\n"
     ]
    },
    {
     "ename": "ValueError",
     "evalue": "r_matrix performs f_test for using dimensions that are asymptotically non-normal",
     "output_type": "error",
     "traceback": [
      "\u001b[0;31m---------------------------------------------------------------------------\u001b[0m",
      "\u001b[0;31mValueError\u001b[0m                                Traceback (most recent call last)",
      "Cell \u001b[0;32mIn[6], line 22\u001b[0m\n\u001b[1;32m     19\u001b[0m rm_anova_model \u001b[38;5;241m=\u001b[39m ols(\u001b[38;5;124m'\u001b[39m\u001b[38;5;124mSales ~ C(Store) + C(Day) + C(Store):C(Day)\u001b[39m\u001b[38;5;124m'\u001b[39m, data\u001b[38;5;241m=\u001b[39mdf)\u001b[38;5;241m.\u001b[39mfit()\n\u001b[1;32m     21\u001b[0m \u001b[38;5;66;03m# Perform ANOVA\u001b[39;00m\n\u001b[0;32m---> 22\u001b[0m rm_anova_results \u001b[38;5;241m=\u001b[39m \u001b[43msm\u001b[49m\u001b[38;5;241;43m.\u001b[39;49m\u001b[43mstats\u001b[49m\u001b[38;5;241;43m.\u001b[39;49m\u001b[43manova_lm\u001b[49m\u001b[43m(\u001b[49m\u001b[43mrm_anova_model\u001b[49m\u001b[43m,\u001b[49m\u001b[43m \u001b[49m\u001b[43mtyp\u001b[49m\u001b[38;5;241;43m=\u001b[39;49m\u001b[38;5;241;43m3\u001b[39;49m\u001b[43m)\u001b[49m\n\u001b[1;32m     24\u001b[0m \u001b[38;5;66;03m# Report the results\u001b[39;00m\n\u001b[1;32m     25\u001b[0m \u001b[38;5;28mprint\u001b[39m(\u001b[38;5;124m\"\u001b[39m\u001b[38;5;124mRepeated measures ANOVA results:\u001b[39m\u001b[38;5;124m\"\u001b[39m)\n",
      "File \u001b[0;32m/opt/conda/lib/python3.10/site-packages/statsmodels/stats/anova.py:349\u001b[0m, in \u001b[0;36manova_lm\u001b[0;34m(*args, **kwargs)\u001b[0m\n\u001b[1;32m    347\u001b[0m \u001b[38;5;28;01mif\u001b[39;00m \u001b[38;5;28mlen\u001b[39m(args) \u001b[38;5;241m==\u001b[39m \u001b[38;5;241m1\u001b[39m:\n\u001b[1;32m    348\u001b[0m     model \u001b[38;5;241m=\u001b[39m args[\u001b[38;5;241m0\u001b[39m]\n\u001b[0;32m--> 349\u001b[0m     \u001b[38;5;28;01mreturn\u001b[39;00m \u001b[43manova_single\u001b[49m\u001b[43m(\u001b[49m\u001b[43mmodel\u001b[49m\u001b[43m,\u001b[49m\u001b[43m \u001b[49m\u001b[38;5;241;43m*\u001b[39;49m\u001b[38;5;241;43m*\u001b[39;49m\u001b[43mkwargs\u001b[49m\u001b[43m)\u001b[49m\n\u001b[1;32m    351\u001b[0m \u001b[38;5;28;01mif\u001b[39;00m typ \u001b[38;5;129;01mnot\u001b[39;00m \u001b[38;5;129;01min\u001b[39;00m [\u001b[38;5;241m1\u001b[39m, \u001b[38;5;124m\"\u001b[39m\u001b[38;5;124mI\u001b[39m\u001b[38;5;124m\"\u001b[39m]:\n\u001b[1;32m    352\u001b[0m     \u001b[38;5;28;01mraise\u001b[39;00m \u001b[38;5;167;01mValueError\u001b[39;00m(\u001b[38;5;124m\"\u001b[39m\u001b[38;5;124mMultiple models only supported for type I. \u001b[39m\u001b[38;5;124m\"\u001b[39m\n\u001b[1;32m    353\u001b[0m                      \u001b[38;5;124m\"\u001b[39m\u001b[38;5;124mGot type \u001b[39m\u001b[38;5;132;01m%s\u001b[39;00m\u001b[38;5;124m\"\u001b[39m \u001b[38;5;241m%\u001b[39m \u001b[38;5;28mstr\u001b[39m(typ))\n",
      "File \u001b[0;32m/opt/conda/lib/python3.10/site-packages/statsmodels/stats/anova.py:83\u001b[0m, in \u001b[0;36manova_single\u001b[0;34m(model, **kwargs)\u001b[0m\n\u001b[1;32m     80\u001b[0m     \u001b[38;5;28;01mreturn\u001b[39;00m anova2_lm_single(model, design_info, n_rows, test, pr_test,\n\u001b[1;32m     81\u001b[0m                             robust)\n\u001b[1;32m     82\u001b[0m \u001b[38;5;28;01melif\u001b[39;00m typ \u001b[38;5;129;01min\u001b[39;00m [\u001b[38;5;241m3\u001b[39m, \u001b[38;5;124m\"\u001b[39m\u001b[38;5;124mIII\u001b[39m\u001b[38;5;124m\"\u001b[39m]:\n\u001b[0;32m---> 83\u001b[0m     \u001b[38;5;28;01mreturn\u001b[39;00m \u001b[43manova3_lm_single\u001b[49m\u001b[43m(\u001b[49m\u001b[43mmodel\u001b[49m\u001b[43m,\u001b[49m\u001b[43m \u001b[49m\u001b[43mdesign_info\u001b[49m\u001b[43m,\u001b[49m\u001b[43m \u001b[49m\u001b[43mn_rows\u001b[49m\u001b[43m,\u001b[49m\u001b[43m \u001b[49m\u001b[43mtest\u001b[49m\u001b[43m,\u001b[49m\u001b[43m \u001b[49m\u001b[43mpr_test\u001b[49m\u001b[43m,\u001b[49m\n\u001b[1;32m     84\u001b[0m \u001b[43m                            \u001b[49m\u001b[43mrobust\u001b[49m\u001b[43m)\u001b[49m\n\u001b[1;32m     85\u001b[0m \u001b[38;5;28;01melif\u001b[39;00m typ \u001b[38;5;129;01min\u001b[39;00m [\u001b[38;5;241m4\u001b[39m, \u001b[38;5;124m\"\u001b[39m\u001b[38;5;124mIV\u001b[39m\u001b[38;5;124m\"\u001b[39m]:\n\u001b[1;32m     86\u001b[0m     \u001b[38;5;28;01mraise\u001b[39;00m \u001b[38;5;167;01mNotImplementedError\u001b[39;00m(\u001b[38;5;124m\"\u001b[39m\u001b[38;5;124mType IV not yet implemented\u001b[39m\u001b[38;5;124m\"\u001b[39m)\n",
      "File \u001b[0;32m/opt/conda/lib/python3.10/site-packages/statsmodels/stats/anova.py:252\u001b[0m, in \u001b[0;36manova3_lm_single\u001b[0;34m(model, design_info, n_rows, test, pr_test, robust)\u001b[0m\n\u001b[1;32m    249\u001b[0m r \u001b[38;5;241m=\u001b[39m L1\u001b[38;5;241m.\u001b[39mshape[\u001b[38;5;241m0\u001b[39m]\n\u001b[1;32m    251\u001b[0m \u001b[38;5;28;01mif\u001b[39;00m test \u001b[38;5;241m==\u001b[39m \u001b[38;5;124m'\u001b[39m\u001b[38;5;124mF\u001b[39m\u001b[38;5;124m'\u001b[39m:\n\u001b[0;32m--> 252\u001b[0m     f \u001b[38;5;241m=\u001b[39m \u001b[43mmodel\u001b[49m\u001b[38;5;241;43m.\u001b[39;49m\u001b[43mf_test\u001b[49m\u001b[43m(\u001b[49m\u001b[43mL12\u001b[49m\u001b[43m,\u001b[49m\u001b[43m \u001b[49m\u001b[43mcov_p\u001b[49m\u001b[38;5;241;43m=\u001b[39;49m\u001b[43mcov\u001b[49m\u001b[43m)\u001b[49m\n\u001b[1;32m    253\u001b[0m     table\u001b[38;5;241m.\u001b[39mloc[table\u001b[38;5;241m.\u001b[39mindex[i], test] \u001b[38;5;241m=\u001b[39m test_value \u001b[38;5;241m=\u001b[39m f\u001b[38;5;241m.\u001b[39mfvalue\n\u001b[1;32m    254\u001b[0m     table\u001b[38;5;241m.\u001b[39mloc[table\u001b[38;5;241m.\u001b[39mindex[i], pr_test] \u001b[38;5;241m=\u001b[39m f\u001b[38;5;241m.\u001b[39mpvalue\n",
      "File \u001b[0;32m/opt/conda/lib/python3.10/site-packages/statsmodels/base/model.py:1765\u001b[0m, in \u001b[0;36mLikelihoodModelResults.f_test\u001b[0;34m(self, r_matrix, cov_p, invcov)\u001b[0m\n\u001b[1;32m   1672\u001b[0m \u001b[38;5;28;01mdef\u001b[39;00m \u001b[38;5;21mf_test\u001b[39m(\u001b[38;5;28mself\u001b[39m, r_matrix, cov_p\u001b[38;5;241m=\u001b[39m\u001b[38;5;28;01mNone\u001b[39;00m, invcov\u001b[38;5;241m=\u001b[39m\u001b[38;5;28;01mNone\u001b[39;00m):\n\u001b[1;32m   1673\u001b[0m     \u001b[38;5;124;03m\"\"\"\u001b[39;00m\n\u001b[1;32m   1674\u001b[0m \u001b[38;5;124;03m    Compute the F-test for a joint linear hypothesis.\u001b[39;00m\n\u001b[1;32m   1675\u001b[0m \n\u001b[0;32m   (...)\u001b[0m\n\u001b[1;32m   1763\u001b[0m \u001b[38;5;124;03m    <F test: F=array([[ 144.17976065]]), p=6.322026217355609e-08, df_denom=9, df_num=3>\u001b[39;00m\n\u001b[1;32m   1764\u001b[0m \u001b[38;5;124;03m    \"\"\"\u001b[39;00m\n\u001b[0;32m-> 1765\u001b[0m     res \u001b[38;5;241m=\u001b[39m \u001b[38;5;28;43mself\u001b[39;49m\u001b[38;5;241;43m.\u001b[39;49m\u001b[43mwald_test\u001b[49m\u001b[43m(\u001b[49m\u001b[43mr_matrix\u001b[49m\u001b[43m,\u001b[49m\u001b[43m \u001b[49m\u001b[43mcov_p\u001b[49m\u001b[38;5;241;43m=\u001b[39;49m\u001b[43mcov_p\u001b[49m\u001b[43m,\u001b[49m\u001b[43m \u001b[49m\u001b[43minvcov\u001b[49m\u001b[38;5;241;43m=\u001b[39;49m\u001b[43minvcov\u001b[49m\u001b[43m,\u001b[49m\u001b[43m \u001b[49m\u001b[43muse_f\u001b[49m\u001b[38;5;241;43m=\u001b[39;49m\u001b[38;5;28;43;01mTrue\u001b[39;49;00m\u001b[43m,\u001b[49m\u001b[43m \u001b[49m\u001b[43mscalar\u001b[49m\u001b[38;5;241;43m=\u001b[39;49m\u001b[38;5;28;43;01mTrue\u001b[39;49;00m\u001b[43m)\u001b[49m\n\u001b[1;32m   1766\u001b[0m     \u001b[38;5;28;01mreturn\u001b[39;00m res\n",
      "File \u001b[0;32m/opt/conda/lib/python3.10/site-packages/statsmodels/base/model.py:1865\u001b[0m, in \u001b[0;36mLikelihoodModelResults.wald_test\u001b[0;34m(self, r_matrix, cov_p, invcov, use_f, df_constraints, scalar)\u001b[0m\n\u001b[1;32m   1863\u001b[0m cov_p \u001b[38;5;241m=\u001b[39m \u001b[38;5;28mself\u001b[39m\u001b[38;5;241m.\u001b[39mcov_params(r_matrix\u001b[38;5;241m=\u001b[39mr_matrix, cov_p\u001b[38;5;241m=\u001b[39mcov_p)\n\u001b[1;32m   1864\u001b[0m \u001b[38;5;28;01mif\u001b[39;00m np\u001b[38;5;241m.\u001b[39misnan(cov_p)\u001b[38;5;241m.\u001b[39mmax():\n\u001b[0;32m-> 1865\u001b[0m     \u001b[38;5;28;01mraise\u001b[39;00m \u001b[38;5;167;01mValueError\u001b[39;00m(\u001b[38;5;124m\"\u001b[39m\u001b[38;5;124mr_matrix performs f_test for using \u001b[39m\u001b[38;5;124m\"\u001b[39m\n\u001b[1;32m   1866\u001b[0m                      \u001b[38;5;124m\"\u001b[39m\u001b[38;5;124mdimensions that are asymptotically \u001b[39m\u001b[38;5;124m\"\u001b[39m\n\u001b[1;32m   1867\u001b[0m                      \u001b[38;5;124m\"\u001b[39m\u001b[38;5;124mnon-normal\u001b[39m\u001b[38;5;124m\"\u001b[39m)\n\u001b[1;32m   1868\u001b[0m invcov \u001b[38;5;241m=\u001b[39m np\u001b[38;5;241m.\u001b[39mlinalg\u001b[38;5;241m.\u001b[39mpinv(cov_p)\n\u001b[1;32m   1869\u001b[0m J_ \u001b[38;5;241m=\u001b[39m np\u001b[38;5;241m.\u001b[39mlinalg\u001b[38;5;241m.\u001b[39mmatrix_rank(cov_p)\n",
      "\u001b[0;31mValueError\u001b[0m: r_matrix performs f_test for using dimensions that are asymptotically non-normal"
     ]
    }
   ],
   "source": [
    "##Q12. A researcher wants to know if there are any significant differences in the average daily sales of three retail stores: Store A, Store B, and Store C. They randomly select 30 days and record the sales for each store on those days. Conduct a repeated measures ANOVA using Python to determine if there are any significant differences in sales between the three stores. If the results are significant, follow up with a post- hoc test to determine which store(s) differ significantly from each other.\n",
    "\n",
    "##A12.\n",
    "import pandas as pd\n",
    "import statsmodels.api as sm\n",
    "from statsmodels.formula.api import ols\n",
    "from statsmodels.stats.multicomp import pairwise_tukeyhsd\n",
    "\n",
    "# Example data (randomly generated)\n",
    "data = {\n",
    "    'Day': list(range(1, 31)) * 3,  # 30 days randomly selected\n",
    "    'Store': ['A'] * 30 + ['B'] * 30 + ['C'] * 30,  # Three stores\n",
    "    'Sales': np.random.randint(100, 200, size=90)  # Random sales data\n",
    "}\n",
    "\n",
    "df = pd.DataFrame(data)\n",
    "\n",
    "# Fit a repeated measures ANOVA model\n",
    "rm_anova_model = ols('Sales ~ C(Store) + C(Day) + C(Store):C(Day)', data=df).fit()\n",
    "\n",
    "# Perform ANOVA\n",
    "rm_anova_results = sm.stats.anova_lm(rm_anova_model, typ=3)\n",
    "\n",
    "# Report the results\n",
    "print(\"Repeated measures ANOVA results:\")\n",
    "print(rm_anova_results)\n",
    "\n",
    "# Follow up with a post-hoc test (Tukey's HSD)\n",
    "posthoc = pairwise_tukeyhsd(df['Sales'], df['Store'], alpha=0.05)\n",
    "print(\"\\nPost-hoc test results:\")\n",
    "print(posthoc)"
   ]
  },
  {
   "cell_type": "code",
   "execution_count": null,
   "id": "625e321a-cd09-4fd8-b3f9-47fe2571eadf",
   "metadata": {},
   "outputs": [],
   "source": []
  },
  {
   "cell_type": "code",
   "execution_count": null,
   "id": "b16f6e06-1224-4f4c-845e-016d7f090ca1",
   "metadata": {},
   "outputs": [],
   "source": []
  },
  {
   "cell_type": "code",
   "execution_count": null,
   "id": "ba5e0021-a1dc-4e6b-bfb8-1a9924739dbf",
   "metadata": {},
   "outputs": [],
   "source": []
  },
  {
   "cell_type": "code",
   "execution_count": null,
   "id": "0d3c5cce-a4b4-47be-bf00-7dfd57e69271",
   "metadata": {},
   "outputs": [],
   "source": []
  },
  {
   "cell_type": "code",
   "execution_count": null,
   "id": "58bf1b16-65c9-4a16-9479-554b9d039a85",
   "metadata": {},
   "outputs": [],
   "source": []
  },
  {
   "cell_type": "code",
   "execution_count": null,
   "id": "4a13d43e-5502-4d11-b4bf-67baa9f4f040",
   "metadata": {},
   "outputs": [],
   "source": []
  }
 ],
 "metadata": {
  "kernelspec": {
   "display_name": "Python 3 (ipykernel)",
   "language": "python",
   "name": "python3"
  },
  "language_info": {
   "codemirror_mode": {
    "name": "ipython",
    "version": 3
   },
   "file_extension": ".py",
   "mimetype": "text/x-python",
   "name": "python",
   "nbconvert_exporter": "python",
   "pygments_lexer": "ipython3",
   "version": "3.10.8"
  }
 },
 "nbformat": 4,
 "nbformat_minor": 5
}
