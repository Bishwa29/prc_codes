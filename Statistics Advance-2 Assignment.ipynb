{
 "cells": [
  {
   "cell_type": "code",
   "execution_count": 1,
   "id": "b6cc817c-41d1-4f51-b7f4-030fbe1db467",
   "metadata": {},
   "outputs": [],
   "source": [
    "##Statistics Advance-2 Assignment"
   ]
  },
  {
   "cell_type": "code",
   "execution_count": null,
   "id": "074e3314-3d40-47e6-8949-f55980906fba",
   "metadata": {
    "tags": []
   },
   "outputs": [],
   "source": [
    "##Q1: What are the Probability Mass Function (PMF) and Probability Density Function (PDF)? Explain with an example.\n",
    "\n",
    "##A1. Probability Density Function refers to the probability distribution for continuous random variables. \n",
    "## Unlike PMF, PDF doesn't directly give the probability at a specific point but gives the probability density at that point.\n",
    "## The area under the curve of the PDF within a range gives the probability that the variable falls within that range.\n",
    "\n",
    "## Probability Mass Function refers to the probability distribution for discrete random variables. \n",
    "## It gives the probability that a discrete random variable is exactly equal to some value. In simpler terms, it maps each possible value of the discrete random variable to its probability of occurrence.\n",
    "\n",
    "## Unlike the PMF, which is for discrete variables, the PDF is for continuous variables.\n",
    "\n",
    "## Example: Consider rolling a fair six-sided die. The PMF of this random variable would be 1/6 for all outcomes (1,2,3,4,5,6)\n",
    "\n",
    "## Example: Consider the uniform distribution on the interval [0, 1]. The PDF of this random variable 𝑋 would be:\n",
    "## f(x)=1 for 0≤𝑥≤1\n",
    "## f(x)=0 for x<0 or 𝑥>1\n",
    "## Here, f(x) is a constant function over the interval [0, 1], indicating that any value within this interval has an equal chance of occurring."
   ]
  },
  {
   "cell_type": "code",
   "execution_count": null,
   "id": "148ae4ae-8b11-4026-8ad8-a8c03c1103b5",
   "metadata": {
    "tags": []
   },
   "outputs": [],
   "source": [
    "## Q2: What is Cumulative Density Function (CDF)? Explain with an example. Why CDF is used?\n",
    "\n",
    "## A2. The Cumulative Distribution Function (CDF) is a fundamental concept in probability theory and statistics. It gives the probability that a random variable 𝑋 is less than or equal to a certain value 𝑥. The CDF is denoted as 𝐹(𝑥).\n",
    "\n",
    "## It is mainly used in Probability Calculation wherein it allows you to calculate probabilities associated with specific values or ranges of values of a random variable.\n",
    "\n",
    "## As an example, if we consider the roll of a fair, six sided die, as we progress from 1 to 6, the cumulative probability starts from 0 increases to 1/6, 1/3, 1/2, 2/3, 5/6 and 1 as we calculate cumultative probability from 1 to 6"
   ]
  },
  {
   "cell_type": "code",
   "execution_count": null,
   "id": "cb145d53-3c1d-415f-be08-876a3a5c3483",
   "metadata": {},
   "outputs": [],
   "source": [
    "## Q3: What are some examples of situations where the normal distribution might be used as a model? Explain how the parameters of the normal distribution relate to the shape of the distribution.\n",
    "\n",
    "## A3. The normal distribution, also known as the Gaussian distribution, is one of the most widely used probability distributions in statistics. It is characterized by its bell-shaped curve and is symmetric around its mean.\n",
    "\n",
    "## Measurement Errors: In many natural and social sciences, measurements are subject to errors. These errors often follow a normal distribution, especially when multiple sources of error are involved.\n",
    "\n",
    "## Biological Traits: Many biological traits such as height, weight, and blood pressure tend to follow a normal distribution in populations.\n",
    "\n",
    "## Financial Data: In finance, returns on investments or stock prices often follow a normal distribution, particularly when considered over longer periods and under certain conditions.\n",
    "\n",
    "## The parameters of the normal distribution are the mean (𝜇) and the standard deviation (𝜎). These parameters determine the location and spread of the distribution, respectively.\n",
    "\n",
    "## Mean (𝜇): The mean is the center of the distribution. It determines the location of the peak of the bell curve. Shifting the mean to the right or left moves the entire distribution along the horizontal axis.\n",
    "\n",
    "## Standard Deviation (𝜎): The standard deviation measures the spread or dispersion of the distribution. A smaller standard deviation results in a narrower, taller curve, while a larger standard deviation leads to a wider, flatter curve. The standard deviation controls how much individual data points vary from the mean.\n",
    "\n",
    "## Together, the mean and standard deviation fully characterize the normal distribution. Different combinations of mean and standard deviation can result in different shapes of the normal distribution, but regardless of the specific values, the overall bell-shaped curve remains the same."
   ]
  },
  {
   "cell_type": "code",
   "execution_count": null,
   "id": "a8f8c0f7-c893-4e4b-88e5-7286105e56b2",
   "metadata": {},
   "outputs": [],
   "source": [
    "## Q4: Explain the importance of Normal Distribution. Give a few real-life examples of Normal Distribution.\n",
    "\n",
    "##A4. Normal distribution or a bell shaped curve helps in understanding the area/frequency of distribution. Based on the proporties of normal distribution, it is understood that\n",
    "##68% of the data distribution is covered within 1 SD from mean\n",
    "##95% of the data distribution is covered within 2 SD from mean\n",
    "##~99% of the data distribution is covered within 3 SD from mean\n",
    "\n",
    "## The data is also symmetric about mean. Also, in a normal distribution, the mean, median and mode are the same point.\n",
    "\n",
    "## Some examples would be distribution of mortality rates, blood pressure, stock market movements, etc., follow normal distribution"
   ]
  },
  {
   "cell_type": "code",
   "execution_count": null,
   "id": "ce82d011-ed2e-4cae-8e45-7fbe287397ae",
   "metadata": {},
   "outputs": [],
   "source": [
    "## Q5: What is Bernaulli Distribution? Give an Example. What is the difference between Bernoulli Distribution and Binomial Distribution?\n",
    "\n",
    "## A5. The Bernoulli distribution is a discrete probability distribution representing the outcomes of a single Bernoulli trial, which can result in either success or failure. \n",
    "\n",
    "## Consider flipping a fair coin. Let 𝑋 be a random variable representing the outcome of the flip, where \n",
    "## 𝑋=1 represents \"heads\" (success) and \n",
    "## X=0 represents \"tails\" (failure). \n",
    "## Since the coin is fair, the distribution in this scenario is 0.5, 0.5 for both success and failure\n",
    "\n",
    "## The difference between the Bernoulli distribution and the Binomial distribution lies in their contexts and applications:\n",
    "\n",
    "## Bernoulli Distribution:\n",
    "\n",
    "## Represents a single trial with only two possible outcomes (success or failure).\n",
    "## It's used to model situations where there are only two possible outcomes for each trial.\n",
    "\n",
    "## Binomial Distribution:\n",
    "\n",
    "## Represents the number of successes in a fixed number of independent Bernoulli trials.\n",
    "## It arises from performing a fixed number of independent Bernoulli trials, each with the same probability of success (𝑝).\n",
    "## The Binomial distribution describes the probability distribution of the number of successes in a fixed number of trials (𝑛).\n"
   ]
  },
  {
   "cell_type": "code",
   "execution_count": null,
   "id": "5af51db9-0da9-4a96-afc7-92272acc2309",
   "metadata": {},
   "outputs": [],
   "source": [
    "## Q6. Consider a dataset with a mean of 50 and a standard deviation of 10. If we assume that the dataset is normally distributed, what is the probability that a randomly selected observation will be greater than 60? Use the appropriate formula and show your calculations.\n",
    "\n",
    "## A6. In case of a normal distribution, 50% of the data is below 50 and 50% above 50%\n",
    "\n",
    "## In case of area of the distribution less than or equal to 60, let us use the z-score to compute this.\n",
    "\n",
    "## z-score=(x-s)/SD\n",
    "##    =(60-50)/10\n",
    "##    =1\n",
    "\n",
    "## At z-score of 1, the area is 0.8413 or 84%. Therefore, area above 60 is (100%-84.13%)=15.87%=~16%\n",
    "## Thus, there is a 16% probability that a randomly selected variable is greater than 60"
   ]
  },
  {
   "cell_type": "code",
   "execution_count": null,
   "id": "330872f3-e1c1-4af6-b81e-0c1c98b45fa2",
   "metadata": {},
   "outputs": [],
   "source": [
    "## Q7: Explain uniform Distribution with an example.\n",
    "\n",
    "## A7. The uniform distribution is a continuous probability distribution where all outcomes within a given range are equally likely. In other words, every value within the range has the same probability of occurring. It is characterized by a constant probability density function (PDF) over its support interval.\n",
    "\n",
    "## The probability density function (PDF) of the uniform distribution is:\n",
    "\n",
    "## 𝑓(𝑥)=1/(𝑏−𝑎)\n",
    " \n",
    "## Where:\n",
    "\n",
    "## a is the lower bound of the interval,\n",
    "## b is the upper bound of the interval, and\n",
    "## b−a is the length of the interval.\n",
    "\n",
    "## Consider a fair six-sided die. When you roll the die, each outcome (1, 2, 3, 4, 5, or 6) has an equal chance of occurring. \n",
    "## This scenario fits the definition of a uniform distribution. Here, the support interval is from 1 to 6, and each outcome has a probability of 1/6 since there are six equally likely outcomes."
   ]
  },
  {
   "cell_type": "code",
   "execution_count": null,
   "id": "085ae71b-c66d-4486-8241-4671228aaacf",
   "metadata": {},
   "outputs": [],
   "source": [
    "## Q8: What is the z score? State the importance of the z score.\n",
    "\n",
    "## A8. The z score is a score or factor that tells us how many SD from the mean is a particular data point located.\n",
    "\n",
    "## Essentially, z-score can be used as a standardization factor in analyses. It basically tansforms a distribution into a standard distribution with mean=0 and SD=1\n",
    "\n",
    "## Thus, whenever we are dealing with datasets having different measurements and need to be used together in a model, z-score can be used to standardize it"
   ]
  },
  {
   "cell_type": "code",
   "execution_count": null,
   "id": "809f5752-5ba2-461c-844e-2f2f8bf6d473",
   "metadata": {},
   "outputs": [],
   "source": [
    "## Q9: What is Central Limit Theorem? State the significance of the Central Limit Theorem.\n",
    "\n",
    "## A9. The central limit theorem tends to draw a relationship between sample and population distribution.\n",
    "## It states that if a large number of samples are generated from a population (not following a normal distribution) and their sample means are laid out in a distribution, this new distribution would also follow a normal distribution and the new mean would be equivalent to the population mean.\n",
    "## In simpler terms, the Central Limit Theorem implies that even if the original population distribution is not normal, the distribution of sample means from that population will tend to be normal as the sample size increases.\n",
    "\n",
    "## The key significance is in Estimation and Hypothesis Testing wherein The CLT is crucial in estimation and hypothesis testing. It allows us to make inferences about population parameters based on sample statistics and to construct confidence intervals and conduct hypothesis tests."
   ]
  },
  {
   "cell_type": "code",
   "execution_count": null,
   "id": "c86b0f37-472c-453b-b9ad-f5f3e9b12dfb",
   "metadata": {},
   "outputs": [],
   "source": [
    "## Q10: State the assumptions of the Central Limit Theorem.\n",
    "\n",
    "## A10. Some of the assumptions are:\n",
    "\n",
    "## Independence: The random variables being sampled must be independent of each other. This means that the outcome of one observation does not affect the outcome of another.\n",
    "\n",
    "## Identically Distributed: The random variables being sampled must be identically distributed. This means that they are drawn from the same population and follow the same probability distribution with the same parameters.\n",
    "\n",
    "## Finite Variance: The random variables being sampled must have finite variance (𝜎2). This assumption ensures that the sample mean converges to a normal distribution as the sample size increases.\n",
    "\n",
    "## Random Sampling: The samples must be drawn randomly from the population of interest. This ensures that the sample is representative of the population and reduces the risk of bias.\n",
    "\n",
    "## Sample Size: While the CLT does not specify a minimum sample size, larger sample sizes tend to produce better approximations to the normal distribution. In practice, a sample size of at least 30 is often recommended, but the exact sample size required depends on the underlying population distribution.\n",
    "\n",
    "## Population Distribution: The CLT is most effective when the population distribution is not heavily skewed or has outliers. While it can still provide useful approximations for skewed distributions, extreme skewness or heavy-tailed distributions may require larger sample sizes for the CLT to apply effectively.\n"
   ]
  }
 ],
 "metadata": {
  "kernelspec": {
   "display_name": "Python 3 (ipykernel)",
   "language": "python",
   "name": "python3"
  },
  "language_info": {
   "codemirror_mode": {
    "name": "ipython",
    "version": 3
   },
   "file_extension": ".py",
   "mimetype": "text/x-python",
   "name": "python",
   "nbconvert_exporter": "python",
   "pygments_lexer": "ipython3",
   "version": "3.10.8"
  }
 },
 "nbformat": 4,
 "nbformat_minor": 5
}
