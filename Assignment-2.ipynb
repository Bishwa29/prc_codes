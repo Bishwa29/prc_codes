{
 "cells": [
  {
   "cell_type": "markdown",
   "id": "604317c4-dc65-4e89-9b79-35fcf9dc6af8",
   "metadata": {},
   "source": [
    "Assignment-2"
   ]
  },
  {
   "cell_type": "code",
   "execution_count": 2,
   "id": "b4d03076-4591-4fd7-99d8-1fbd84447673",
   "metadata": {},
   "outputs": [
    {
     "data": {
      "text/plain": [
       "'This is a multi-line comment\\nwith the use of\\nmulti-line strings'"
      ]
     },
     "execution_count": 2,
     "metadata": {},
     "output_type": "execute_result"
    }
   ],
   "source": [
    "##How do you comment code in Python? What are the different types of comments?\n",
    "\n",
    "#Single-line comments\n",
    "#this is a single line comment\n",
    "\n",
    "#Multi-line comments\n",
    "\"\"\"\n",
    "This is a multi-line comment\n",
    "with the use of\n",
    "multi-line strings\n",
    "\"\"\""
   ]
  },
  {
   "cell_type": "code",
   "execution_count": 3,
   "id": "1e40f73b-cd0d-490c-a928-7ff28e127ab0",
   "metadata": {},
   "outputs": [],
   "source": [
    "#What are variables in Python? How do you declare and assign values to variables?\n",
    "\n",
    "#Ans: Variable is a a symbolic name that is a reference or pointer to an object.\n",
    "#For example: n=500"
   ]
  },
  {
   "cell_type": "code",
   "execution_count": 5,
   "id": "55a68859-42d9-4eee-be06-e73371dbabc5",
   "metadata": {},
   "outputs": [
    {
     "data": {
      "text/plain": [
       "300.0"
      ]
     },
     "execution_count": 5,
     "metadata": {},
     "output_type": "execute_result"
    }
   ],
   "source": [
    "#How do you convert one data type to another in Python?\n",
    "\n",
    "#Ans: We can use the keywords such as int, float to convert the type from one to the other \n",
    "a=300\n",
    "f_var=float(a)\n",
    "f_var"
   ]
  },
  {
   "cell_type": "code",
   "execution_count": null,
   "id": "8f4fe6db-c755-4cc8-8651-0ff63dc4d125",
   "metadata": {},
   "outputs": [],
   "source": [
    "#How do you write and execute a Python script from the command line?\n",
    "\n",
    "#Ans: We need to open a command line and type the word python followed by the path to the script file."
   ]
  },
  {
   "cell_type": "code",
   "execution_count": 6,
   "id": "2431bf91-cccf-4e4a-9960-e1f59135d04a",
   "metadata": {},
   "outputs": [
    {
     "data": {
      "text/plain": [
       "[2, 3]"
      ]
     },
     "execution_count": 6,
     "metadata": {},
     "output_type": "execute_result"
    }
   ],
   "source": [
    "#Given a list my_list = [1, 2, 3, 4, 5], write the code to slice the list and obtain the sub-list [2, 3].\n",
    "\n",
    "my_list=[1,2,3,4,5]\n",
    "my_list[1:3]"
   ]
  },
  {
   "cell_type": "code",
   "execution_count": 7,
   "id": "c8e1bd42-ce0a-4cc8-b94e-00e1affd5217",
   "metadata": {},
   "outputs": [
    {
     "data": {
      "text/plain": [
       "complex"
      ]
     },
     "execution_count": 7,
     "metadata": {},
     "output_type": "execute_result"
    }
   ],
   "source": [
    "#What is a complex number in mathematics, and how is it represented in Python?\n",
    "\n",
    "#Ans: A complex number in mathematical terms is a number that is expressed in the form of a+ib where, a,b are real numbers and 'i' is an imaginary number called “iota”.\n",
    "#It is represented in the form of a+bj. Please see below example:\n",
    "\n",
    "comp_var=2+3j\n",
    "type(comp_var)"
   ]
  },
  {
   "cell_type": "code",
   "execution_count": 8,
   "id": "3ee41415-c0cd-4554-a4cd-8f0298ca58de",
   "metadata": {},
   "outputs": [
    {
     "data": {
      "text/plain": [
       "25"
      ]
     },
     "execution_count": 8,
     "metadata": {},
     "output_type": "execute_result"
    }
   ],
   "source": [
    "#What is the correct way to declare a variable named age and assign the value 25 to it?\n",
    "\n",
    "#Ans: Please see below:\n",
    "\n",
    "age=25\n",
    "age"
   ]
  },
  {
   "cell_type": "code",
   "execution_count": 11,
   "id": "96a49eff-f169-4526-9d51-42840bfe116d",
   "metadata": {},
   "outputs": [
    {
     "name": "stdout",
     "output_type": "stream",
     "text": [
      "The datatype of 9.99 is <class 'float'>\n"
     ]
    }
   ],
   "source": [
    "#Declare a variable named price and assign the value 9.99 to it. What data type does this variable belong to?\n",
    "\n",
    "#Ans: Please see below:\n",
    "\n",
    "price=9.99\n",
    "print(\"The datatype of {} is {}\".format(price,type(price)))"
   ]
  },
  {
   "cell_type": "code",
   "execution_count": 12,
   "id": "de987ddf-6f8b-42f9-a642-f26db0d4d3fa",
   "metadata": {},
   "outputs": [
    {
     "name": "stdout",
     "output_type": "stream",
     "text": [
      "My name is Bishwadeep Baksi\n"
     ]
    }
   ],
   "source": [
    "#Create a variable named name and assign your full name to it as a string. How would you print the value of this variable?\n",
    "\n",
    "name=\"Bishwadeep Baksi\"\n",
    "print(\"My name is {}\".format(name))\n"
   ]
  },
  {
   "cell_type": "code",
   "execution_count": 17,
   "id": "71036259-198b-407d-958e-8e3fec3300a0",
   "metadata": {},
   "outputs": [
    {
     "name": "stdout",
     "output_type": "stream",
     "text": [
      "World\n"
     ]
    }
   ],
   "source": [
    "#Given the string \"Hello, World!\", extract the substring \"World\".\n",
    "\n",
    "string_var=\"Hello,World!\"\n",
    "l=len(string_var)\n",
    "sub_string=string_var[6:l-1]\n",
    "print(\"{}\".format(sub_string))"
   ]
  },
  {
   "cell_type": "code",
   "execution_count": 19,
   "id": "1a49be01-4a30-40b9-b8a5-7905ff7dafc9",
   "metadata": {},
   "outputs": [
    {
     "data": {
      "text/plain": [
       "bool"
      ]
     },
     "execution_count": 19,
     "metadata": {},
     "output_type": "execute_result"
    }
   ],
   "source": [
    "#Create a variable named \"is_student\" and assign it a boolean value indicating whether you are currently a student or not.\n",
    "\n",
    "is_student=False\n",
    "type(is_student)"
   ]
  },
  {
   "cell_type": "code",
   "execution_count": null,
   "id": "de80a840-e3cf-49ed-b0a3-f86e1895293c",
   "metadata": {},
   "outputs": [],
   "source": []
  }
 ],
 "metadata": {
  "kernelspec": {
   "display_name": "Python 3 (ipykernel)",
   "language": "python",
   "name": "python3"
  },
  "language_info": {
   "codemirror_mode": {
    "name": "ipython",
    "version": 3
   },
   "file_extension": ".py",
   "mimetype": "text/x-python",
   "name": "python",
   "nbconvert_exporter": "python",
   "pygments_lexer": "ipython3",
   "version": "3.10.8"
  }
 },
 "nbformat": 4,
 "nbformat_minor": 5
}
